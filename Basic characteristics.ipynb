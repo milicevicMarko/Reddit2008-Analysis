{
 "cells": [
  {
   "cell_type": "markdown",
   "metadata": {},
   "source": [
    "# Basic characteristics"
   ]
  },
  {
   "cell_type": "markdown",
   "metadata": {},
   "source": [
    "## Importing graphs"
   ]
  },
  {
   "cell_type": "code",
   "execution_count": null,
   "metadata": {},
   "outputs": [],
   "source": [
    "#!pip install networkx\n",
    "import networkx as nx"
   ]
  },
  {
   "cell_type": "code",
   "execution_count": 4,
   "metadata": {},
   "outputs": [],
   "source": [
    "SNet = nx.read_gml(\"data/graphs/snet.gml\")\n",
    "SNetF = nx.read_gml(\"data/graphs/snetf.gml\")\n",
    "SNetT = nx.read_gml(\"data/graphs/snett.gml\")\n",
    "UserNet = nx.read_gml(\"data/graphs/usernet.gml\")"
   ]
  },
  {
   "cell_type": "code",
   "execution_count": 5,
   "metadata": {
    "scrolled": true
   },
   "outputs": [
    {
     "name": "stdout",
     "output_type": "stream",
     "text": [
      "Name: \n",
      "Type: Graph\n",
      "Number of nodes: 4191\n",
      "Number of edges: 135974\n",
      "Average degree:  64.8886\n",
      "Name: \n",
      "Type: Graph\n",
      "Number of nodes: 4191\n",
      "Number of edges: 6113\n",
      "Average degree:   2.9172\n",
      "Name: \n",
      "Type: Graph\n",
      "Number of nodes: 39\n",
      "Number of edges: 741\n",
      "Average degree:  38.0000\n",
      "Name: \n",
      "Type: DiGraph\n",
      "Number of nodes: 18975\n",
      "Number of edges: 102043\n",
      "Average in degree:   5.3778\n",
      "Average out degree:   5.3778\n"
     ]
    }
   ],
   "source": [
    "print(nx.info(SNet))\n",
    "print(nx.info(SNetF))\n",
    "print(nx.info(SNetT))\n",
    "print(nx.info(UserNet))"
   ]
  },
  {
   "cell_type": "markdown",
   "metadata": {},
   "source": [
    "##  [Gephi tool](www.gephi.org) shared code for import\n",
    "\n",
    "Shared code markdown for better reusability"
   ]
  },
  {
   "cell_type": "code",
   "execution_count": 6,
   "metadata": {},
   "outputs": [],
   "source": [
    "from IPython.display import Markdown as md\n",
    "import codecs\n",
    "\n",
    "def show_graph_model(path):\n",
    "    display(md(f\"<img src='{path}model.png' alt='model' width='500'/>\"))\n",
    "\n",
    "def show_density_report(path):\n",
    "    density_report_path=\"density-report/report.html\"\n",
    "    with open(path + density_report_path, \"r\", encoding='utf-8') as f:\n",
    "        text= f.read()\n",
    "        display(md(text)) \n",
    "        \n",
    "def show_distance_report(path):\n",
    "    distance_report_path=\"distance-report/report.html\"\n",
    "    with open(path + distance_report_path, \"r\", encoding='utf-8') as f:\n",
    "        text= f.read()\n",
    "        display(md(text)) "
   ]
  },
  {
   "cell_type": "markdown",
   "metadata": {},
   "source": [
    "## General python shared code"
   ]
  },
  {
   "cell_type": "markdown",
   "metadata": {},
   "source": [
    "# SNet"
   ]
  },
  {
   "cell_type": "code",
   "execution_count": 7,
   "metadata": {},
   "outputs": [
    {
     "name": "stdout",
     "output_type": "stream",
     "text": [
      "Name: \n",
      "Type: Graph\n",
      "Number of nodes: 4191\n",
      "Number of edges: 135974\n",
      "Average degree:  64.8886\n"
     ]
    }
   ],
   "source": [
    "print(nx.info(SNet))"
   ]
  },
  {
   "cell_type": "markdown",
   "metadata": {},
   "source": [
    "</HTML><img src=\"data/gephi/SNet/model.png\" alt=\"model\" width=\"500\"/>"
   ]
  },
  {
   "cell_type": "markdown",
   "metadata": {},
   "source": [
    "## 7 Graph density"
   ]
  },
  {
   "cell_type": "markdown",
   "metadata": {},
   "source": [
    "<HTML> <BODY> <h3>Graph Density  Report - Results:</h3> <hr>Density: <b>0.015</b><br />"
   ]
  },
  {
   "cell_type": "markdown",
   "metadata": {},
   "source": [
    "## 8 Avrage Distance in graph & The diameter"
   ]
  },
  {
   "cell_type": "markdown",
   "metadata": {},
   "source": [
    "<HTML> <BODY> <h3>Graph Distance  Report - Results:</h3> <hr>Diameter: <b>5</b><br />Radius: <b>0</b><br />Average Path length: <b>2.1072775194289464</b><br />\n",
    "    <table>\n",
    "  <tr>\n",
    "    <td><IMG SRC=\"data/gephi/SNet/distance-report/Betweenness Centrality Distribution.png\" WIDTH=\"600\" HEIGHT=\"400\" BORDER=\"0\" USEMAP=\"#chart\"></IMG></td>\n",
    "    <td><IMG SRC=\"data/gephi/SNet/distance-report/Closeness Centrality Distribution.png\" WIDTH=\"600\" HEIGHT=\"400\" BORDER=\"0\" USEMAP=\"#chart\"></IMG></td>\n",
    "  </tr>\n",
    "  <tr>\n",
    "    <td><IMG SRC=\"data/gephi/SNet/distance-report/Eccentricity Distribution.png\" WIDTH=\"600\" HEIGHT=\"400\" BORDER=\"0\" USEMAP=\"#chart\"></IMG></td>\n",
    "    <td><IMG SRC=\"data/gephi/SNet/distance-report/Harmonic Closeness Centrality Distribution.png\" WIDTH=\"600\" HEIGHT=\"400\" BORDER=\"0\" USEMAP=\"#chart\"></IMG></td>\n",
    "  </tr>\n",
    "</table>"
   ]
  },
  {
   "cell_type": "markdown",
   "metadata": {},
   "source": [
    "## 9 Connectivity"
   ]
  },
  {
   "cell_type": "markdown",
   "metadata": {},
   "source": [
    "<HTML>\n",
    "    <BODY> \n",
    "        <h3>Connected Components Report - Results:</h3>\n",
    "        Number of Weakly Connected Components: <b>799</b><br/>\n",
    "        There is <b>1</b> Gigantic component - The core is the largest part of the graph\n",
    "        <table>\n",
    "            <tr>\n",
    "                <td><IMG SRC=\"data/gephi/SNet/model.png\" WIDTH=\"300\" HEIGHT=\"300\" BORDER=\"0\" USEMAP=\"#chart\"></IMG></td>\n",
    "                <td><IMG SRC=\"data/gephi/SNet/connected-components-report/cc-size-distribution.png\" WIDTH=\"480\" HEIGHT=\"320\" BORDER=\"0\" USEMAP=\"#chart\"></IMG></td>\n",
    "            </tr>\n",
    "        </table>\n",
    "        </BODY></HTML>"
   ]
  },
  {
   "cell_type": "markdown",
   "metadata": {},
   "source": [
    "## 10 Average, Global and Local Clusterization"
   ]
  },
  {
   "cell_type": "markdown",
   "metadata": {},
   "source": [
    "<HTML> <BODY> <h3> Clustering Coefficient Metric Report - Result: </h3> <hr>Average Clustering Coefficient: <b>0.907</b><br />Total triangles: <b>6598248</b><br />The Average Clustering Coefficient is the mean value of individual coefficients.<br /><br /><IMG SRC=\"data\\gephi\\SNet\\clustering-coefficient-metric-report\\clustering-coefficient.png\" WIDTH=\"480\" HEIGHT=\"320\" BORDER=\"0\" USEMAP=\"#chart\"></IMG></BODY> </HTML>"
   ]
  },
  {
   "cell_type": "code",
   "execution_count": 21,
   "metadata": {},
   "outputs": [],
   "source": [
    "def clustering(graph, weight=None):\n",
    "    average_clustering = nx.average_clustering(graph, weight=weight)\n",
    "    clustering_coefficient = [coefficient for coefficient in nx.clustering(graph, weight=weight).values() if coefficient > 0]\n",
    "    global_clustering = max(clustering_coefficient)\n",
    "    return average_clustering, global_clustering, clustering_coefficient"
   ]
  },
  {
   "cell_type": "code",
   "execution_count": 9,
   "metadata": {},
   "outputs": [],
   "source": [
    "def create_erdos_renyi(graph, directed):\n",
    "    n = graph.number_of_nodes()\n",
    "    m = graph.number_of_edges()\n",
    "    p = (2 * float(m)) / (n * (n - 1))\n",
    "    return nx.erdos_renyi_graph(n, p, directed=directed)"
   ]
  },
  {
   "cell_type": "code",
   "execution_count": 10,
   "metadata": {},
   "outputs": [],
   "source": [
    "def print_clustering_coeffs(name, average_clustering, global_clustering):\n",
    "    print(f\"--------------------------\\t{name}'s \\t--------------------------\")\n",
    "    print(f\"Average clustering coefficient: {round(average_clustering, 6)}\")\n",
    "    print(f\"Global clustering coefficient:  {round(global_clustering, 6)}\")\n",
    "    print()\n",
    "    \n",
    "def group_prints(g_name, g_tuple_w, g_tuple_nw, er_tuple):\n",
    "    print_clustering_coeffs(f\"{g_name} weighted\", g_tuple_w[0], g_tuple_w[1])\n",
    "    print_clustering_coeffs(f\"{g_name} not-weighted\", g_tuple_nw[0], g_tuple_nw[1])\n",
    "    print_clustering_coeffs(\"Erdos-Renyi\", er_tuple[0], er_tuple[1])"
   ]
  },
  {
   "cell_type": "code",
   "execution_count": 11,
   "metadata": {},
   "outputs": [],
   "source": [
    "import matplotlib.pyplot as plt\n",
    "\n",
    "def draw_versus_er_histograms(g_name, g_cc, er_cc):\n",
    "    fig, (ax1, ax2) = plt.subplots(1, 2)\n",
    "    fig.suptitle(f\"{g_name} vs Erdos-Renyi clustering\")\n",
    "    ax1.hist(g_cc, bins=50)\n",
    "    ax2.hist(er_cc, bins=50)"
   ]
  },
  {
   "cell_type": "code",
   "execution_count": 19,
   "metadata": {},
   "outputs": [],
   "source": [
    "def test_against_er(graph, graph_name, directed=False):\n",
    "    clustering_tuple_w = clustering(graph, \"weight\")\n",
    "    clustering_tuple = clustering(graph)\n",
    "    \n",
    "    er = create_erdos_renyi(graph, directed)\n",
    "    er_clustering_tuple = clustering(er)\n",
    "    \n",
    "    group_prints(graph_name, clustering_tuple_w, clustering_tuple, er_clustering_tuple)\n",
    "    \n",
    "    draw_versus_er_histograms(graph_name, clustering_tuple[2], er_clustering_tuple[2])\n",
    "    \n",
    "    return (clustering_tuple, clustering_tuple_w, er, er_clustering_tuple)"
   ]
  },
  {
   "cell_type": "code",
   "execution_count": 22,
   "metadata": {},
   "outputs": [
    {
     "name": "stdout",
     "output_type": "stream",
     "text": [
      "--------------------------\tSNet weighted's \t--------------------------\n",
      "Average clustering coefficient: 0.000247\n",
      "Global clustering coefficient:  0.001219\n",
      "\n",
      "--------------------------\tSNet not-weighted's \t--------------------------\n",
      "Average clustering coefficient: 0.618428\n",
      "Global clustering coefficient:  1.0\n",
      "\n",
      "--------------------------\tErdos-Renyi's \t--------------------------\n",
      "Average clustering coefficient: 0.015422\n",
      "Global clustering coefficient:  0.027223\n",
      "\n"
     ]
    },
    {
     "data": {
      "image/png": "[encoded data removed]",
      "text/plain": [
       "<Figure size 432x288 with 2 Axes>"
      ]
     },
     "metadata": {
      "needs_background": "light"
     },
     "output_type": "display_data"
    }
   ],
   "source": [
    "snet_clustering_results = test_against_er(SNet, \"SNet\")"
   ]
  },
  {
   "cell_type": "markdown",
   "metadata": {},
   "source": [
    "We can observe that there is a lot of well connected nodes - most of them are at 1.\n",
    "\n",
    "We can conclude that there is in fact a **pronounced clusterization** - one big cluster"
   ]
  },
  {
   "cell_type": "code",
   "execution_count": 24,
   "metadata": {},
   "outputs": [
    {
     "name": "stdout",
     "output_type": "stream",
     "text": [
      "--------------------------\tSNetF weighted's \t--------------------------\n",
      "Average clustering coefficient: 0.000523\n",
      "Global clustering coefficient:  0.014698\n",
      "\n",
      "--------------------------\tSNetF not-weighted's \t--------------------------\n",
      "Average clustering coefficient: 0.046684\n",
      "Global clustering coefficient:  1.0\n",
      "\n",
      "--------------------------\tErdos-Renyi's \t--------------------------\n",
      "Average clustering coefficient: 0.000517\n",
      "Global clustering coefficient:  1.0\n",
      "\n"
     ]
    },
    {
     "data": {
      "image/png": "[encoded data removed]",
      "text/plain": [
       "<Figure size 432x288 with 2 Axes>"
      ]
     },
     "metadata": {
      "needs_background": "light"
     },
     "output_type": "display_data"
    }
   ],
   "source": [
    "snetf_clustering_results = test_against_er(SNetF, \"SNetF\")"
   ]
  },
  {
   "cell_type": "code",
   "execution_count": 23,
   "metadata": {
    "scrolled": false
   },
   "outputs": [
    {
     "name": "stdout",
     "output_type": "stream",
     "text": [
      "--------------------------\tSNetT weighted's \t--------------------------\n",
      "Average clustering coefficient: 0.060745\n",
      "Global clustering coefficient:  0.139317\n",
      "\n",
      "--------------------------\tSNetT not-weighted's \t--------------------------\n",
      "Average clustering coefficient: 1.0\n",
      "Global clustering coefficient:  1.0\n",
      "\n",
      "--------------------------\tErdos-Renyi's \t--------------------------\n",
      "Average clustering coefficient: 1.0\n",
      "Global clustering coefficient:  1.0\n",
      "\n"
     ]
    },
    {
     "data": {
      "image/png": "[encoded data removed]",
      "text/plain": [
       "<Figure size 432x288 with 2 Axes>"
      ]
     },
     "metadata": {
      "needs_background": "light"
     },
     "output_type": "display_data"
    }
   ],
   "source": [
    "snett_clustering_results = test_against_er(SNetT, \"SNetT\")"
   ]
  },
  {
   "cell_type": "code",
   "execution_count": 25,
   "metadata": {},
   "outputs": [
    {
     "name": "stdout",
     "output_type": "stream",
     "text": [
      "--------------------------\tUserNet weighted's \t--------------------------\n",
      "Average clustering coefficient: 0.000379\n",
      "Global clustering coefficient:  0.085552\n",
      "\n",
      "--------------------------\tUserNet not-weighted's \t--------------------------\n",
      "Average clustering coefficient: 0.028292\n",
      "Global clustering coefficient:  1.0\n",
      "\n",
      "--------------------------\tErdos-Renyi's \t--------------------------\n",
      "Average clustering coefficient: 0.000589\n",
      "Global clustering coefficient:  0.015152\n",
      "\n"
     ]
    },
    {
     "data": {
      "image/png": "[encoded data removed]",
      "text/plain": [
       "<Figure size 432x288 with 2 Axes>"
      ]
     },
     "metadata": {
      "needs_background": "light"
     },
     "output_type": "display_data"
    }
   ],
   "source": [
    "usernet_clustering_results = test_against_er(UserNet, \"UserNet\", directed=True)"
   ]
  },
  {
   "cell_type": "markdown",
   "metadata": {},
   "source": [
    "## 11 *Small-world* properties? (Taking 8 and 10 into consideration)"
   ]
  },
  {
   "cell_type": "markdown",
   "metadata": {},
   "source": [
    "Small world property is defined by:\n",
    "\n",
    "    * small average distance of any two nodes against the whole network\n",
    "    * high clustering degree\n",
    "    \n",
    "[Wiki Small world article](https://en.wikipedia.org/wiki/Small-world_network):\n",
    "\n",
    "$$\n",
    "     \\sigma = \\frac{\\frac{C}{Cr}}{\\frac{L}{Lr}} > 1  => small world\n",
    "$$\n"
   ]
  },
  {
   "cell_type": "code",
   "execution_count": 27,
   "metadata": {},
   "outputs": [],
   "source": [
    "def small_world_properties(graph_name, graph, average_distance, clustering_degree, er_avg_path, er_avg_cluster):\n",
    "    print(f\"----------------------{graph_name}----------------------\")\n",
    "    print(f\"Average distance: {average_distance}\")\n",
    "    print(f\"Clustering degree: {clustering_degree}\")\n",
    "    print(f\"Does {graph_name} show small-world properties? {average_distance > 0.1 and clustering_degree > 0.1}\")\n",
    "    print(f\"Wiki says: {small_world_properties_wiki(average_distance, clustering_degree, er_avg_path, er_avg_cluster)}\")\n",
    "#     print(f\"Network X Sigma: {nx.sigma(graph) > 1}\")\n",
    "#     print(f\"Network X Omega: {nx.omega(graph) == 0}\")\n",
    "#     LTE\n",
    "    print(\"----------------------------------------------\")"
   ]
  },
  {
   "cell_type": "code",
   "execution_count": 38,
   "metadata": {},
   "outputs": [],
   "source": [
    "def small_world_properties2(graph_name, graph):\n",
    "    print(f\"Does {graph_name} show small-world properties?\")\n",
    "    sigma = nx.sigma(graph)\n",
    "    print(f\"{sigma >= 1}\")"
   ]
  },
  {
   "cell_type": "code",
   "execution_count": 28,
   "metadata": {},
   "outputs": [],
   "source": [
    "def small_world_properties_wiki(g_avg_path, g_avg_cluster, er_avg_path, er_avg_cluster):\n",
    "    path_ratio = float(g_avg_path) / er_avg_path\n",
    "    cluster_ratio = float(g_avg_cluster) / er_avg_cluster\n",
    "    return (cluster_ratio / path_ratio > 1.0)"
   ]
  },
  {
   "cell_type": "code",
   "execution_count": 17,
   "metadata": {
    "scrolled": true
   },
   "outputs": [
    {
     "name": "stdout",
     "output_type": "stream",
     "text": [
      "----------------------SNet----------------------\n",
      "Average distance: 2.10728\n",
      "Clustering degree: 0.907\n",
      "Does SNet show small-world properties? True\n",
      "Wiki says: True\n",
      "----------------------------------------------\n"
     ]
    }
   ],
   "source": [
    "small_world_properties(\"SNet\", SNet, 1, 0.907, nx.average_shortest_path_length(er_snet), er_snet_clustering_tuple[0])"
   ]
  },
  {
   "cell_type": "code",
   "execution_count": 29,
   "metadata": {
    "scrolled": true
   },
   "outputs": [
    {
     "name": "stdout",
     "output_type": "stream",
     "text": [
      "----------------------SNet----------------------\n",
      "Average distance: 2.107\n",
      "Clustering degree: 0.907\n",
      "Does SNet show small-world properties? True\n",
      "Wiki says: True\n",
      "----------------------------------------------\n"
     ]
    }
   ],
   "source": [
    "small_world_properties(\"SNet\", SNet, 2.107, 0.907, nx.average_shortest_path_length(snet_clustering_results[2]), snet_clustering_results[3][0])"
   ]
  },
  {
   "cell_type": "code",
   "execution_count": 34,
   "metadata": {},
   "outputs": [
    {
     "ename": "NetworkXError",
     "evalue": "Graph is not connected.",
     "output_type": "error",
     "traceback": [
      "\u001b[1;31m---------------------------------------------------------------------------\u001b[0m",
      "\u001b[1;31mNetworkXError\u001b[0m                             Traceback (most recent call last)",
      "\u001b[1;32m<ipython-input-34-753e85dc3661>\u001b[0m in \u001b[0;36m<module>\u001b[1;34m\u001b[0m\n\u001b[1;32m----> 1\u001b[1;33m \u001b[0msmall_world_properties\u001b[0m\u001b[1;33m(\u001b[0m\u001b[1;34m\"SNetF\"\u001b[0m\u001b[1;33m,\u001b[0m \u001b[0mSNetF\u001b[0m\u001b[1;33m,\u001b[0m \u001b[1;36m1.814\u001b[0m\u001b[1;33m,\u001b[0m \u001b[1;36m0.889\u001b[0m\u001b[1;33m,\u001b[0m \u001b[0mnx\u001b[0m\u001b[1;33m.\u001b[0m\u001b[0maverage_shortest_path_length\u001b[0m\u001b[1;33m(\u001b[0m\u001b[0msnetf_clustering_results\u001b[0m\u001b[1;33m[\u001b[0m\u001b[1;36m2\u001b[0m\u001b[1;33m]\u001b[0m\u001b[1;33m)\u001b[0m\u001b[1;33m,\u001b[0m \u001b[0msnetf_clustering_results\u001b[0m\u001b[1;33m[\u001b[0m\u001b[1;36m3\u001b[0m\u001b[1;33m]\u001b[0m\u001b[1;33m[\u001b[0m\u001b[1;36m0\u001b[0m\u001b[1;33m]\u001b[0m\u001b[1;33m)\u001b[0m\u001b[1;33m\u001b[0m\u001b[1;33m\u001b[0m\u001b[0m\n\u001b[0m",
      "\u001b[1;32mC:\\ProgramData\\Anaconda3\\lib\\site-packages\\networkx\\algorithms\\shortest_paths\\generic.py\u001b[0m in \u001b[0;36maverage_shortest_path_length\u001b[1;34m(G, weight, method)\u001b[0m\n\u001b[0;32m    387\u001b[0m         \u001b[1;32mraise\u001b[0m \u001b[0mnx\u001b[0m\u001b[1;33m.\u001b[0m\u001b[0mNetworkXError\u001b[0m\u001b[1;33m(\u001b[0m\u001b[1;34m\"Graph is not weakly connected.\"\u001b[0m\u001b[1;33m)\u001b[0m\u001b[1;33m\u001b[0m\u001b[1;33m\u001b[0m\u001b[0m\n\u001b[0;32m    388\u001b[0m     \u001b[1;32mif\u001b[0m \u001b[1;32mnot\u001b[0m \u001b[0mG\u001b[0m\u001b[1;33m.\u001b[0m\u001b[0mis_directed\u001b[0m\u001b[1;33m(\u001b[0m\u001b[1;33m)\u001b[0m \u001b[1;32mand\u001b[0m \u001b[1;32mnot\u001b[0m \u001b[0mnx\u001b[0m\u001b[1;33m.\u001b[0m\u001b[0mis_connected\u001b[0m\u001b[1;33m(\u001b[0m\u001b[0mG\u001b[0m\u001b[1;33m)\u001b[0m\u001b[1;33m:\u001b[0m\u001b[1;33m\u001b[0m\u001b[1;33m\u001b[0m\u001b[0m\n\u001b[1;32m--> 389\u001b[1;33m         \u001b[1;32mraise\u001b[0m \u001b[0mnx\u001b[0m\u001b[1;33m.\u001b[0m\u001b[0mNetworkXError\u001b[0m\u001b[1;33m(\u001b[0m\u001b[1;34m\"Graph is not connected.\"\u001b[0m\u001b[1;33m)\u001b[0m\u001b[1;33m\u001b[0m\u001b[1;33m\u001b[0m\u001b[0m\n\u001b[0m\u001b[0;32m    390\u001b[0m \u001b[1;33m\u001b[0m\u001b[0m\n\u001b[0;32m    391\u001b[0m     \u001b[1;31m# Compute all-pairs shortest paths.\u001b[0m\u001b[1;33m\u001b[0m\u001b[1;33m\u001b[0m\u001b[1;33m\u001b[0m\u001b[0m\n",
      "\u001b[1;31mNetworkXError\u001b[0m: Graph is not connected."
     ]
    }
   ],
   "source": [
    "small_world_properties(\"SNetF\", SNetF, 1.814, 0.889, nx.average_shortest_path_length(snetf_clustering_results[2]), snetf_clustering_results[3][0])"
   ]
  },
  {
   "cell_type": "code",
   "execution_count": 35,
   "metadata": {
    "scrolled": true
   },
   "outputs": [
    {
     "name": "stdout",
     "output_type": "stream",
     "text": [
      "----------------------SNetT----------------------\n",
      "Average distance: 1\n",
      "Clustering degree: 1\n",
      "Does SNetT show small-world properties? True\n",
      "Wiki says: False\n",
      "----------------------------------------------\n"
     ]
    }
   ],
   "source": [
    "small_world_properties(\"SNetT\", SNetT, 1, 1, nx.average_shortest_path_length(snett_clustering_results[2]), snett_clustering_results[3][0])"
   ]
  },
  {
   "cell_type": "code",
   "execution_count": 40,
   "metadata": {
    "scrolled": true
   },
   "outputs": [
    {
     "name": "stdout",
     "output_type": "stream",
     "text": [
      "Does SNetT show small-world properties?\n"
     ]
    },
    {
     "ename": "KeyboardInterrupt",
     "evalue": "",
     "output_type": "error",
     "traceback": [
      "\u001b[1;31m---------------------------------------------------------------------------\u001b[0m",
      "\u001b[1;31mKeyboardInterrupt\u001b[0m                         Traceback (most recent call last)",
      "\u001b[1;32m<ipython-input-40-a5c70177035b>\u001b[0m in \u001b[0;36m<module>\u001b[1;34m\u001b[0m\n\u001b[1;32m----> 1\u001b[1;33m \u001b[0msmall_world_properties2\u001b[0m\u001b[1;33m(\u001b[0m\u001b[1;34m\"SNetT\"\u001b[0m\u001b[1;33m,\u001b[0m \u001b[0mSNetT\u001b[0m\u001b[1;33m)\u001b[0m\u001b[1;33m\u001b[0m\u001b[1;33m\u001b[0m\u001b[0m\n\u001b[0m",
      "\u001b[1;32m<ipython-input-38-ca971230000d>\u001b[0m in \u001b[0;36msmall_world_properties2\u001b[1;34m(graph_name, graph)\u001b[0m\n\u001b[0;32m      1\u001b[0m \u001b[1;32mdef\u001b[0m \u001b[0msmall_world_properties2\u001b[0m\u001b[1;33m(\u001b[0m\u001b[0mgraph_name\u001b[0m\u001b[1;33m,\u001b[0m \u001b[0mgraph\u001b[0m\u001b[1;33m)\u001b[0m\u001b[1;33m:\u001b[0m\u001b[1;33m\u001b[0m\u001b[1;33m\u001b[0m\u001b[0m\n\u001b[0;32m      2\u001b[0m     \u001b[0mprint\u001b[0m\u001b[1;33m(\u001b[0m\u001b[1;34mf\"Does {graph_name} show small-world properties?\"\u001b[0m\u001b[1;33m)\u001b[0m\u001b[1;33m\u001b[0m\u001b[1;33m\u001b[0m\u001b[0m\n\u001b[1;32m----> 3\u001b[1;33m     \u001b[0msigma\u001b[0m \u001b[1;33m=\u001b[0m \u001b[0mnx\u001b[0m\u001b[1;33m.\u001b[0m\u001b[0msigma\u001b[0m\u001b[1;33m(\u001b[0m\u001b[0mgraph\u001b[0m\u001b[1;33m)\u001b[0m\u001b[1;33m\u001b[0m\u001b[1;33m\u001b[0m\u001b[0m\n\u001b[0m\u001b[0;32m      4\u001b[0m     \u001b[0mprint\u001b[0m\u001b[1;33m(\u001b[0m\u001b[1;34mf\"{sigma >= 1}\"\u001b[0m\u001b[1;33m)\u001b[0m\u001b[1;33m\u001b[0m\u001b[1;33m\u001b[0m\u001b[0m\n",
      "\u001b[1;32m<decorator-gen-527>\u001b[0m in \u001b[0;36msigma\u001b[1;34m(G, niter, nrand, seed)\u001b[0m\n",
      "\u001b[1;32mC:\\ProgramData\\Anaconda3\\lib\\site-packages\\networkx\\utils\\decorators.py\u001b[0m in \u001b[0;36m_random_state\u001b[1;34m(func, *args, **kwargs)\u001b[0m\n\u001b[0;32m    467\u001b[0m         \u001b[0mnew_args\u001b[0m \u001b[1;33m=\u001b[0m \u001b[0mlist\u001b[0m\u001b[1;33m(\u001b[0m\u001b[0margs\u001b[0m\u001b[1;33m)\u001b[0m\u001b[1;33m\u001b[0m\u001b[1;33m\u001b[0m\u001b[0m\n\u001b[0;32m    468\u001b[0m         \u001b[0mnew_args\u001b[0m\u001b[1;33m[\u001b[0m\u001b[0mrandom_state_index\u001b[0m\u001b[1;33m]\u001b[0m \u001b[1;33m=\u001b[0m \u001b[0mrandom_state\u001b[0m\u001b[1;33m\u001b[0m\u001b[1;33m\u001b[0m\u001b[0m\n\u001b[1;32m--> 469\u001b[1;33m         \u001b[1;32mreturn\u001b[0m \u001b[0mfunc\u001b[0m\u001b[1;33m(\u001b[0m\u001b[1;33m*\u001b[0m\u001b[0mnew_args\u001b[0m\u001b[1;33m,\u001b[0m \u001b[1;33m**\u001b[0m\u001b[0mkwargs\u001b[0m\u001b[1;33m)\u001b[0m\u001b[1;33m\u001b[0m\u001b[1;33m\u001b[0m\u001b[0m\n\u001b[0m\u001b[0;32m    470\u001b[0m \u001b[1;33m\u001b[0m\u001b[0m\n\u001b[0;32m    471\u001b[0m     \u001b[1;32mreturn\u001b[0m \u001b[0m_random_state\u001b[0m\u001b[1;33m\u001b[0m\u001b[1;33m\u001b[0m\u001b[0m\n",
      "\u001b[1;32m<decorator-gen-526>\u001b[0m in \u001b[0;36msigma\u001b[1;34m(G, niter, nrand, seed)\u001b[0m\n",
      "\u001b[1;32mC:\\ProgramData\\Anaconda3\\lib\\site-packages\\networkx\\utils\\decorators.py\u001b[0m in \u001b[0;36m_not_implemented_for\u001b[1;34m(not_implement_for_func, *args, **kwargs)\u001b[0m\n\u001b[0;32m     76\u001b[0m             \u001b[1;32mraise\u001b[0m \u001b[0mnx\u001b[0m\u001b[1;33m.\u001b[0m\u001b[0mNetworkXNotImplemented\u001b[0m\u001b[1;33m(\u001b[0m\u001b[0mmsg\u001b[0m\u001b[1;33m)\u001b[0m\u001b[1;33m\u001b[0m\u001b[1;33m\u001b[0m\u001b[0m\n\u001b[0;32m     77\u001b[0m         \u001b[1;32melse\u001b[0m\u001b[1;33m:\u001b[0m\u001b[1;33m\u001b[0m\u001b[1;33m\u001b[0m\u001b[0m\n\u001b[1;32m---> 78\u001b[1;33m             \u001b[1;32mreturn\u001b[0m \u001b[0mnot_implement_for_func\u001b[0m\u001b[1;33m(\u001b[0m\u001b[1;33m*\u001b[0m\u001b[0margs\u001b[0m\u001b[1;33m,\u001b[0m \u001b[1;33m**\u001b[0m\u001b[0mkwargs\u001b[0m\u001b[1;33m)\u001b[0m\u001b[1;33m\u001b[0m\u001b[1;33m\u001b[0m\u001b[0m\n\u001b[0m\u001b[0;32m     79\u001b[0m \u001b[1;33m\u001b[0m\u001b[0m\n\u001b[0;32m     80\u001b[0m     \u001b[1;32mreturn\u001b[0m \u001b[0m_not_implemented_for\u001b[0m\u001b[1;33m\u001b[0m\u001b[1;33m\u001b[0m\u001b[0m\n",
      "\u001b[1;32m<decorator-gen-525>\u001b[0m in \u001b[0;36msigma\u001b[1;34m(G, niter, nrand, seed)\u001b[0m\n",
      "\u001b[1;32mC:\\ProgramData\\Anaconda3\\lib\\site-packages\\networkx\\utils\\decorators.py\u001b[0m in \u001b[0;36m_not_implemented_for\u001b[1;34m(not_implement_for_func, *args, **kwargs)\u001b[0m\n\u001b[0;32m     76\u001b[0m             \u001b[1;32mraise\u001b[0m \u001b[0mnx\u001b[0m\u001b[1;33m.\u001b[0m\u001b[0mNetworkXNotImplemented\u001b[0m\u001b[1;33m(\u001b[0m\u001b[0mmsg\u001b[0m\u001b[1;33m)\u001b[0m\u001b[1;33m\u001b[0m\u001b[1;33m\u001b[0m\u001b[0m\n\u001b[0;32m     77\u001b[0m         \u001b[1;32melse\u001b[0m\u001b[1;33m:\u001b[0m\u001b[1;33m\u001b[0m\u001b[1;33m\u001b[0m\u001b[0m\n\u001b[1;32m---> 78\u001b[1;33m             \u001b[1;32mreturn\u001b[0m \u001b[0mnot_implement_for_func\u001b[0m\u001b[1;33m(\u001b[0m\u001b[1;33m*\u001b[0m\u001b[0margs\u001b[0m\u001b[1;33m,\u001b[0m \u001b[1;33m**\u001b[0m\u001b[0mkwargs\u001b[0m\u001b[1;33m)\u001b[0m\u001b[1;33m\u001b[0m\u001b[1;33m\u001b[0m\u001b[0m\n\u001b[0m\u001b[0;32m     79\u001b[0m \u001b[1;33m\u001b[0m\u001b[0m\n\u001b[0;32m     80\u001b[0m     \u001b[1;32mreturn\u001b[0m \u001b[0m_not_implemented_for\u001b[0m\u001b[1;33m\u001b[0m\u001b[1;33m\u001b[0m\u001b[0m\n",
      "\u001b[1;32mC:\\ProgramData\\Anaconda3\\lib\\site-packages\\networkx\\algorithms\\smallworld.py\u001b[0m in \u001b[0;36msigma\u001b[1;34m(G, niter, nrand, seed)\u001b[0m\n\u001b[0;32m    290\u001b[0m     \u001b[0mrandMetrics\u001b[0m \u001b[1;33m=\u001b[0m \u001b[1;33m{\u001b[0m\u001b[1;34m\"C\"\u001b[0m\u001b[1;33m:\u001b[0m \u001b[1;33m[\u001b[0m\u001b[1;33m]\u001b[0m\u001b[1;33m,\u001b[0m \u001b[1;34m\"L\"\u001b[0m\u001b[1;33m:\u001b[0m \u001b[1;33m[\u001b[0m\u001b[1;33m]\u001b[0m\u001b[1;33m}\u001b[0m\u001b[1;33m\u001b[0m\u001b[1;33m\u001b[0m\u001b[0m\n\u001b[0;32m    291\u001b[0m     \u001b[1;32mfor\u001b[0m \u001b[0mi\u001b[0m \u001b[1;32min\u001b[0m \u001b[0mrange\u001b[0m\u001b[1;33m(\u001b[0m\u001b[0mnrand\u001b[0m\u001b[1;33m)\u001b[0m\u001b[1;33m:\u001b[0m\u001b[1;33m\u001b[0m\u001b[1;33m\u001b[0m\u001b[0m\n\u001b[1;32m--> 292\u001b[1;33m         \u001b[0mGr\u001b[0m \u001b[1;33m=\u001b[0m \u001b[0mrandom_reference\u001b[0m\u001b[1;33m(\u001b[0m\u001b[0mG\u001b[0m\u001b[1;33m,\u001b[0m \u001b[0mniter\u001b[0m\u001b[1;33m=\u001b[0m\u001b[0mniter\u001b[0m\u001b[1;33m,\u001b[0m \u001b[0mseed\u001b[0m\u001b[1;33m=\u001b[0m\u001b[0mseed\u001b[0m\u001b[1;33m)\u001b[0m\u001b[1;33m\u001b[0m\u001b[1;33m\u001b[0m\u001b[0m\n\u001b[0m\u001b[0;32m    293\u001b[0m         \u001b[0mrandMetrics\u001b[0m\u001b[1;33m[\u001b[0m\u001b[1;34m\"C\"\u001b[0m\u001b[1;33m]\u001b[0m\u001b[1;33m.\u001b[0m\u001b[0mappend\u001b[0m\u001b[1;33m(\u001b[0m\u001b[0mnx\u001b[0m\u001b[1;33m.\u001b[0m\u001b[0mtransitivity\u001b[0m\u001b[1;33m(\u001b[0m\u001b[0mGr\u001b[0m\u001b[1;33m)\u001b[0m\u001b[1;33m)\u001b[0m\u001b[1;33m\u001b[0m\u001b[1;33m\u001b[0m\u001b[0m\n\u001b[0;32m    294\u001b[0m         \u001b[0mrandMetrics\u001b[0m\u001b[1;33m[\u001b[0m\u001b[1;34m\"L\"\u001b[0m\u001b[1;33m]\u001b[0m\u001b[1;33m.\u001b[0m\u001b[0mappend\u001b[0m\u001b[1;33m(\u001b[0m\u001b[0mnx\u001b[0m\u001b[1;33m.\u001b[0m\u001b[0maverage_shortest_path_length\u001b[0m\u001b[1;33m(\u001b[0m\u001b[0mGr\u001b[0m\u001b[1;33m)\u001b[0m\u001b[1;33m)\u001b[0m\u001b[1;33m\u001b[0m\u001b[1;33m\u001b[0m\u001b[0m\n",
      "\u001b[1;32m<decorator-gen-515>\u001b[0m in \u001b[0;36mrandom_reference\u001b[1;34m(G, niter, connectivity, seed)\u001b[0m\n",
      "\u001b[1;32mC:\\ProgramData\\Anaconda3\\lib\\site-packages\\networkx\\utils\\decorators.py\u001b[0m in \u001b[0;36m_random_state\u001b[1;34m(func, *args, **kwargs)\u001b[0m\n\u001b[0;32m    467\u001b[0m         \u001b[0mnew_args\u001b[0m \u001b[1;33m=\u001b[0m \u001b[0mlist\u001b[0m\u001b[1;33m(\u001b[0m\u001b[0margs\u001b[0m\u001b[1;33m)\u001b[0m\u001b[1;33m\u001b[0m\u001b[1;33m\u001b[0m\u001b[0m\n\u001b[0;32m    468\u001b[0m         \u001b[0mnew_args\u001b[0m\u001b[1;33m[\u001b[0m\u001b[0mrandom_state_index\u001b[0m\u001b[1;33m]\u001b[0m \u001b[1;33m=\u001b[0m \u001b[0mrandom_state\u001b[0m\u001b[1;33m\u001b[0m\u001b[1;33m\u001b[0m\u001b[0m\n\u001b[1;32m--> 469\u001b[1;33m         \u001b[1;32mreturn\u001b[0m \u001b[0mfunc\u001b[0m\u001b[1;33m(\u001b[0m\u001b[1;33m*\u001b[0m\u001b[0mnew_args\u001b[0m\u001b[1;33m,\u001b[0m \u001b[1;33m**\u001b[0m\u001b[0mkwargs\u001b[0m\u001b[1;33m)\u001b[0m\u001b[1;33m\u001b[0m\u001b[1;33m\u001b[0m\u001b[0m\n\u001b[0m\u001b[0;32m    470\u001b[0m \u001b[1;33m\u001b[0m\u001b[0m\n\u001b[0;32m    471\u001b[0m     \u001b[1;32mreturn\u001b[0m \u001b[0m_random_state\u001b[0m\u001b[1;33m\u001b[0m\u001b[1;33m\u001b[0m\u001b[0m\n",
      "\u001b[1;32m<decorator-gen-514>\u001b[0m in \u001b[0;36mrandom_reference\u001b[1;34m(G, niter, connectivity, seed)\u001b[0m\n",
      "\u001b[1;32mC:\\ProgramData\\Anaconda3\\lib\\site-packages\\networkx\\utils\\decorators.py\u001b[0m in \u001b[0;36m_not_implemented_for\u001b[1;34m(not_implement_for_func, *args, **kwargs)\u001b[0m\n\u001b[0;32m     76\u001b[0m             \u001b[1;32mraise\u001b[0m \u001b[0mnx\u001b[0m\u001b[1;33m.\u001b[0m\u001b[0mNetworkXNotImplemented\u001b[0m\u001b[1;33m(\u001b[0m\u001b[0mmsg\u001b[0m\u001b[1;33m)\u001b[0m\u001b[1;33m\u001b[0m\u001b[1;33m\u001b[0m\u001b[0m\n\u001b[0;32m     77\u001b[0m         \u001b[1;32melse\u001b[0m\u001b[1;33m:\u001b[0m\u001b[1;33m\u001b[0m\u001b[1;33m\u001b[0m\u001b[0m\n\u001b[1;32m---> 78\u001b[1;33m             \u001b[1;32mreturn\u001b[0m \u001b[0mnot_implement_for_func\u001b[0m\u001b[1;33m(\u001b[0m\u001b[1;33m*\u001b[0m\u001b[0margs\u001b[0m\u001b[1;33m,\u001b[0m \u001b[1;33m**\u001b[0m\u001b[0mkwargs\u001b[0m\u001b[1;33m)\u001b[0m\u001b[1;33m\u001b[0m\u001b[1;33m\u001b[0m\u001b[0m\n\u001b[0m\u001b[0;32m     79\u001b[0m \u001b[1;33m\u001b[0m\u001b[0m\n\u001b[0;32m     80\u001b[0m     \u001b[1;32mreturn\u001b[0m \u001b[0m_not_implemented_for\u001b[0m\u001b[1;33m\u001b[0m\u001b[1;33m\u001b[0m\u001b[0m\n",
      "\u001b[1;32m<decorator-gen-513>\u001b[0m in \u001b[0;36mrandom_reference\u001b[1;34m(G, niter, connectivity, seed)\u001b[0m\n",
      "\u001b[1;32mC:\\ProgramData\\Anaconda3\\lib\\site-packages\\networkx\\utils\\decorators.py\u001b[0m in \u001b[0;36m_not_implemented_for\u001b[1;34m(not_implement_for_func, *args, **kwargs)\u001b[0m\n\u001b[0;32m     76\u001b[0m             \u001b[1;32mraise\u001b[0m \u001b[0mnx\u001b[0m\u001b[1;33m.\u001b[0m\u001b[0mNetworkXNotImplemented\u001b[0m\u001b[1;33m(\u001b[0m\u001b[0mmsg\u001b[0m\u001b[1;33m)\u001b[0m\u001b[1;33m\u001b[0m\u001b[1;33m\u001b[0m\u001b[0m\n\u001b[0;32m     77\u001b[0m         \u001b[1;32melse\u001b[0m\u001b[1;33m:\u001b[0m\u001b[1;33m\u001b[0m\u001b[1;33m\u001b[0m\u001b[0m\n\u001b[1;32m---> 78\u001b[1;33m             \u001b[1;32mreturn\u001b[0m \u001b[0mnot_implement_for_func\u001b[0m\u001b[1;33m(\u001b[0m\u001b[1;33m*\u001b[0m\u001b[0margs\u001b[0m\u001b[1;33m,\u001b[0m \u001b[1;33m**\u001b[0m\u001b[0mkwargs\u001b[0m\u001b[1;33m)\u001b[0m\u001b[1;33m\u001b[0m\u001b[1;33m\u001b[0m\u001b[0m\n\u001b[0m\u001b[0;32m     79\u001b[0m \u001b[1;33m\u001b[0m\u001b[0m\n\u001b[0;32m     80\u001b[0m     \u001b[1;32mreturn\u001b[0m \u001b[0m_not_implemented_for\u001b[0m\u001b[1;33m\u001b[0m\u001b[1;33m\u001b[0m\u001b[0m\n",
      "\u001b[1;32mC:\\ProgramData\\Anaconda3\\lib\\site-packages\\networkx\\algorithms\\smallworld.py\u001b[0m in \u001b[0;36mrandom_reference\u001b[1;34m(G, niter, connectivity, seed)\u001b[0m\n\u001b[0;32m     89\u001b[0m             \u001b[0mc\u001b[0m \u001b[1;33m=\u001b[0m \u001b[0mkeys\u001b[0m\u001b[1;33m[\u001b[0m\u001b[0mci\u001b[0m\u001b[1;33m]\u001b[0m\u001b[1;33m\u001b[0m\u001b[1;33m\u001b[0m\u001b[0m\n\u001b[0;32m     90\u001b[0m             \u001b[1;31m# choose target uniformly from neighbors\u001b[0m\u001b[1;33m\u001b[0m\u001b[1;33m\u001b[0m\u001b[1;33m\u001b[0m\u001b[0m\n\u001b[1;32m---> 91\u001b[1;33m             \u001b[0mb\u001b[0m \u001b[1;33m=\u001b[0m \u001b[0mseed\u001b[0m\u001b[1;33m.\u001b[0m\u001b[0mchoice\u001b[0m\u001b[1;33m(\u001b[0m\u001b[0mlist\u001b[0m\u001b[1;33m(\u001b[0m\u001b[0mG\u001b[0m\u001b[1;33m.\u001b[0m\u001b[0mneighbors\u001b[0m\u001b[1;33m(\u001b[0m\u001b[0ma\u001b[0m\u001b[1;33m)\u001b[0m\u001b[1;33m)\u001b[0m\u001b[1;33m)\u001b[0m\u001b[1;33m\u001b[0m\u001b[1;33m\u001b[0m\u001b[0m\n\u001b[0m\u001b[0;32m     92\u001b[0m             \u001b[0md\u001b[0m \u001b[1;33m=\u001b[0m \u001b[0mseed\u001b[0m\u001b[1;33m.\u001b[0m\u001b[0mchoice\u001b[0m\u001b[1;33m(\u001b[0m\u001b[0mlist\u001b[0m\u001b[1;33m(\u001b[0m\u001b[0mG\u001b[0m\u001b[1;33m.\u001b[0m\u001b[0mneighbors\u001b[0m\u001b[1;33m(\u001b[0m\u001b[0mc\u001b[0m\u001b[1;33m)\u001b[0m\u001b[1;33m)\u001b[0m\u001b[1;33m)\u001b[0m\u001b[1;33m\u001b[0m\u001b[1;33m\u001b[0m\u001b[0m\n\u001b[0;32m     93\u001b[0m             \u001b[0mbi\u001b[0m \u001b[1;33m=\u001b[0m \u001b[0mkeys\u001b[0m\u001b[1;33m.\u001b[0m\u001b[0mindex\u001b[0m\u001b[1;33m(\u001b[0m\u001b[0mb\u001b[0m\u001b[1;33m)\u001b[0m\u001b[1;33m\u001b[0m\u001b[1;33m\u001b[0m\u001b[0m\n",
      "\u001b[1;32mC:\\ProgramData\\Anaconda3\\lib\\random.py\u001b[0m in \u001b[0;36mchoice\u001b[1;34m(self, seq)\u001b[0m\n\u001b[0;32m    285\u001b[0m     \u001b[1;32mdef\u001b[0m \u001b[0mchoice\u001b[0m\u001b[1;33m(\u001b[0m\u001b[0mself\u001b[0m\u001b[1;33m,\u001b[0m \u001b[0mseq\u001b[0m\u001b[1;33m)\u001b[0m\u001b[1;33m:\u001b[0m\u001b[1;33m\u001b[0m\u001b[1;33m\u001b[0m\u001b[0m\n\u001b[0;32m    286\u001b[0m         \u001b[1;34m\"\"\"Choose a random element from a non-empty sequence.\"\"\"\u001b[0m\u001b[1;33m\u001b[0m\u001b[1;33m\u001b[0m\u001b[0m\n\u001b[1;32m--> 287\u001b[1;33m         \u001b[1;32mtry\u001b[0m\u001b[1;33m:\u001b[0m\u001b[1;33m\u001b[0m\u001b[1;33m\u001b[0m\u001b[0m\n\u001b[0m\u001b[0;32m    288\u001b[0m             \u001b[0mi\u001b[0m \u001b[1;33m=\u001b[0m \u001b[0mself\u001b[0m\u001b[1;33m.\u001b[0m\u001b[0m_randbelow\u001b[0m\u001b[1;33m(\u001b[0m\u001b[0mlen\u001b[0m\u001b[1;33m(\u001b[0m\u001b[0mseq\u001b[0m\u001b[1;33m)\u001b[0m\u001b[1;33m)\u001b[0m\u001b[1;33m\u001b[0m\u001b[1;33m\u001b[0m\u001b[0m\n\u001b[0;32m    289\u001b[0m         \u001b[1;32mexcept\u001b[0m \u001b[0mValueError\u001b[0m\u001b[1;33m:\u001b[0m\u001b[1;33m\u001b[0m\u001b[1;33m\u001b[0m\u001b[0m\n",
      "\u001b[1;31mKeyboardInterrupt\u001b[0m: "
     ]
    }
   ],
   "source": [
    "small_world_properties2(\"SNetT\", SNetT) # even this does not compute in okay time :/"
   ]
  },
  {
   "cell_type": "code",
   "execution_count": 41,
   "metadata": {},
   "outputs": [
    {
     "name": "stdout",
     "output_type": "stream",
     "text": [
      "----------------------UserNet----------------------\n",
      "Average distance: 4.19\n",
      "Clustering degree: 0.028\n",
      "Does UserNet show small-world properties? False\n",
      "Wiki says: True\n",
      "----------------------------------------------\n"
     ]
    }
   ],
   "source": [
    "small_world_properties(\"UserNet\", UserNet, 4.19, 0.028, nx.average_shortest_path_length(usernet_clustering_results[2]), usernet_clustering_results[3][0])"
   ]
  },
  {
   "cell_type": "markdown",
   "metadata": {},
   "source": [
    "## 12 Assortative analysis and assortative mixing. For the UserNet network, differentiate input and ouput degrees. Visualize. "
   ]
  },
  {
   "cell_type": "code",
   "execution_count": 56,
   "metadata": {},
   "outputs": [],
   "source": [
    "def undirected_assortative_report(graph_name, graph, weight):\n",
    "    weighted = \"weighted \" if weight != None else \"\"\n",
    "    assortativity = nx.degree_assortativity_coefficient(graph, weight=weight)\n",
    "    print(f\"{graph_name}'s {weighted}assortativity coefficient: {round(assortativity, 5)}\")\n",
    "\n",
    "def directed_assortative_report(graph_name, digraph, weight):\n",
    "    weighted = \"weighted \" if weight != None else \"\"\n",
    "\n",
    "    in_assortativity = nx.degree_assortativity_coefficient(digraph, x=\"out\", y=\"in\", weight=weight)    \n",
    "    print(f\"{graph_name}'s {weighted}in-assortativity coefficient: {round(in_assortativity, 5)}\")\n",
    "\n",
    "    out_assortativity = nx.degree_assortativity_coefficient(digraph, x=\"in\", y=\"out\", weight=weight)\n",
    "    print(f\"{graph_name}'s {weighted}out-assortativity coefficient: {round(out_assortativity, 5)}\")\n",
    "\n",
    "def assortative_report(graph_name, graph):\n",
    "    # memory error for weighted graphs\n",
    "    if nx.is_directed(graph):\n",
    "#         directed_assortative_report(graph_name, graph, \"weight\")\n",
    "        directed_assortative_report(graph_name, graph)\n",
    "    elif nx.is_connected(graph):\n",
    "        print(f\"{graph_name}'s assortativity coefficient: impossible\")\n",
    "        print(f\"Graph {graph_name} is complete. Cannot calculate assortivity\")\n",
    "    else:\n",
    "#         undirected_assortative_report(graph_name, graph, \"weight\")\n",
    "        undirected_assortative_report(graph_name, graph, None)        "
   ]
  },
  {
   "cell_type": "code",
   "execution_count": 57,
   "metadata": {},
   "outputs": [
    {
     "name": "stdout",
     "output_type": "stream",
     "text": [
      "SNet's assortativity coefficient: -0.42823\n"
     ]
    }
   ],
   "source": [
    "assortative_report(\"SNet\", SNet)"
   ]
  },
  {
   "cell_type": "code",
   "execution_count": 58,
   "metadata": {},
   "outputs": [
    {
     "name": "stdout",
     "output_type": "stream",
     "text": [
      "SNetF's assortativity coefficient: -0.61035\n"
     ]
    }
   ],
   "source": [
    "assortative_report(\"SNetF\", SNetF)"
   ]
  },
  {
   "cell_type": "code",
   "execution_count": 43,
   "metadata": {},
   "outputs": [
    {
     "name": "stdout",
     "output_type": "stream",
     "text": [
      "SNetT's assortativity coefficient: impossible\n",
      "Graph SNetT is complete. Cannot calculate assortivity\n"
     ]
    }
   ],
   "source": [
    "assortative_report(\"SNetT\", SNetT)"
   ]
  },
  {
   "cell_type": "code",
   "execution_count": 92,
   "metadata": {},
   "outputs": [
    {
     "name": "stdout",
     "output_type": "stream",
     "text": [
      "UserNet's in-assortativity coefficient: -0.06096\n",
      "UserNet's out-assortativity coefficient: -0.00102\n"
     ]
    }
   ],
   "source": [
    "assortative_report(\"UserNet\", UserNet)"
   ]
  },
  {
   "cell_type": "markdown",
   "metadata": {},
   "source": [
    "* Assortative mixing is present with SNet and SNetF as the coefficient is further from 0.\n",
    "* Assortative mixing is not present with UserNet as the coefficient is too close to 0.\n",
    "* Assortativity property is not available in complete networks, such as SNetT.\n",
    "\n",
    "> Not sure what to visualize here"
   ]
  },
  {
   "cell_type": "markdown",
   "metadata": {},
   "source": [
    "## 13 *Rich-club* phenomenon\n",
    "\n",
    "* The rich get richer\n",
    "* Network has a small number of well-connected nodes (hubs), and a big number of weakly connected nodes\n",
    "* They follow the *power-law* distribution - scale free networks\n",
    "\n",
    "\n",
    "Networkx Docs:\n",
    "\n",
    "The rich club algorithm ignores any edge weights and is not defined for directed graphs or graphs with parallel edges or self loops."
   ]
  },
  {
   "cell_type": "code",
   "execution_count": 101,
   "metadata": {},
   "outputs": [],
   "source": [
    "def rich_club_report(graph_name, graph):\n",
    "    if nx.is_directed(graph):\n",
    "        print(f\"{graph_name} is directed and as such is not defined.\")\n",
    "        return\n",
    "    rc = nx.rich_club_coefficient(graph, normalized=False, seed=42)\n",
    "    plt.plot(list(rc.keys()), list(rc.values()))\n",
    "    plt.gca().set(title=f\"{graph_name}\", xlabel=\"Degree\", ylabel=\"Rich Club Coefficient\")\n",
    "    plt.show()"
   ]
  },
  {
   "cell_type": "code",
   "execution_count": 102,
   "metadata": {
    "scrolled": true
   },
   "outputs": [
    {
     "data": {
      "image/png": "[encoded data removed]",
      "text/plain": [
       "<Figure size 432x288 with 1 Axes>"
      ]
     },
     "metadata": {
      "needs_background": "light"
     },
     "output_type": "display_data"
    }
   ],
   "source": [
    "rich_club_report(\"SNet\", SNet)"
   ]
  },
  {
   "cell_type": "code",
   "execution_count": 103,
   "metadata": {},
   "outputs": [
    {
     "data": {
      "image/png": "[encoded data removed]",
      "text/plain": [
       "<Figure size 432x288 with 1 Axes>"
      ]
     },
     "metadata": {
      "needs_background": "light"
     },
     "output_type": "display_data"
    }
   ],
   "source": [
    "rich_club_report(\"SNetF\", SNetF)"
   ]
  },
  {
   "cell_type": "code",
   "execution_count": 104,
   "metadata": {},
   "outputs": [
    {
     "data": {
      "image/png": "[encoded data removed]",
      "text/plain": [
       "<Figure size 432x288 with 1 Axes>"
      ]
     },
     "metadata": {
      "needs_background": "light"
     },
     "output_type": "display_data"
    }
   ],
   "source": [
    "rich_club_report(\"SNetT\", SNetT)"
   ]
  },
  {
   "cell_type": "code",
   "execution_count": 105,
   "metadata": {},
   "outputs": [
    {
     "name": "stdout",
     "output_type": "stream",
     "text": [
      "UserNet is directed and as such is not defined.\n"
     ]
    }
   ],
   "source": [
    "rich_club_report(\"UserNet\", UserNet)"
   ]
  },
  {
   "cell_type": "markdown",
   "metadata": {},
   "source": [
    "* There is a pronounced *Rich-club* phenomenon in Snet and SnetF, which was visible from their models where we saw hubs. \n",
    "* SnetT is a complete graph, so the coefficiemt is at max value 1.\n",
    "* UserNet is directed and therefor undefined."
   ]
  },
  {
   "cell_type": "markdown",
   "metadata": {},
   "source": [
    "## 14 Degree distribution? *Power-law* distribution? "
   ]
  },
  {
   "cell_type": "markdown",
   "metadata": {},
   "source": [
    "<HTML> <BODY> <h3>Degree Distribution Report - Results:</h3> <hr>Average Degree: <b>64.889</b><IMG SRC=\"data/gephi/SNet/degree-report/degree-distribution.png\" WIDTH=\"500\"></IMG></BODY></HTML>"
   ]
  },
  {
   "cell_type": "code",
   "execution_count": 190,
   "metadata": {},
   "outputs": [],
   "source": [
    "# !pip install powerlaw\n",
    "import powerlaw\n",
    "\n",
    "def fit_distribution_comparison(fit, this, that):\n",
    "    R, p = fit.distribution_compare(this, that)\n",
    "    r_result = this if R > 0 else that\n",
    "    print (f\"{this} or {that}? - {r_result}\")\n",
    "    print(f\"(R={round(R, 5)} > 0 | p={round(p, 10)} < 0.05)\")\n",
    "#     print(f\"If Likelihood (R={round(R, 5)}) > 0 then power-law else {other}?\\nResult: {r_result}\")\n",
    "#     print(f\"If p < 0.05  (p={round(p, 10)}) then there are no fluctuations and R is not determined.\")\n",
    "    print()\n",
    "\n",
    "def power_law_report(graph_name, graph):\n",
    "    degree_sequence = sorted([d for n, d in graph.degree()], reverse=True) # used for degree distribution and powerlaw test\n",
    "    fit = powerlaw.Fit(degree_sequence)\n",
    "    \n",
    "    fit_distribution_comparison(fit, \"power_law\", \"exponential\")\n",
    "    fit_distribution_comparison(fit, \"power_law\", \"lognormal\")\n",
    "    fit_distribution_comparison(fit, \"power_law\", \"truncated_power_law\")\n",
    "    fit_distribution_comparison(fit, \"truncated_power_law\", \"lognormal\")\n",
    "    \n",
    "    plt.figure(figsize=(10, 6))\n",
    "    fig4 = fit.plot_ccdf(linewidth=3, color='black')\n",
    "    fit.power_law.plot_ccdf(ax=fig4, color='r', linestyle='--', label=\"powerlaw\") #powerlaw\n",
    "    fit.truncated_power_law.plot_ccdf(ax=fig4, color='b', linestyle='--', label=\"truncated powerlaw\") # truncated powerlaw\n",
    "    fit.lognormal.plot_ccdf(ax=fig4, color='g', linestyle='--', label=\"lognormal\") #lognormal\n",
    "    fit.exponential.plot_ccdf(ax=fig4, color='m', linestyle='--', label=\"exponential\") # truncated powerlaw\n",
    "    plt.legend(loc=\"lower left\")"
   ]
  },
  {
   "cell_type": "code",
   "execution_count": 191,
   "metadata": {
    "scrolled": false
   },
   "outputs": [
    {
     "name": "stderr",
     "output_type": "stream",
     "text": [
      "Values less than or equal to 0 in data. Throwing out 0 or negative values\n"
     ]
    },
    {
     "name": "stdout",
     "output_type": "stream",
     "text": [
      "Calculating best minimal value for power law fit\n",
      "power_law or exponential? - power_law\n",
      "(R=135.23038 > 0 | p=9.064e-07 < 0.05)\n",
      "\n",
      "power_law or lognormal? - lognormal\n",
      "(R=-28.46268 > 0 | p=1.5201e-06 < 0.05)\n",
      "\n"
     ]
    },
    {
     "name": "stderr",
     "output_type": "stream",
     "text": [
      "Assuming nested distributions\n"
     ]
    },
    {
     "name": "stdout",
     "output_type": "stream",
     "text": [
      "power_law or truncated_power_law? - truncated_power_law\n",
      "(R=-34.13878 > 0 | p=0.0 < 0.05)\n",
      "\n",
      "truncated_power_law or lognormal? - truncated_power_law\n",
      "(R=5.67609 > 0 | p=0.0019238869 < 0.05)\n",
      "\n"
     ]
    },
    {
     "data": {
      "image/png": "[encoded data removed]",
      "text/plain": [
       "<Figure size 720x432 with 1 Axes>"
      ]
     },
     "metadata": {
      "needs_background": "light"
     },
     "output_type": "display_data"
    }
   ],
   "source": [
    "power_law_report(\"SNet\", SNet)"
   ]
  },
  {
   "cell_type": "code",
   "execution_count": 192,
   "metadata": {},
   "outputs": [
    {
     "name": "stderr",
     "output_type": "stream",
     "text": [
      "Values less than or equal to 0 in data. Throwing out 0 or negative values\n",
      "Assuming nested distributions\n"
     ]
    },
    {
     "name": "stdout",
     "output_type": "stream",
     "text": [
      "Calculating best minimal value for power law fit\n",
      "xmin progress: 00%\r",
      "xmin progress: 00%\r",
      "xmin progress: 01%\r",
      "xmin progress: 02%\r",
      "xmin progress: 03%\r",
      "xmin progress: 04%\r",
      "xmin progress: 05%\r",
      "xmin progress: 06%\r",
      "xmin progress: 07%\r",
      "xmin progress: 08%\r",
      "xmin progress: 09%\r",
      "xmin progress: 10%\r",
      "xmin progress: 11%\r",
      "xmin progress: 12%\r",
      "xmin progress: 13%\r",
      "xmin progress: 14%\r",
      "xmin progress: 14%\r",
      "xmin progress: 15%\r",
      "xmin progress: 16%\r",
      "xmin progress: 17%\r",
      "xmin progress: 18%\r",
      "xmin progress: 19%\r",
      "xmin progress: 20%\r",
      "xmin progress: 21%\r",
      "xmin progress: 22%\r",
      "xmin progress: 23%\r",
      "xmin progress: 24%\r",
      "xmin progress: 25%\r",
      "xmin progress: 26%\r",
      "xmin progress: 27%\r",
      "xmin progress: 28%\r",
      "xmin progress: 28%\r",
      "xmin progress: 29%\r",
      "xmin progress: 30%\r",
      "xmin progress: 31%\r",
      "xmin progress: 32%\r",
      "xmin progress: 33%\r",
      "xmin progress: 34%\r",
      "xmin progress: 35%\r",
      "xmin progress: 36%\r",
      "xmin progress: 37%\r",
      "xmin progress: 38%\r",
      "xmin progress: 39%\r",
      "xmin progress: 40%\r",
      "xmin progress: 41%\r",
      "xmin progress: 42%\r",
      "xmin progress: 42%\r",
      "xmin progress: 43%\r",
      "xmin progress: 44%\r",
      "xmin progress: 45%\r",
      "xmin progress: 46%\r",
      "xmin progress: 47%\r",
      "xmin progress: 48%\r",
      "xmin progress: 49%\r",
      "xmin progress: 50%\r",
      "xmin progress: 51%\r",
      "xmin progress: 52%\r",
      "xmin progress: 53%\r",
      "xmin progress: 54%\r",
      "xmin progress: 55%\r",
      "xmin progress: 56%\r",
      "xmin progress: 57%\r",
      "xmin progress: 57%\r",
      "xmin progress: 58%\r",
      "xmin progress: 59%\r",
      "xmin progress: 60%\r",
      "xmin progress: 61%\r",
      "xmin progress: 62%\r",
      "xmin progress: 63%\r",
      "xmin progress: 64%\r",
      "xmin progress: 65%\r",
      "xmin progress: 66%\r",
      "xmin progress: 67%\r",
      "xmin progress: 68%\r",
      "xmin progress: 69%\r",
      "xmin progress: 70%\r",
      "xmin progress: 71%\r",
      "xmin progress: 71%\r",
      "xmin progress: 72%\r",
      "xmin progress: 73%\r",
      "xmin progress: 74%\r",
      "xmin progress: 75%\r",
      "xmin progress: 76%\r",
      "xmin progress: 77%\r",
      "xmin progress: 78%\r",
      "xmin progress: 79%\r",
      "xmin progress: 80%\r",
      "xmin progress: 81%\r",
      "xmin progress: 82%\r",
      "xmin progress: 83%\r",
      "xmin progress: 84%\r",
      "xmin progress: 85%\r",
      "xmin progress: 85%\r",
      "xmin progress: 86%\r",
      "xmin progress: 87%\r",
      "xmin progress: 88%\r",
      "xmin progress: 89%\r",
      "xmin progress: 90%\r",
      "xmin progress: 91%\r",
      "xmin progress: 92%\r",
      "xmin progress: 93%\r",
      "xmin progress: 94%\r",
      "xmin progress: 95%\r",
      "xmin progress: 96%\r",
      "xmin progress: 97%\r",
      "xmin progress: 98%\r",
      "xmin progress: 99%\r",
      "power_law or exponential? - exponential\n",
      "(R=-3.74998 > 0 | p=0.0176498432 < 0.05)\n",
      "\n",
      "power_law or lognormal? - lognormal\n",
      "(R=-3.44452 > 0 | p=0.0800365462 < 0.05)\n",
      "\n",
      "power_law or truncated_power_law? - truncated_power_law\n",
      "(R=-3.28736 > 0 | p=0.0103437248 < 0.05)\n",
      "\n",
      "truncated_power_law or lognormal? - lognormal\n",
      "(R=-0.15716 > 0 | p=0.8530370825 < 0.05)\n",
      "\n"
     ]
    },
    {
     "data": {
      "image/png": "[encoded data removed]",
      "text/plain": [
       "<Figure size 720x432 with 1 Axes>"
      ]
     },
     "metadata": {
      "needs_background": "light"
     },
     "output_type": "display_data"
    }
   ],
   "source": [
    "power_law_report(\"SNetF\", SNetF)"
   ]
  },
  {
   "cell_type": "code",
   "execution_count": 193,
   "metadata": {},
   "outputs": [
    {
     "name": "stdout",
     "output_type": "stream",
     "text": [
      "Calculating best minimal value for power law fit\n",
      "power_law or exponential? - exponential\n",
      "(R=0 > 0 | p=1 < 0.05)\n",
      "\n",
      "power_law or lognormal? - lognormal\n",
      "(R=0 > 0 | p=1 < 0.05)\n",
      "\n",
      "power_law or truncated_power_law? - truncated_power_law\n",
      "(R=0 > 0 | p=1 < 0.05)\n",
      "\n",
      "truncated_power_law or lognormal? - lognormal\n",
      "(R=0 > 0 | p=1 < 0.05)\n",
      "\n"
     ]
    },
    {
     "name": "stderr",
     "output_type": "stream",
     "text": [
      "Less than 2 unique data values left after xmin and xmax options! Cannot fit. Returning nans.\n",
      "C:\\ProgramData\\Anaconda3\\lib\\site-packages\\powerlaw.py:1151: RuntimeWarning: invalid value encountered in double_scalars\n",
      "  self.alpha = 1 + (self.n / sum(log(data/self.xmin)))\n",
      "C:\\ProgramData\\Anaconda3\\lib\\site-packages\\powerlaw.py:1170: RuntimeWarning: invalid value encountered in double_scalars\n",
      "  return 1 + len(data)/sum(log(data / (self.xmin)))\n",
      "Not enough data. Returning nan\n",
      "Not enough data. Returning nan\n",
      "C:\\ProgramData\\Anaconda3\\lib\\site-packages\\numpy\\core\\fromnumeric.py:3372: RuntimeWarning: Mean of empty slice.\n",
      "  return _methods._mean(a, axis=axis, dtype=dtype,\n",
      "C:\\ProgramData\\Anaconda3\\lib\\site-packages\\numpy\\core\\_methods.py:170: RuntimeWarning: invalid value encountered in double_scalars\n",
      "  ret = ret.dtype.type(ret / rcount)\n",
      "No valid fits found.\n",
      "Not enough data. Returning nan\n",
      "C:\\ProgramData\\Anaconda3\\lib\\site-packages\\numpy\\core\\_methods.py:233: RuntimeWarning: Degrees of freedom <= 0 for slice\n",
      "  ret = _var(a, axis=axis, dtype=dtype, out=out, ddof=ddof,\n",
      "C:\\ProgramData\\Anaconda3\\lib\\site-packages\\numpy\\core\\_methods.py:194: RuntimeWarning: invalid value encountered in true_divide\n",
      "  arrmean = um.true_divide(\n",
      "C:\\ProgramData\\Anaconda3\\lib\\site-packages\\numpy\\core\\_methods.py:226: RuntimeWarning: invalid value encountered in double_scalars\n",
      "  ret = ret.dtype.type(ret / rcount)\n",
      "No valid fits found.\n",
      "Not enough data. Returning nan\n",
      "Assuming nested distributions\n",
      "C:\\ProgramData\\Anaconda3\\lib\\site-packages\\powerlaw.py:1383: RuntimeWarning: invalid value encountered in double_scalars\n",
      "  alpha = 1 + len(data)/sum( log( data / (self.xmin) ))\n",
      "No valid fits found.\n",
      "Not enough data. Returning nan\n"
     ]
    },
    {
     "data": {
      "image/png": "[encoded data removed]",
      "text/plain": [
       "<Figure size 720x432 with 1 Axes>"
      ]
     },
     "metadata": {
      "needs_background": "light"
     },
     "output_type": "display_data"
    }
   ],
   "source": [
    "power_law_report(\"SNetT\", SNetT)"
   ]
  },
  {
   "cell_type": "code",
   "execution_count": 194,
   "metadata": {},
   "outputs": [
    {
     "name": "stdout",
     "output_type": "stream",
     "text": [
      "Calculating best minimal value for power law fit\n",
      "power_law or exponential? - power_law\n",
      "(R=6.37482 > 0 | p=0.165271554 < 0.05)\n",
      "\n",
      "power_law or lognormal? - lognormal\n",
      "(R=-0.18261 > 0 | p=0.7125934515 < 0.05)\n",
      "\n"
     ]
    },
    {
     "name": "stderr",
     "output_type": "stream",
     "text": [
      "Assuming nested distributions\n"
     ]
    },
    {
     "name": "stdout",
     "output_type": "stream",
     "text": [
      "power_law or truncated_power_law? - truncated_power_law\n",
      "(R=-0.24043 > 0 | p=0.4880296608 < 0.05)\n",
      "\n",
      "truncated_power_law or lognormal? - truncated_power_law\n",
      "(R=0.05782 > 0 | p=0.5302387835 < 0.05)\n",
      "\n"
     ]
    },
    {
     "data": {
      "image/png": "[encoded data removed]",
      "text/plain": [
       "<Figure size 720x432 with 1 Axes>"
      ]
     },
     "metadata": {
      "needs_background": "light"
     },
     "output_type": "display_data"
    }
   ],
   "source": [
    "power_law_report(\"UserNet\", UserNet)"
   ]
  },
  {
   "cell_type": "markdown",
   "metadata": {},
   "source": [
    "### Result interpretation:\n",
    "\n",
    "| Network      | Description | Decision |\n",
    "| ----------- | ----------- | ----------- |\n",
    "| SNet      | Truncated power-law       | Yes |\n",
    "| SNetF   | Fluctuates between power-law and lognormal        | No |\n",
    "| SNetT   | NaN        | No |\n",
    "| UserNet   | Fluctuates too much        | No |"
   ]
  },
  {
   "cell_type": "markdown",
   "metadata": {},
   "source": [
    "##  15 Most important hubs and authorities? Their distribution, relation and position (core or edge)? "
   ]
  },
  {
   "cell_type": "markdown",
   "metadata": {},
   "source": [
    "<HTML> <BODY> <h3> HITS Metric Report - Results </h3><hr><br /><h2> Parameters: </h2>  &#917; = 1.0E-4<br /> \n",
    "    <table>\n",
    "        <tr>\n",
    "            <td><IMG SRC=\"data/gephi/SNet/hits-report/hubs.png\"></IMG></td>\n",
    "            <td><IMG SRC=\"data/gephi/SNet/hits-report/authorities.png\"></IMG></td>\n",
    "        </tr>\n",
    "        <tr>\n",
    "            <td colspan=\"2\"><IMG SRC=\"data/gephi/SNet/hits-report/hub_model1.png\" widht=\"500\"></IMG></td>\n",
    "        </tr>\n",
    "    </table><br /></BODY> </HTML>"
   ]
  },
  {
   "cell_type": "markdown",
   "metadata": {},
   "source": [
    "## Graph analysis"
   ]
  },
  {
   "cell_type": "markdown",
   "metadata": {},
   "source": [
    "I'm going to write functions in order to avoid code duplication. Aftwer these methods, I will write the answers seperated by networks.\n",
    "\n",
    "> Yeah didn't happen :("
   ]
  },
  {
   "cell_type": "code",
   "execution_count": null,
   "metadata": {},
   "outputs": [],
   "source": [
    "graph_names = [\"SNet\", \"SnetF\", \"SnetT\", \"UserNet\"]\n",
    "graphs = [SNet, SNetF, SNetT, UserNet]\n",
    "\n",
    "graph_to_name = list(zip(graphs, graph_names))"
   ]
  }
 ],
 "metadata": {
  "kernelspec": {
   "display_name": "Python 3",
   "language": "python",
   "name": "python3"
  },
  "language_info": {
   "codemirror_mode": {
    "name": "ipython",
    "version": 3
   },
   "file_extension": ".py",
   "mimetype": "text/x-python",
   "name": "python",
   "nbconvert_exporter": "python",
   "pygments_lexer": "ipython3",
   "version": "3.8.5"
  }
 },
 "nbformat": 4,
 "nbformat_minor": 4
}
