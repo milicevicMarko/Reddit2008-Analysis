{
 "cells": [
  {
   "cell_type": "markdown",
   "metadata": {},
   "source": [
    "# Basic characteristics"
   ]
  },
  {
   "cell_type": "markdown",
   "metadata": {},
   "source": [
    "## Importing graphs"
   ]
  },
  {
   "cell_type": "code",
   "execution_count": 123,
   "metadata": {},
   "outputs": [
    {
     "name": "stdout",
     "output_type": "stream",
     "text": [
      "Requirement already satisfied: networkx in c:\\programdata\\anaconda3\\lib\\site-packages (2.5)\n",
      "Requirement already satisfied: decorator>=4.3.0 in c:\\programdata\\anaconda3\\lib\\site-packages (from networkx) (4.4.2)\n"
     ]
    }
   ],
   "source": [
    "!pip install networkx\n",
    "import networkx as nx"
   ]
  },
  {
   "cell_type": "code",
   "execution_count": 124,
   "metadata": {},
   "outputs": [],
   "source": [
    "SNet = nx.read_gml(\"data/graphs/snet.gml\")\n",
    "SNetF = nx.read_gml(\"data/graphs/snetf.gml\")\n",
    "SNetT = nx.read_gml(\"data/graphs/snett.gml\")\n",
    "UserNet = nx.read_gml(\"data/graphs/usernet.gml\")"
   ]
  },
  {
   "cell_type": "code",
   "execution_count": 125,
   "metadata": {},
   "outputs": [
    {
     "name": "stdout",
     "output_type": "stream",
     "text": [
      "Name: \n",
      "Type: Graph\n",
      "Number of nodes: 4191\n",
      "Number of edges: 135974\n",
      "Average degree:  64.8886\n",
      "Name: \n",
      "Type: Graph\n",
      "Number of nodes: 4191\n",
      "Number of edges: 10010\n",
      "Average degree:   4.7769\n",
      "Name: \n",
      "Type: Graph\n",
      "Number of nodes: 39\n",
      "Number of edges: 741\n",
      "Average degree:  38.0000\n",
      "Name: \n",
      "Type: DiGraph\n",
      "Number of nodes: 18975\n",
      "Number of edges: 102043\n",
      "Average in degree:   5.3778\n",
      "Average out degree:   5.3778\n"
     ]
    }
   ],
   "source": [
    "print(nx.info(SNet))\n",
    "print(nx.info(SNetF))\n",
    "print(nx.info(SNetT))\n",
    "print(nx.info(UserNet))"
   ]
  },
  {
   "cell_type": "markdown",
   "metadata": {},
   "source": [
    "## Graph analysis"
   ]
  },
  {
   "cell_type": "markdown",
   "metadata": {},
   "source": [
    "I'm going to write functions in order to avoid code duplication. Aftwer these methods, I will write the answers seperated by networks"
   ]
  },
  {
   "cell_type": "code",
   "execution_count": 126,
   "metadata": {},
   "outputs": [],
   "source": [
    "graph_names = [\"SNet\", \"SnetF\", \"SnetT\", \"UserNet\"]\n",
    "graphs = [SNet, SNetF, SNetT, UserNet]\n",
    "\n",
    "graph_to_name = list(zip(graphs, graph_names))"
   ]
  },
  {
   "cell_type": "code",
   "execution_count": 141,
   "metadata": {},
   "outputs": [],
   "source": [
    "def density(G, name):\n",
    "    print(f\"{name} network's density is: GEPHI\")"
   ]
  },
  {
   "cell_type": "code",
   "execution_count": 142,
   "metadata": {},
   "outputs": [],
   "source": [
    "def avg_shortest_past(G, name):\n",
    "    print(f\"{name} networks's avrage shortest path is: GEPHI\")"
   ]
  },
  {
   "cell_type": "code",
   "execution_count": 143,
   "metadata": {},
   "outputs": [],
   "source": [
    "def diameter(G, name):\n",
    "    print(f\"{name} networks's diameter is: GEPHI\")"
   ]
  },
  {
   "cell_type": "code",
   "execution_count": 144,
   "metadata": {},
   "outputs": [],
   "source": [
    "def report(g_tuple):\n",
    "    print(f\"Report of: {g_tuple[1]}\")\n",
    "    density(*g_tuple)\n",
    "    avg_shortest_past(*g_tuple)\n",
    "    diameter(*g_tuple)"
   ]
  },
  {
   "cell_type": "markdown",
   "metadata": {},
   "source": [
    "## Report"
   ]
  },
  {
   "cell_type": "code",
   "execution_count": 145,
   "metadata": {},
   "outputs": [
    {
     "name": "stdout",
     "output_type": "stream",
     "text": [
      "Report of: UserNet\n",
      "UserNet network's density is: GEPHI\n",
      "UserNet networks's avrage shortest path is: GEPHI\n",
      "UserNet networks's diameter is: GEPHI\n"
     ]
    }
   ],
   "source": [
    "report(graph_to_name[3])"
   ]
  }
 ],
 "metadata": {
  "kernelspec": {
   "display_name": "Python 3",
   "language": "python",
   "name": "python3"
  },
  "language_info": {
   "codemirror_mode": {
    "name": "ipython",
    "version": 3
   },
   "file_extension": ".py",
   "mimetype": "text/x-python",
   "name": "python",
   "nbconvert_exporter": "python",
   "pygments_lexer": "ipython3",
   "version": "3.8.5"
  }
 },
 "nbformat": 4,
 "nbformat_minor": 4
}
