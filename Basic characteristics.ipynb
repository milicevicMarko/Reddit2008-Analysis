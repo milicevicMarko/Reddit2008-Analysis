{
 "cells": [
  {
   "cell_type": "markdown",
   "metadata": {},
   "source": [
    "# Basic characteristics"
   ]
  },
  {
   "cell_type": "markdown",
   "metadata": {},
   "source": [
    "## Importing graphs"
   ]
  },
  {
   "cell_type": "code",
   "execution_count": 2,
   "metadata": {},
   "outputs": [
    {
     "name": "stdout",
     "output_type": "stream",
     "text": [
      "Requirement already satisfied: networkx in c:\\programdata\\anaconda3\\lib\\site-packages (2.5)\n",
      "Requirement already satisfied: decorator>=4.3.0 in c:\\programdata\\anaconda3\\lib\\site-packages (from networkx) (4.4.2)\n"
     ]
    }
   ],
   "source": [
    "!pip install networkx\n",
    "import networkx as nx"
   ]
  },
  {
   "cell_type": "code",
   "execution_count": 222,
   "metadata": {},
   "outputs": [],
   "source": [
    "SNet = nx.read_gml(\"data/graphs/snet.gml\")\n",
    "SNetF = nx.read_gml(\"data/graphs/snetf.gml\")\n",
    "SNetT = nx.read_gml(\"data/graphs/snett.gml\")\n",
    "UserNet = nx.read_gml(\"data/graphs/usernet.gml\")"
   ]
  },
  {
   "cell_type": "code",
   "execution_count": 223,
   "metadata": {
    "scrolled": true
   },
   "outputs": [
    {
     "name": "stdout",
     "output_type": "stream",
     "text": [
      "Name: \n",
      "Type: Graph\n",
      "Number of nodes: 4191\n",
      "Number of edges: 135974\n",
      "Average degree:  64.8886\n",
      "Name: \n",
      "Type: Graph\n",
      "Number of nodes: 4191\n",
      "Number of edges: 6113\n",
      "Average degree:   2.9172\n",
      "Name: \n",
      "Type: Graph\n",
      "Number of nodes: 39\n",
      "Number of edges: 741\n",
      "Average degree:  38.0000\n",
      "Name: \n",
      "Type: DiGraph\n",
      "Number of nodes: 18975\n",
      "Number of edges: 102043\n",
      "Average in degree:   5.3778\n",
      "Average out degree:   5.3778\n"
     ]
    }
   ],
   "source": [
    "print(nx.info(SNet))\n",
    "print(nx.info(SNetF))\n",
    "print(nx.info(SNetT))\n",
    "print(nx.info(UserNet))"
   ]
  },
  {
   "cell_type": "markdown",
   "metadata": {},
   "source": [
    "##  [Gephi tool](www.gephi.org) shared code for import\n",
    "\n",
    "Shared code markdown for better reusability"
   ]
  },
  {
   "cell_type": "code",
   "execution_count": 217,
   "metadata": {},
   "outputs": [],
   "source": [
    "from IPython.display import Markdown as md\n",
    "import codecs\n",
    "\n",
    "def show_graph_model(path):\n",
    "    display(md(f\"<img src='{path}model.png' alt='model' width='500'/>\"))\n",
    "\n",
    "def show_density_report(path):\n",
    "    density_report_path=\"density-report/report.html\"\n",
    "    with open(path + density_report_path, \"r\", encoding='utf-8') as f:\n",
    "        text= f.read()\n",
    "        display(md(text)) \n",
    "        \n",
    "def show_distance_report(path):\n",
    "    distance_report_path=\"distance-report/report.html\"\n",
    "    with open(path + distance_report_path, \"r\", encoding='utf-8') as f:\n",
    "        text= f.read()\n",
    "        display(md(text)) "
   ]
  },
  {
   "cell_type": "markdown",
   "metadata": {},
   "source": [
    "## General python shared code"
   ]
  },
  {
   "cell_type": "code",
   "execution_count": 117,
   "metadata": {},
   "outputs": [],
   "source": [
    "def clustering(graph, weight=\"None\"):\n",
    "    average_clustering = nx.average_clustering(graph, weight=weight)\n",
    "    clustering_coefficient = [coefficient for coefficient in nx.clustering(graph, weight=weight).values() if coefficient > 0]\n",
    "    global_clustering = max(clustering_coefficient)\n",
    "    return average_clustering, global_clustering, clustering_coefficient"
   ]
  },
  {
   "cell_type": "code",
   "execution_count": 170,
   "metadata": {},
   "outputs": [],
   "source": [
    "def create_erdos_renyi(graph, directed):\n",
    "    n = graph.number_of_nodes()\n",
    "    m = graph.number_of_edges()\n",
    "    p = (2 * float(m)) / (n * (n - 1))\n",
    "    return nx.erdos_renyi_graph(n, p, directed=directed)"
   ]
  },
  {
   "cell_type": "code",
   "execution_count": 173,
   "metadata": {},
   "outputs": [],
   "source": [
    "def print_clustering_coeffs(name, average_clustering, global_clustering):\n",
    "    print(f\"--------------------------\\t{name}'s \\t--------------------------\")\n",
    "    print(f\"Average clustering coefficient: {round(average_clustering, 6)}\")\n",
    "    print(f\"Global clustering coefficient:  {round(global_clustering, 6)}\")\n",
    "    print()\n",
    "    \n",
    "def group_prints(g_name, g_tuple_w, g_tuple_nw, er_tuple):\n",
    "    print_clustering_coeffs(f\"{g_name} weighted\", g_tuple_w[0], g_tuple_w[1])\n",
    "    print_clustering_coeffs(f\"{g_name} not-weighted\", g_tuple_nw[0], g_tuple_nw[1])\n",
    "    print_clustering_coeffs(\"Erdos-Renyi\", er_tuple[0], er_tuple[1])"
   ]
  },
  {
   "cell_type": "code",
   "execution_count": 105,
   "metadata": {},
   "outputs": [],
   "source": [
    "import matplotlib.pyplot as plt\n",
    "\n",
    "def draw_versus_er_histograms(g_name, g_cc, er_cc):\n",
    "    fig, (ax1, ax2) = plt.subplots(1, 2)\n",
    "    fig.suptitle(f\"{g_name} vs Erdos-Renyi clustering\")\n",
    "    ax1.hist(g_cc, bins=50)\n",
    "    ax2.hist(er_cc, bins=50)"
   ]
  },
  {
   "cell_type": "markdown",
   "metadata": {},
   "source": [
    "# SNet"
   ]
  },
  {
   "cell_type": "code",
   "execution_count": 9,
   "metadata": {},
   "outputs": [
    {
     "name": "stdout",
     "output_type": "stream",
     "text": [
      "Name: \n",
      "Type: Graph\n",
      "Number of nodes: 4191\n",
      "Number of edges: 135974\n",
      "Average degree:  64.8886\n"
     ]
    }
   ],
   "source": [
    "print(nx.info(SNet))"
   ]
  },
  {
   "cell_type": "markdown",
   "metadata": {},
   "source": [
    "</HTML><img src=\"data/gephi/SNet/model.png\" alt=\"model\" width=\"500\"/>"
   ]
  },
  {
   "cell_type": "markdown",
   "metadata": {},
   "source": [
    "## 7 Graph density"
   ]
  },
  {
   "cell_type": "markdown",
   "metadata": {},
   "source": [
    "<HTML> <BODY> <h3>Graph Density  Report - Results:</h3> <hr>Density: <b>0.015</b><br />"
   ]
  },
  {
   "cell_type": "markdown",
   "metadata": {},
   "source": [
    "## 8 Avrage Distance in graph & The diameter"
   ]
  },
  {
   "cell_type": "markdown",
   "metadata": {},
   "source": [
    "<HTML> <BODY> <h3>Graph Distance  Report - Results:</h3> <hr>Diameter: <b>5</b><br />Radius: <b>0</b><br />Average Path length: <b>2.1072775194289464</b><br />\n",
    "    <table>\n",
    "  <tr>\n",
    "    <td><IMG SRC=\"data/gephi/SNet/distance-report/Betweenness Centrality Distribution.png\" WIDTH=\"600\" HEIGHT=\"400\" BORDER=\"0\" USEMAP=\"#chart\"></IMG></td>\n",
    "    <td><IMG SRC=\"data/gephi/SNet/distance-report/Closeness Centrality Distribution.png\" WIDTH=\"600\" HEIGHT=\"400\" BORDER=\"0\" USEMAP=\"#chart\"></IMG></td>\n",
    "  </tr>\n",
    "  <tr>\n",
    "    <td><IMG SRC=\"data/gephi/SNet/distance-report/Eccentricity Distribution.png\" WIDTH=\"600\" HEIGHT=\"400\" BORDER=\"0\" USEMAP=\"#chart\"></IMG></td>\n",
    "    <td><IMG SRC=\"data/gephi/SNet/distance-report/Harmonic Closeness Centrality Distribution.png\" WIDTH=\"600\" HEIGHT=\"400\" BORDER=\"0\" USEMAP=\"#chart\"></IMG></td>\n",
    "  </tr>\n",
    "</table>"
   ]
  },
  {
   "cell_type": "markdown",
   "metadata": {},
   "source": [
    "## 9 Connectivity"
   ]
  },
  {
   "cell_type": "markdown",
   "metadata": {},
   "source": [
    "<HTML>\n",
    "    <BODY> \n",
    "        <h3>Connected Components Report - Results:</h3>\n",
    "        Number of Weakly Connected Components: <b>799</b><br/>\n",
    "        There is <b>1</b> Gigantic component - The core is the largest part of the graph\n",
    "        <table>\n",
    "            <tr>\n",
    "                <td><IMG SRC=\"data/gephi/SNet/model.png\" WIDTH=\"300\" HEIGHT=\"300\" BORDER=\"0\" USEMAP=\"#chart\"></IMG></td>\n",
    "                <td><IMG SRC=\"data/gephi/SNet/connected-components-report/cc-size-distribution.png\" WIDTH=\"480\" HEIGHT=\"320\" BORDER=\"0\" USEMAP=\"#chart\"></IMG></td>\n",
    "            </tr>\n",
    "        </table>\n",
    "        </BODY></HTML>"
   ]
  },
  {
   "cell_type": "markdown",
   "metadata": {},
   "source": [
    "## 10 Average, Global and Local Clusterization"
   ]
  },
  {
   "cell_type": "markdown",
   "metadata": {},
   "source": [
    "<HTML> <BODY> <h3> Clustering Coefficient Metric Report - Result: </h3> <hr>Average Clustering Coefficient: <b>0.907</b><br />Total triangles: <b>6598248</b><br />The Average Clustering Coefficient is the mean value of individual coefficients.<br /><br /><IMG SRC=\"data\\gephi\\SNet\\clustering-coefficient-metric-report\\clustering-coefficient.png\" WIDTH=\"480\" HEIGHT=\"320\" BORDER=\"0\" USEMAP=\"#chart\"></IMG></BODY> </HTML>"
   ]
  },
  {
   "cell_type": "code",
   "execution_count": 118,
   "metadata": {},
   "outputs": [],
   "source": [
    "snet_clustering_tuple_w = clustering(SNet, \"weight\")"
   ]
  },
  {
   "cell_type": "code",
   "execution_count": 119,
   "metadata": {},
   "outputs": [],
   "source": [
    "snet_clustering_tuple = clustering(SNet)"
   ]
  },
  {
   "cell_type": "code",
   "execution_count": 171,
   "metadata": {},
   "outputs": [],
   "source": [
    "er_snet = create_erdos_renyi(SNet, directed=False)\n",
    "er_snet_clustering_tuple = clustering(er_snet)"
   ]
  },
  {
   "cell_type": "code",
   "execution_count": 220,
   "metadata": {},
   "outputs": [
    {
     "name": "stdout",
     "output_type": "stream",
     "text": [
      "--------------------------\tSNet weighted's \t--------------------------\n",
      "Average clustering coefficient: 0.000247\n",
      "Global clustering coefficient:  0.001219\n",
      "\n",
      "--------------------------\tSNet not-weighted's \t--------------------------\n",
      "Average clustering coefficient: 0.618428\n",
      "Global clustering coefficient:  1.0\n",
      "\n",
      "--------------------------\tErdos-Renyi's \t--------------------------\n",
      "Average clustering coefficient: 0.015529\n",
      "Global clustering coefficient:  0.027869\n",
      "\n"
     ]
    }
   ],
   "source": [
    "group_prints(\"SNet\", snet_clustering_tuple_w, snet_clustering_tuple, er_snet_clustering_tuple)"
   ]
  },
  {
   "cell_type": "code",
   "execution_count": 169,
   "metadata": {},
   "outputs": [
    {
     "data": {
      "image/png": "[encoded data removed]",
      "text/plain": [
       "<Figure size 432x288 with 2 Axes>"
      ]
     },
     "metadata": {
      "needs_background": "light"
     },
     "output_type": "display_data"
    }
   ],
   "source": [
    "draw_versus_er_histograms(\"SNet\", snet_clustering_tuple[2], er_snet_clustering_tuple[2])"
   ]
  },
  {
   "cell_type": "markdown",
   "metadata": {},
   "source": [
    "We can observe that there is a lot of well connected nodes - most of them are at 1.\n",
    "\n",
    "We can conclude that there is in fact a **pronounced clusterization** - one big cluster"
   ]
  },
  {
   "cell_type": "markdown",
   "metadata": {},
   "source": [
    "## Graph analysis"
   ]
  },
  {
   "cell_type": "markdown",
   "metadata": {},
   "source": [
    "I'm going to write functions in order to avoid code duplication. Aftwer these methods, I will write the answers seperated by networks"
   ]
  },
  {
   "cell_type": "code",
   "execution_count": 126,
   "metadata": {},
   "outputs": [],
   "source": [
    "graph_names = [\"SNet\", \"SnetF\", \"SnetT\", \"UserNet\"]\n",
    "graphs = [SNet, SNetF, SNetT, UserNet]\n",
    "\n",
    "graph_to_name = list(zip(graphs, graph_names))"
   ]
  }
 ],
 "metadata": {
  "kernelspec": {
   "display_name": "Python 3",
   "language": "python",
   "name": "python3"
  },
  "language_info": {
   "codemirror_mode": {
    "name": "ipython",
    "version": 3
   },
   "file_extension": ".py",
   "mimetype": "text/x-python",
   "name": "python",
   "nbconvert_exporter": "python",
   "pygments_lexer": "ipython3",
   "version": "3.8.5"
  }
 },
 "nbformat": 4,
 "nbformat_minor": 4
}
