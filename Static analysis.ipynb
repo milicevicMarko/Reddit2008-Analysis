{
 "cells": [
  {
   "cell_type": "markdown",
   "metadata": {},
   "source": [
    "# Static analysis"
   ]
  },
  {
   "cell_type": "markdown",
   "metadata": {},
   "source": [
    "## Intro - importing"
   ]
  },
  {
   "cell_type": "code",
   "execution_count": 51,
   "metadata": {},
   "outputs": [
    {
     "name": "stdout",
     "output_type": "stream",
     "text": [
      "Requirement already satisfied: pandas in c:\\programdata\\anaconda3\\lib\\site-packages (1.1.3)\n",
      "Requirement already satisfied: pytz>=2017.2 in c:\\programdata\\anaconda3\\lib\\site-packages (from pandas) (2020.1)\n",
      "Requirement already satisfied: python-dateutil>=2.7.3 in c:\\programdata\\anaconda3\\lib\\site-packages (from pandas) (2.8.1)\n",
      "Requirement already satisfied: numpy>=1.15.4 in c:\\programdata\\anaconda3\\lib\\site-packages (from pandas) (1.19.2)\n",
      "Requirement already satisfied: six>=1.5 in c:\\programdata\\anaconda3\\lib\\site-packages (from python-dateutil>=2.7.3->pandas) (1.15.0)\n",
      "Note: you may need to restart the kernel to use updated packages.\n",
      "Note: you may need to restart the kernel to use updated packages.\n"
     ]
    },
    {
     "name": "stderr",
     "output_type": "stream",
     "text": [
      "ERROR: Could not find a version that satisfies the requirement pickle (from versions: none)\n",
      "ERROR: No matching distribution found for pickle\n"
     ]
    },
    {
     "name": "stdout",
     "output_type": "stream",
     "text": [
      "Requirement already satisfied: numpy in c:\\programdata\\anaconda3\\lib\\site-packages (1.19.2)\n",
      "Note: you may need to restart the kernel to use updated packages.\n"
     ]
    }
   ],
   "source": [
    "%pip install pandas\n",
    "import pandas as pd\n",
    "\n",
    "%pip install pickle\n",
    "import pickle\n",
    "\n",
    "%pip install numpy\n",
    "import numpy as np"
   ]
  },
  {
   "cell_type": "code",
   "execution_count": 52,
   "metadata": {},
   "outputs": [],
   "source": [
    "with open(\"data/comments_cleaned\", 'rb') as file:\n",
    "    comments = pickle.load(file)\n",
    "    \n",
    "with open(\"data/submissions_cleaned\", 'rb') as file:\n",
    "    submissions = pickle.load(file)"
   ]
  },
  {
   "cell_type": "code",
   "execution_count": 53,
   "metadata": {},
   "outputs": [
    {
     "data": {
      "text/html": [
       "<div>\n",
       "<style scoped>\n",
       "    .dataframe tbody tr th:only-of-type {\n",
       "        vertical-align: middle;\n",
       "    }\n",
       "\n",
       "    .dataframe tbody tr th {\n",
       "        vertical-align: top;\n",
       "    }\n",
       "\n",
       "    .dataframe thead th {\n",
       "        text-align: right;\n",
       "    }\n",
       "</style>\n",
       "<table border=\"1\" class=\"dataframe\">\n",
       "  <thead>\n",
       "    <tr style=\"text-align: right;\">\n",
       "      <th></th>\n",
       "      <th>submissions_id</th>\n",
       "      <th>url</th>\n",
       "      <th>permalink</th>\n",
       "      <th>author</th>\n",
       "      <th>created_utc</th>\n",
       "      <th>subreddit</th>\n",
       "      <th>subreddit_id</th>\n",
       "      <th>num_comments</th>\n",
       "      <th>score</th>\n",
       "      <th>over_18</th>\n",
       "    </tr>\n",
       "  </thead>\n",
       "  <tbody>\n",
       "    <tr>\n",
       "      <th>0</th>\n",
       "      <td>648oo</td>\n",
       "      <td>http://www.ignorancedenied.com/viewthread.php?...</td>\n",
       "      <td>/r/reddit.com/comments/648oo/brain_disease_is_...</td>\n",
       "      <td>DITUS</td>\n",
       "      <td>1199145615</td>\n",
       "      <td>reddit.com</td>\n",
       "      <td>t5_6</td>\n",
       "      <td>1</td>\n",
       "      <td>0</td>\n",
       "      <td>False</td>\n",
       "    </tr>\n",
       "    <tr>\n",
       "      <th>1</th>\n",
       "      <td>648op</td>\n",
       "      <td>http://www.flascience.org/wp/?p=363</td>\n",
       "      <td>/r/science/comments/648op/three_more_florida_c...</td>\n",
       "      <td>rmuser</td>\n",
       "      <td>1199145634</td>\n",
       "      <td>science</td>\n",
       "      <td>t5_mouw</td>\n",
       "      <td>5</td>\n",
       "      <td>20</td>\n",
       "      <td>False</td>\n",
       "    </tr>\n",
       "    <tr>\n",
       "      <th>2</th>\n",
       "      <td>648or</td>\n",
       "      <td>http://hosted.ap.org/dynamic/stories/O/ODD_SHO...</td>\n",
       "      <td>/r/reddit.com/comments/648or/nude_couple_grapp...</td>\n",
       "      <td>zorno</td>\n",
       "      <td>1199145709</td>\n",
       "      <td>reddit.com</td>\n",
       "      <td>t5_6</td>\n",
       "      <td>1</td>\n",
       "      <td>3</td>\n",
       "      <td>False</td>\n",
       "    </tr>\n",
       "    <tr>\n",
       "      <th>3</th>\n",
       "      <td>648os</td>\n",
       "      <td>http://www.sltrib.com/opinion/ci_7846101?sourc...</td>\n",
       "      <td>/r/politics/comments/648os/apparently_bushs_pr...</td>\n",
       "      <td>rmuser</td>\n",
       "      <td>1199145735</td>\n",
       "      <td>politics</td>\n",
       "      <td>t5_2cneq</td>\n",
       "      <td>2</td>\n",
       "      <td>0</td>\n",
       "      <td>False</td>\n",
       "    </tr>\n",
       "    <tr>\n",
       "      <th>4</th>\n",
       "      <td>648ot</td>\n",
       "      <td>http://hosted.ap.org/dynamic/stories/O/ODD_RAR...</td>\n",
       "      <td>/r/reddit.com/comments/648ot/diners_find_rare_...</td>\n",
       "      <td>zorno</td>\n",
       "      <td>1199145735</td>\n",
       "      <td>reddit.com</td>\n",
       "      <td>t5_6</td>\n",
       "      <td>0</td>\n",
       "      <td>0</td>\n",
       "      <td>False</td>\n",
       "    </tr>\n",
       "    <tr>\n",
       "      <th>...</th>\n",
       "      <td>...</td>\n",
       "      <td>...</td>\n",
       "      <td>...</td>\n",
       "      <td>...</td>\n",
       "      <td>...</td>\n",
       "      <td>...</td>\n",
       "      <td>...</td>\n",
       "      <td>...</td>\n",
       "      <td>...</td>\n",
       "      <td>...</td>\n",
       "    </tr>\n",
       "    <tr>\n",
       "      <th>2044805</th>\n",
       "      <td>7mq3n</td>\n",
       "      <td>http://ventaboutsports.blogspot.com/2008/12/so...</td>\n",
       "      <td>/r/funny/comments/7mq3n/some_extremely_corny_j...</td>\n",
       "      <td>themightymidget</td>\n",
       "      <td>1230767909</td>\n",
       "      <td>funny</td>\n",
       "      <td>t5_2qh33</td>\n",
       "      <td>0</td>\n",
       "      <td>1</td>\n",
       "      <td>False</td>\n",
       "    </tr>\n",
       "    <tr>\n",
       "      <th>2044806</th>\n",
       "      <td>7mq3o</td>\n",
       "      <td>http://www.pbs.org/mormons/etc/genealogy.html</td>\n",
       "      <td>/r/news/comments/7mq3o/pbs_looks_at_the_massiv...</td>\n",
       "      <td>Tom22</td>\n",
       "      <td>1230767926</td>\n",
       "      <td>news</td>\n",
       "      <td>t5_2qh3l</td>\n",
       "      <td>0</td>\n",
       "      <td>0</td>\n",
       "      <td>False</td>\n",
       "    </tr>\n",
       "    <tr>\n",
       "      <th>2044807</th>\n",
       "      <td>7mq3q</td>\n",
       "      <td>http://www.narutogames.biz</td>\n",
       "      <td>/r/reddit.com/comments/7mq3q/naruto_games/</td>\n",
       "      <td>bixiebix</td>\n",
       "      <td>1230767937</td>\n",
       "      <td>reddit.com</td>\n",
       "      <td>t5_6</td>\n",
       "      <td>7</td>\n",
       "      <td>1</td>\n",
       "      <td>False</td>\n",
       "    </tr>\n",
       "    <tr>\n",
       "      <th>2044808</th>\n",
       "      <td>7mq3r</td>\n",
       "      <td>http://www.youtube.com/watch?v=gdQH1CI4LHY&amp;amp...</td>\n",
       "      <td>/r/politics/comments/7mq3r/ron_paul_on_recent_...</td>\n",
       "      <td>middkidd</td>\n",
       "      <td>1230767963</td>\n",
       "      <td>politics</td>\n",
       "      <td>t5_2cneq</td>\n",
       "      <td>3</td>\n",
       "      <td>1</td>\n",
       "      <td>False</td>\n",
       "    </tr>\n",
       "    <tr>\n",
       "      <th>2044809</th>\n",
       "      <td>7mq3v</td>\n",
       "      <td>http://player.video.news.com.au/dailytelegraph...</td>\n",
       "      <td>/r/reddit.com/comments/7mq3v/video_nye_firewor...</td>\n",
       "      <td>klippa</td>\n",
       "      <td>1230767988</td>\n",
       "      <td>reddit.com</td>\n",
       "      <td>t5_6</td>\n",
       "      <td>1</td>\n",
       "      <td>1</td>\n",
       "      <td>False</td>\n",
       "    </tr>\n",
       "  </tbody>\n",
       "</table>\n",
       "<p>2044810 rows × 10 columns</p>\n",
       "</div>"
      ],
      "text/plain": [
       "        submissions_id                                                url  \\\n",
       "0                648oo  http://www.ignorancedenied.com/viewthread.php?...   \n",
       "1                648op                http://www.flascience.org/wp/?p=363   \n",
       "2                648or  http://hosted.ap.org/dynamic/stories/O/ODD_SHO...   \n",
       "3                648os  http://www.sltrib.com/opinion/ci_7846101?sourc...   \n",
       "4                648ot  http://hosted.ap.org/dynamic/stories/O/ODD_RAR...   \n",
       "...                ...                                                ...   \n",
       "2044805          7mq3n  http://ventaboutsports.blogspot.com/2008/12/so...   \n",
       "2044806          7mq3o      http://www.pbs.org/mormons/etc/genealogy.html   \n",
       "2044807          7mq3q                         http://www.narutogames.biz   \n",
       "2044808          7mq3r  http://www.youtube.com/watch?v=gdQH1CI4LHY&amp...   \n",
       "2044809          7mq3v  http://player.video.news.com.au/dailytelegraph...   \n",
       "\n",
       "                                                 permalink           author  \\\n",
       "0        /r/reddit.com/comments/648oo/brain_disease_is_...            DITUS   \n",
       "1        /r/science/comments/648op/three_more_florida_c...           rmuser   \n",
       "2        /r/reddit.com/comments/648or/nude_couple_grapp...            zorno   \n",
       "3        /r/politics/comments/648os/apparently_bushs_pr...           rmuser   \n",
       "4        /r/reddit.com/comments/648ot/diners_find_rare_...            zorno   \n",
       "...                                                    ...              ...   \n",
       "2044805  /r/funny/comments/7mq3n/some_extremely_corny_j...  themightymidget   \n",
       "2044806  /r/news/comments/7mq3o/pbs_looks_at_the_massiv...            Tom22   \n",
       "2044807         /r/reddit.com/comments/7mq3q/naruto_games/         bixiebix   \n",
       "2044808  /r/politics/comments/7mq3r/ron_paul_on_recent_...         middkidd   \n",
       "2044809  /r/reddit.com/comments/7mq3v/video_nye_firewor...           klippa   \n",
       "\n",
       "         created_utc   subreddit subreddit_id  num_comments  score  over_18  \n",
       "0         1199145615  reddit.com         t5_6             1      0    False  \n",
       "1         1199145634     science      t5_mouw             5     20    False  \n",
       "2         1199145709  reddit.com         t5_6             1      3    False  \n",
       "3         1199145735    politics     t5_2cneq             2      0    False  \n",
       "4         1199145735  reddit.com         t5_6             0      0    False  \n",
       "...              ...         ...          ...           ...    ...      ...  \n",
       "2044805   1230767909       funny     t5_2qh33             0      1    False  \n",
       "2044806   1230767926        news     t5_2qh3l             0      0    False  \n",
       "2044807   1230767937  reddit.com         t5_6             7      1    False  \n",
       "2044808   1230767963    politics     t5_2cneq             3      1    False  \n",
       "2044809   1230767988  reddit.com         t5_6             1      1    False  \n",
       "\n",
       "[2044810 rows x 10 columns]"
      ]
     },
     "execution_count": 53,
     "metadata": {},
     "output_type": "execute_result"
    }
   ],
   "source": [
    "submissions"
   ]
  },
  {
   "cell_type": "code",
   "execution_count": 54,
   "metadata": {},
   "outputs": [
    {
     "data": {
      "text/html": [
       "<div>\n",
       "<style scoped>\n",
       "    .dataframe tbody tr th:only-of-type {\n",
       "        vertical-align: middle;\n",
       "    }\n",
       "\n",
       "    .dataframe tbody tr th {\n",
       "        vertical-align: top;\n",
       "    }\n",
       "\n",
       "    .dataframe thead th {\n",
       "        text-align: right;\n",
       "    }\n",
       "</style>\n",
       "<table border=\"1\" class=\"dataframe\">\n",
       "  <thead>\n",
       "    <tr style=\"text-align: right;\">\n",
       "      <th></th>\n",
       "      <th>comments_id</th>\n",
       "      <th>author</th>\n",
       "      <th>link_id</th>\n",
       "      <th>parent_id</th>\n",
       "      <th>created_utc</th>\n",
       "      <th>subreddit</th>\n",
       "      <th>subreddit_id</th>\n",
       "      <th>score</th>\n",
       "    </tr>\n",
       "  </thead>\n",
       "  <tbody>\n",
       "    <tr>\n",
       "      <th>25</th>\n",
       "      <td>c02s9t4</td>\n",
       "      <td>LiberalDemocrat</td>\n",
       "      <td>648os</td>\n",
       "      <td>648os</td>\n",
       "      <td>1199145817</td>\n",
       "      <td>politics</td>\n",
       "      <td>t5_2cneq</td>\n",
       "      <td>1</td>\n",
       "    </tr>\n",
       "    <tr>\n",
       "      <th>55</th>\n",
       "      <td>c02s9u6</td>\n",
       "      <td>DiscoWolf</td>\n",
       "      <td>648os</td>\n",
       "      <td>648os</td>\n",
       "      <td>1199146090</td>\n",
       "      <td>politics</td>\n",
       "      <td>t5_2cneq</td>\n",
       "      <td>1</td>\n",
       "    </tr>\n",
       "    <tr>\n",
       "      <th>63</th>\n",
       "      <td>c02s9uh</td>\n",
       "      <td>Flemlord</td>\n",
       "      <td>648p5</td>\n",
       "      <td>648p5</td>\n",
       "      <td>1199146155</td>\n",
       "      <td>politics</td>\n",
       "      <td>t5_2cneq</td>\n",
       "      <td>7</td>\n",
       "    </tr>\n",
       "    <tr>\n",
       "      <th>69</th>\n",
       "      <td>c02s9un</td>\n",
       "      <td>LiberalDemocrat</td>\n",
       "      <td>648oy</td>\n",
       "      <td>648oy</td>\n",
       "      <td>1199146229</td>\n",
       "      <td>reddit.com</td>\n",
       "      <td>t5_6</td>\n",
       "      <td>0</td>\n",
       "    </tr>\n",
       "    <tr>\n",
       "      <th>72</th>\n",
       "      <td>c02s9us</td>\n",
       "      <td>LiberalDemocrat</td>\n",
       "      <td>648p5</td>\n",
       "      <td>648p5</td>\n",
       "      <td>1199146266</td>\n",
       "      <td>politics</td>\n",
       "      <td>t5_2cneq</td>\n",
       "      <td>-10</td>\n",
       "    </tr>\n",
       "    <tr>\n",
       "      <th>...</th>\n",
       "      <td>...</td>\n",
       "      <td>...</td>\n",
       "      <td>...</td>\n",
       "      <td>...</td>\n",
       "      <td>...</td>\n",
       "      <td>...</td>\n",
       "      <td>...</td>\n",
       "      <td>...</td>\n",
       "    </tr>\n",
       "    <tr>\n",
       "      <th>4873683</th>\n",
       "      <td>c06vwuc</td>\n",
       "      <td>fergie</td>\n",
       "      <td>7k6cl</td>\n",
       "      <td>7k6cl</td>\n",
       "      <td>1229579665</td>\n",
       "      <td>politics</td>\n",
       "      <td>t5_2cneq</td>\n",
       "      <td>2</td>\n",
       "    </tr>\n",
       "    <tr>\n",
       "      <th>4873685</th>\n",
       "      <td>c06vwue</td>\n",
       "      <td>wolfzero</td>\n",
       "      <td>7k4if</td>\n",
       "      <td>c06vs7l</td>\n",
       "      <td>1229579675</td>\n",
       "      <td>technology</td>\n",
       "      <td>t5_2qh16</td>\n",
       "      <td>4</td>\n",
       "    </tr>\n",
       "    <tr>\n",
       "      <th>4873686</th>\n",
       "      <td>c06vwug</td>\n",
       "      <td>Morgin_Black</td>\n",
       "      <td>7k3w5</td>\n",
       "      <td>7k3w5</td>\n",
       "      <td>1229579679</td>\n",
       "      <td>comics</td>\n",
       "      <td>t5_2qh0s</td>\n",
       "      <td>0</td>\n",
       "    </tr>\n",
       "    <tr>\n",
       "      <th>4873687</th>\n",
       "      <td>c06vwui</td>\n",
       "      <td>onezerozeroone</td>\n",
       "      <td>7k2bc</td>\n",
       "      <td>c06vrvz</td>\n",
       "      <td>1229579685</td>\n",
       "      <td>atheism</td>\n",
       "      <td>t5_2qh2p</td>\n",
       "      <td>1</td>\n",
       "    </tr>\n",
       "    <tr>\n",
       "      <th>4873688</th>\n",
       "      <td>c06vwuj</td>\n",
       "      <td>vypermann</td>\n",
       "      <td>7k65l</td>\n",
       "      <td>c06vvzu</td>\n",
       "      <td>1229579686</td>\n",
       "      <td>WTF</td>\n",
       "      <td>t5_2qh61</td>\n",
       "      <td>0</td>\n",
       "    </tr>\n",
       "  </tbody>\n",
       "</table>\n",
       "<p>3210167 rows × 8 columns</p>\n",
       "</div>"
      ],
      "text/plain": [
       "        comments_id           author link_id parent_id  created_utc  \\\n",
       "25          c02s9t4  LiberalDemocrat   648os     648os   1199145817   \n",
       "55          c02s9u6        DiscoWolf   648os     648os   1199146090   \n",
       "63          c02s9uh         Flemlord   648p5     648p5   1199146155   \n",
       "69          c02s9un  LiberalDemocrat   648oy     648oy   1199146229   \n",
       "72          c02s9us  LiberalDemocrat   648p5     648p5   1199146266   \n",
       "...             ...              ...     ...       ...          ...   \n",
       "4873683     c06vwuc           fergie   7k6cl     7k6cl   1229579665   \n",
       "4873685     c06vwue         wolfzero   7k4if   c06vs7l   1229579675   \n",
       "4873686     c06vwug     Morgin_Black   7k3w5     7k3w5   1229579679   \n",
       "4873687     c06vwui   onezerozeroone   7k2bc   c06vrvz   1229579685   \n",
       "4873688     c06vwuj        vypermann   7k65l   c06vvzu   1229579686   \n",
       "\n",
       "          subreddit subreddit_id  score  \n",
       "25         politics     t5_2cneq      1  \n",
       "55         politics     t5_2cneq      1  \n",
       "63         politics     t5_2cneq      7  \n",
       "69       reddit.com         t5_6      0  \n",
       "72         politics     t5_2cneq    -10  \n",
       "...             ...          ...    ...  \n",
       "4873683    politics     t5_2cneq      2  \n",
       "4873685  technology     t5_2qh16      4  \n",
       "4873686      comics     t5_2qh0s      0  \n",
       "4873687     atheism     t5_2qh2p      1  \n",
       "4873688         WTF     t5_2qh61      0  \n",
       "\n",
       "[3210167 rows x 8 columns]"
      ]
     },
     "execution_count": 54,
     "metadata": {},
     "output_type": "execute_result"
    }
   ],
   "source": [
    "comments"
   ]
  },
  {
   "cell_type": "markdown",
   "metadata": {},
   "source": [
    "## Actual start of the analysis"
   ]
  },
  {
   "cell_type": "markdown",
   "metadata": {},
   "source": [
    "### Q1: How many unique subreddits occur? Which has the most comments, and which has the most active users?\n",
    "\n",
    "I will divide this into 3 questions:\n",
    "\n",
    "    1. Need to count submissions and comments with unique subreddits \n",
    "    2. Need to group and count subreddits by comments\n",
    "    3. Need to group and count subreddits by users\n",
    "\n",
    "> Could have used *subreddit_ids* but the name is also unqiue!        \n"
   ]
  },
  {
   "cell_type": "code",
   "execution_count": 55,
   "metadata": {},
   "outputs": [],
   "source": [
    "subreddits_authors = pd.concat([submissions[['subreddit', 'author']], comments[['subreddit', 'author']]], ignore_index=True)\n",
    "subreddits_authors = subreddits_authors.groupby('subreddit').agg({'author': \"nunique\"})\n",
    "subreddits_authors = subreddits_authors.sort_values(by=\"author\", ascending=False)\n",
    "# subreddits_authors"
   ]
  },
  {
   "cell_type": "markdown",
   "metadata": {},
   "source": [
    "Two birds one stone: "
   ]
  },
  {
   "cell_type": "code",
   "execution_count": 56,
   "metadata": {},
   "outputs": [
    {
     "name": "stdout",
     "output_type": "stream",
     "text": [
      "Number of Subreddits:\n",
      "\n",
      " 4191\n",
      "Stored 'NUMBER_OF_SUBREDDITS' (int)\n"
     ]
    }
   ],
   "source": [
    "print(\"Number of Subreddits:\\n\\n\", subreddits_authors.shape[0])\n",
    "NUMBER_OF_SUBREDDITS = subreddits_authors.shape[0]\n",
    "%store NUMBER_OF_SUBREDDITS"
   ]
  },
  {
   "cell_type": "code",
   "execution_count": 57,
   "metadata": {},
   "outputs": [
    {
     "name": "stdout",
     "output_type": "stream",
     "text": [
      "Top 10 with most users:\n",
      "\n",
      "                author\n",
      "subreddit            \n",
      "reddit.com     158641\n",
      "politics        34902\n",
      "pics            26759\n",
      "technology      26070\n",
      "funny           25615\n",
      "entertainment   24717\n",
      "programming     23629\n",
      "business        23347\n",
      "science         23332\n",
      "worldnews       22472\n"
     ]
    }
   ],
   "source": [
    "print(\"Top 10 with most users:\\n\\n\", subreddits_authors.iloc[:10])"
   ]
  },
  {
   "cell_type": "code",
   "execution_count": 58,
   "metadata": {},
   "outputs": [],
   "source": [
    "comments_size = comments[['subreddit']].groupby('subreddit').size().reset_index(name='counts')\n",
    "comments_size = comments_size.sort_values(by=\"counts\", ascending=False)\n",
    "# comments_size"
   ]
  },
  {
   "cell_type": "code",
   "execution_count": 59,
   "metadata": {},
   "outputs": [
    {
     "name": "stdout",
     "output_type": "stream",
     "text": [
      "Subreddits with the most comments:\n",
      "\n",
      "           subreddit  counts\n",
      "1580     reddit.com  738291\n",
      "1535       politics  526425\n",
      "1553    programming  255419\n",
      "1523           pics  187328\n",
      "1632        science  161279\n",
      "1870      worldnews  150029\n",
      "734             WTF  117793\n",
      "1148          funny  114429\n",
      "1742     technology   99609\n",
      "1084  entertainment   96118\n"
     ]
    }
   ],
   "source": [
    "print(\"Subreddits with the most comments:\\n\\n\", comments_size.iloc[:10])"
   ]
  },
  {
   "cell_type": "code",
   "execution_count": null,
   "metadata": {},
   "outputs": [],
   "source": []
  },
  {
   "cell_type": "markdown",
   "metadata": {},
   "source": [
    "### Q2: Avrage number of users per subreddit?"
   ]
  },
  {
   "cell_type": "code",
   "execution_count": 60,
   "metadata": {},
   "outputs": [
    {
     "name": "stdout",
     "output_type": "stream",
     "text": [
      "Avrage user per subreddit:\n",
      "\n",
      " 141.32283\n"
     ]
    }
   ],
   "source": [
    "print(\"Avrage user per subreddit:\\n\\n\", round(subreddits_authors['author'].mean(), 5))"
   ]
  },
  {
   "cell_type": "code",
   "execution_count": null,
   "metadata": {},
   "outputs": [],
   "source": []
  },
  {
   "cell_type": "markdown",
   "metadata": {},
   "source": [
    "### Q3: Users with the most submissions, users with the most comments"
   ]
  },
  {
   "cell_type": "code",
   "execution_count": 61,
   "metadata": {},
   "outputs": [],
   "source": [
    "authors_of_submissions = submissions[['author']].groupby('author').size().reset_index(name='counts')\n",
    "authors_of_submissions = authors_of_submissions.sort_values(by=\"counts\", ascending=False)\n",
    "# authors_of_submissions"
   ]
  },
  {
   "cell_type": "code",
   "execution_count": 62,
   "metadata": {},
   "outputs": [
    {
     "name": "stdout",
     "output_type": "stream",
     "text": [
      "Users with the most submissions:\n",
      "\n",
      "                   author  counts\n",
      "84823                gst   18870\n",
      "141813             qgyh2   12238\n",
      "147359            rmuser    9822\n",
      "173691            twolf1    8597\n",
      "13172   IAmperfectlyCalm    8308\n",
      "141766         qazamisan    6927\n",
      "54960          charlatan    5998\n",
      "90683           igeldard    5373\n",
      "130852          noname99    5334\n",
      "64933       democracy101    5332\n"
     ]
    }
   ],
   "source": [
    "print(\"Users with the most submissions:\\n\\n\", authors_of_submissions.iloc[:10])"
   ]
  },
  {
   "cell_type": "code",
   "execution_count": 63,
   "metadata": {},
   "outputs": [],
   "source": [
    "authors_of_comments = comments[['author']].groupby('author').size().reset_index(name='counts')\n",
    "authors_of_comments = authors_of_comments.sort_values(by=\"counts\", ascending=False)\n",
    "# authors_of_comments"
   ]
  },
  {
   "cell_type": "code",
   "execution_count": 64,
   "metadata": {},
   "outputs": [
    {
     "name": "stdout",
     "output_type": "stream",
     "text": [
      "Users with the most submissions:\n",
      "\n",
      "                 author  counts\n",
      "11308  NoMoreNicksLeft    8465\n",
      "51139       malcontent    7423\n",
      "52040           matts2    6975\n",
      "567               7oby    5640\n",
      "52943       mexicodoug    5499\n",
      "55356         mutatron    4980\n",
      "62351        randomb0y    4896\n",
      "18866        aletoledo    4880\n",
      "58533        otakucode    4744\n",
      "19141           alllie    4734\n"
     ]
    }
   ],
   "source": [
    "print(\"Users with the most submissions:\\n\\n\", authors_of_comments.iloc[:10])"
   ]
  },
  {
   "cell_type": "code",
   "execution_count": null,
   "metadata": {},
   "outputs": [],
   "source": []
  },
  {
   "cell_type": "markdown",
   "metadata": {},
   "source": [
    "### Q4: Which users are the most active on the biggest number of subreddits? How many subreddits are they active on?"
   ]
  },
  {
   "cell_type": "code",
   "execution_count": 65,
   "metadata": {},
   "outputs": [],
   "source": [
    "authors_on_subreddits = pd.concat([submissions[['subreddit', 'author']], comments[['subreddit', 'author']]], ignore_index=True)\n",
    "authors_on_subreddits = authors_on_subreddits.groupby('author').agg({'subreddit': \"nunique\"})\n",
    "authors_on_subreddits = authors_on_subreddits.sort_values(by=\"subreddit\", ascending=False)\n",
    "# authors_on_subreddits"
   ]
  },
  {
   "cell_type": "code",
   "execution_count": 66,
   "metadata": {},
   "outputs": [
    {
     "name": "stdout",
     "output_type": "stream",
     "text": [
      "Most active users and the number of subreddits they were active:\n",
      "\n",
      "                 subreddit\n",
      "author                   \n",
      "Escafane              152\n",
      "MrKlaatu              147\n",
      "omfgninja             111\n",
      "scientologist2        106\n",
      "codepoet              103\n",
      "krugerlive            102\n",
      "turkourjurbs          101\n",
      "tuoder                101\n",
      "bobcat                 98\n",
      "b34nz                  97\n"
     ]
    }
   ],
   "source": [
    "print(\"Most active users and the number of subreddits they were active:\\n\\n\", authors_on_subreddits.iloc[:10])"
   ]
  },
  {
   "cell_type": "code",
   "execution_count": null,
   "metadata": {},
   "outputs": [],
   "source": []
  },
  {
   "cell_type": "markdown",
   "metadata": {},
   "source": [
    "### Q5: Define the correlation between the number of submissions and the number of comments by users. Compute Pearson's coefficient and visualize the results\n",
    "\n",
    "> https://en.wikipedia.org/wiki/Pearson_correlation_coefficient"
   ]
  },
  {
   "cell_type": "code",
   "execution_count": 67,
   "metadata": {},
   "outputs": [
    {
     "name": "stdout",
     "output_type": "stream",
     "text": [
      "Requirement already satisfied: scipy in c:\\programdata\\anaconda3\\lib\\site-packages (1.5.2)\n",
      "Requirement already satisfied: numpy>=1.14.5 in c:\\programdata\\anaconda3\\lib\\site-packages (from scipy) (1.19.2)\n",
      "Note: you may need to restart the kernel to use updated packages.\n",
      "Requirement already satisfied: matplotlib in c:\\programdata\\anaconda3\\lib\\site-packages (3.3.2)\n",
      "Requirement already satisfied: certifi>=2020.06.20 in c:\\programdata\\anaconda3\\lib\\site-packages (from matplotlib) (2020.6.20)\n",
      "Requirement already satisfied: python-dateutil>=2.1 in c:\\programdata\\anaconda3\\lib\\site-packages (from matplotlib) (2.8.1)\n",
      "Requirement already satisfied: pillow>=6.2.0 in c:\\programdata\\anaconda3\\lib\\site-packages (from matplotlib) (8.0.1)\n",
      "Requirement already satisfied: pyparsing!=2.0.4,!=2.1.2,!=2.1.6,>=2.0.3 in c:\\programdata\\anaconda3\\lib\\site-packages (from matplotlib) (2.4.7)\n",
      "Requirement already satisfied: cycler>=0.10 in c:\\programdata\\anaconda3\\lib\\site-packages (from matplotlib) (0.10.0)\n",
      "Requirement already satisfied: kiwisolver>=1.0.1 in c:\\programdata\\anaconda3\\lib\\site-packages (from matplotlib) (1.3.0)\n",
      "Requirement already satisfied: numpy>=1.15 in c:\\programdata\\anaconda3\\lib\\site-packages (from matplotlib) (1.19.2)\n",
      "Requirement already satisfied: six>=1.5 in c:\\programdata\\anaconda3\\lib\\site-packages (from python-dateutil>=2.1->matplotlib) (1.15.0)\n",
      "Note: you may need to restart the kernel to use updated packages.\n"
     ]
    }
   ],
   "source": [
    "%pip install scipy\n",
    "from scipy.stats import pearsonr\n",
    "\n",
    "%pip install matplotlib\n",
    "import matplotlib.pyplot as plt"
   ]
  },
  {
   "cell_type": "code",
   "execution_count": 68,
   "metadata": {},
   "outputs": [],
   "source": [
    "author_submissions = submissions[[\"author\"]].groupby(\"author\").size().reset_index(name=\"submissions_count\")\n",
    "author_comments = comments[[\"author\"]].groupby(\"author\").size().reset_index(name=\"comments_count\")\n",
    "\n",
    "all_posting = pd.merge(author_submissions, author_comments, how=\"outer\", left_on=\"author\", right_on=\"author\").reset_index().fillna(0)\n",
    "# all_posting"
   ]
  },
  {
   "cell_type": "code",
   "execution_count": 69,
   "metadata": {},
   "outputs": [
    {
     "name": "stdout",
     "output_type": "stream",
     "text": [
      "Pearson's coefficient is:  0.15579701795119438\n"
     ]
    }
   ],
   "source": [
    "pearson, ttp = pearsonr(all_posting[\"submissions_count\"], all_posting[\"comments_count\"])\n",
    "print(\"Pearson's coefficient is: \", pearson)"
   ]
  },
  {
   "cell_type": "code",
   "execution_count": 70,
   "metadata": {},
   "outputs": [
    {
     "data": {
      "text/plain": [
       "Text(0, 0.5, 'Submissions Count')"
      ]
     },
     "execution_count": 70,
     "metadata": {},
     "output_type": "execute_result"
    },
    {
     "data": {
      "image/png": "[encoded data removed]",
      "text/plain": [
       "<Figure size 432x288 with 1 Axes>"
      ]
     },
     "metadata": {
      "needs_background": "light"
     },
     "output_type": "display_data"
    }
   ],
   "source": [
    "plt.scatter(all_posting[\"submissions_count\"], all_posting[\"comments_count\"])\n",
    "plt.xlabel(\"Comments Count\")\n",
    "plt.ylabel(\"Submissions Count\")"
   ]
  },
  {
   "cell_type": "code",
   "execution_count": 71,
   "metadata": {},
   "outputs": [
    {
     "name": "stdout",
     "output_type": "stream",
     "text": [
      "Comment extreme: \n"
     ]
    },
    {
     "data": {
      "text/html": [
       "<div>\n",
       "<style scoped>\n",
       "    .dataframe tbody tr th:only-of-type {\n",
       "        vertical-align: middle;\n",
       "    }\n",
       "\n",
       "    .dataframe tbody tr th {\n",
       "        vertical-align: top;\n",
       "    }\n",
       "\n",
       "    .dataframe thead th {\n",
       "        text-align: right;\n",
       "    }\n",
       "</style>\n",
       "<table border=\"1\" class=\"dataframe\">\n",
       "  <thead>\n",
       "    <tr style=\"text-align: right;\">\n",
       "      <th></th>\n",
       "      <th>author</th>\n",
       "      <th>comments_count</th>\n",
       "    </tr>\n",
       "  </thead>\n",
       "  <tbody>\n",
       "    <tr>\n",
       "      <th>11308</th>\n",
       "      <td>NoMoreNicksLeft</td>\n",
       "      <td>8465</td>\n",
       "    </tr>\n",
       "  </tbody>\n",
       "</table>\n",
       "</div>"
      ],
      "text/plain": [
       "                author  comments_count\n",
       "11308  NoMoreNicksLeft            8465"
      ]
     },
     "execution_count": 71,
     "metadata": {},
     "output_type": "execute_result"
    }
   ],
   "source": [
    "print(\"Comment extreme: \")\n",
    "author_comments.sort_values(by=\"comments_count\", ascending=False).iloc[:1]"
   ]
  },
  {
   "cell_type": "code",
   "execution_count": 72,
   "metadata": {},
   "outputs": [
    {
     "name": "stdout",
     "output_type": "stream",
     "text": [
      "Submissions extreme: \n"
     ]
    },
    {
     "data": {
      "text/html": [
       "<div>\n",
       "<style scoped>\n",
       "    .dataframe tbody tr th:only-of-type {\n",
       "        vertical-align: middle;\n",
       "    }\n",
       "\n",
       "    .dataframe tbody tr th {\n",
       "        vertical-align: top;\n",
       "    }\n",
       "\n",
       "    .dataframe thead th {\n",
       "        text-align: right;\n",
       "    }\n",
       "</style>\n",
       "<table border=\"1\" class=\"dataframe\">\n",
       "  <thead>\n",
       "    <tr style=\"text-align: right;\">\n",
       "      <th></th>\n",
       "      <th>author</th>\n",
       "      <th>submissions_count</th>\n",
       "    </tr>\n",
       "  </thead>\n",
       "  <tbody>\n",
       "    <tr>\n",
       "      <th>84823</th>\n",
       "      <td>gst</td>\n",
       "      <td>18870</td>\n",
       "    </tr>\n",
       "  </tbody>\n",
       "</table>\n",
       "</div>"
      ],
      "text/plain": [
       "      author  submissions_count\n",
       "84823    gst              18870"
      ]
     },
     "execution_count": 72,
     "metadata": {},
     "output_type": "execute_result"
    }
   ],
   "source": [
    "print(\"Submissions extreme: \")\n",
    "author_submissions.sort_values(by=\"submissions_count\", ascending=False).iloc[:1]"
   ]
  },
  {
   "cell_type": "code",
   "execution_count": null,
   "metadata": {},
   "outputs": [],
   "source": []
  },
  {
   "cell_type": "markdown",
   "metadata": {},
   "source": [
    "### Q6: Submissions with the most comments and their subreddits. Show their info (subreddit and context),  skip over18"
   ]
  },
  {
   "cell_type": "code",
   "execution_count": 73,
   "metadata": {},
   "outputs": [
    {
     "data": {
      "text/html": [
       "<div>\n",
       "<style scoped>\n",
       "    .dataframe tbody tr th:only-of-type {\n",
       "        vertical-align: middle;\n",
       "    }\n",
       "\n",
       "    .dataframe tbody tr th {\n",
       "        vertical-align: top;\n",
       "    }\n",
       "\n",
       "    .dataframe thead th {\n",
       "        text-align: right;\n",
       "    }\n",
       "</style>\n",
       "<table border=\"1\" class=\"dataframe\">\n",
       "  <thead>\n",
       "    <tr style=\"text-align: right;\">\n",
       "      <th></th>\n",
       "      <th>link_id</th>\n",
       "      <th>counts</th>\n",
       "    </tr>\n",
       "  </thead>\n",
       "  <tbody>\n",
       "    <tr>\n",
       "      <th>155775</th>\n",
       "      <td>6nz1k</td>\n",
       "      <td>1313</td>\n",
       "    </tr>\n",
       "    <tr>\n",
       "      <th>27284</th>\n",
       "      <td>675oj</td>\n",
       "      <td>1225</td>\n",
       "    </tr>\n",
       "    <tr>\n",
       "      <th>351484</th>\n",
       "      <td>7beo2</td>\n",
       "      <td>1074</td>\n",
       "    </tr>\n",
       "    <tr>\n",
       "      <th>27511</th>\n",
       "      <td>676ja</td>\n",
       "      <td>961</td>\n",
       "    </tr>\n",
       "    <tr>\n",
       "      <th>247824</th>\n",
       "      <td>6z9op</td>\n",
       "      <td>913</td>\n",
       "    </tr>\n",
       "    <tr>\n",
       "      <th>...</th>\n",
       "      <td>...</td>\n",
       "      <td>...</td>\n",
       "    </tr>\n",
       "    <tr>\n",
       "      <th>201186</th>\n",
       "      <td>6tmfu</td>\n",
       "      <td>1</td>\n",
       "    </tr>\n",
       "    <tr>\n",
       "      <th>201187</th>\n",
       "      <td>6tmfz</td>\n",
       "      <td>1</td>\n",
       "    </tr>\n",
       "    <tr>\n",
       "      <th>201190</th>\n",
       "      <td>6tmgi</td>\n",
       "      <td>1</td>\n",
       "    </tr>\n",
       "    <tr>\n",
       "      <th>201194</th>\n",
       "      <td>6tmh1</td>\n",
       "      <td>1</td>\n",
       "    </tr>\n",
       "    <tr>\n",
       "      <th>439513</th>\n",
       "      <td>7mq30</td>\n",
       "      <td>1</td>\n",
       "    </tr>\n",
       "  </tbody>\n",
       "</table>\n",
       "<p>439514 rows × 2 columns</p>\n",
       "</div>"
      ],
      "text/plain": [
       "       link_id  counts\n",
       "155775   6nz1k    1313\n",
       "27284    675oj    1225\n",
       "351484   7beo2    1074\n",
       "27511    676ja     961\n",
       "247824   6z9op     913\n",
       "...        ...     ...\n",
       "201186   6tmfu       1\n",
       "201187   6tmfz       1\n",
       "201190   6tmgi       1\n",
       "201194   6tmh1       1\n",
       "439513   7mq30       1\n",
       "\n",
       "[439514 rows x 2 columns]"
      ]
     },
     "execution_count": 73,
     "metadata": {},
     "output_type": "execute_result"
    }
   ],
   "source": [
    "comments_submissions = comments[[\"link_id\"]].groupby(\"link_id\").size().reset_index(name=\"counts\")\n",
    "comments_submissions = comments_submissions.sort_values(by=\"counts\", ascending=False)\n",
    "comments_submissions"
   ]
  },
  {
   "cell_type": "markdown",
   "metadata": {},
   "source": [
    "> These are unflitered comments\n"
   ]
  },
  {
   "cell_type": "code",
   "execution_count": 74,
   "metadata": {},
   "outputs": [
    {
     "data": {
      "text/html": [
       "<div>\n",
       "<style scoped>\n",
       "    .dataframe tbody tr th:only-of-type {\n",
       "        vertical-align: middle;\n",
       "    }\n",
       "\n",
       "    .dataframe tbody tr th {\n",
       "        vertical-align: top;\n",
       "    }\n",
       "\n",
       "    .dataframe thead th {\n",
       "        text-align: right;\n",
       "    }\n",
       "</style>\n",
       "<table border=\"1\" class=\"dataframe\">\n",
       "  <thead>\n",
       "    <tr style=\"text-align: right;\">\n",
       "      <th></th>\n",
       "      <th>submissions_id</th>\n",
       "      <th>url</th>\n",
       "      <th>permalink</th>\n",
       "      <th>author</th>\n",
       "      <th>created_utc</th>\n",
       "      <th>subreddit</th>\n",
       "      <th>subreddit_id</th>\n",
       "      <th>num_comments</th>\n",
       "      <th>score</th>\n",
       "      <th>over_18</th>\n",
       "      <th>link_id</th>\n",
       "      <th>counts</th>\n",
       "    </tr>\n",
       "  </thead>\n",
       "  <tbody>\n",
       "    <tr>\n",
       "      <th>154071</th>\n",
       "      <td>6nz1k</td>\n",
       "      <td>http://hundredpushups.com</td>\n",
       "      <td>/r/science/comments/6nz1k/got_six_weeks_try_th...</td>\n",
       "      <td>zekel</td>\n",
       "      <td>1213826517</td>\n",
       "      <td>science</td>\n",
       "      <td>t5_mouw</td>\n",
       "      <td>33329</td>\n",
       "      <td>1621</td>\n",
       "      <td>False</td>\n",
       "      <td>6nz1k</td>\n",
       "      <td>1313</td>\n",
       "    </tr>\n",
       "    <tr>\n",
       "      <th>27108</th>\n",
       "      <td>675oj</td>\n",
       "      <td>https://www.reddit.com/r/reddit.com/comments/6...</td>\n",
       "      <td>/r/reddit.com/comments/675oj/post_the_funniest...</td>\n",
       "      <td>matiasklein</td>\n",
       "      <td>1201730171</td>\n",
       "      <td>reddit.com</td>\n",
       "      <td>t5_6</td>\n",
       "      <td>2039</td>\n",
       "      <td>1098</td>\n",
       "      <td>False</td>\n",
       "      <td>675oj</td>\n",
       "      <td>1225</td>\n",
       "    </tr>\n",
       "    <tr>\n",
       "      <th>347032</th>\n",
       "      <td>7beo2</td>\n",
       "      <td>https://www.reddit.com/r/politics/comments/7be...</td>\n",
       "      <td>/r/politics/comments/7beo2/obama_wins_the_pres...</td>\n",
       "      <td>willjohnston</td>\n",
       "      <td>1225857637</td>\n",
       "      <td>politics</td>\n",
       "      <td>t5_2cneq</td>\n",
       "      <td>1934</td>\n",
       "      <td>8538</td>\n",
       "      <td>False</td>\n",
       "      <td>7beo2</td>\n",
       "      <td>1074</td>\n",
       "    </tr>\n",
       "    <tr>\n",
       "      <th>27334</th>\n",
       "      <td>676ja</td>\n",
       "      <td>http://www.washingtonpost.com/wp-dyn/content/c...</td>\n",
       "      <td>/r/reddit.com/comments/676ja/new_study_confirm...</td>\n",
       "      <td>rpi22</td>\n",
       "      <td>1201748070</td>\n",
       "      <td>reddit.com</td>\n",
       "      <td>t5_6</td>\n",
       "      <td>1377</td>\n",
       "      <td>669</td>\n",
       "      <td>False</td>\n",
       "      <td>676ja</td>\n",
       "      <td>961</td>\n",
       "    </tr>\n",
       "    <tr>\n",
       "      <th>244944</th>\n",
       "      <td>6z9op</td>\n",
       "      <td>http://www.google.com/chrome</td>\n",
       "      <td>/r/programming/comments/6z9op/chrome_is_here/</td>\n",
       "      <td>georgeb</td>\n",
       "      <td>1220381356</td>\n",
       "      <td>programming</td>\n",
       "      <td>t5_2fwo</td>\n",
       "      <td>1269</td>\n",
       "      <td>1904</td>\n",
       "      <td>False</td>\n",
       "      <td>6z9op</td>\n",
       "      <td>913</td>\n",
       "    </tr>\n",
       "    <tr>\n",
       "      <th>428848</th>\n",
       "      <td>7m6m4</td>\n",
       "      <td>http://www.dailykos.com/story/2008/12/28/11443...</td>\n",
       "      <td>/r/worldnews/comments/7m6m4/today_i_end_my_sup...</td>\n",
       "      <td>Schlichten</td>\n",
       "      <td>1230542729</td>\n",
       "      <td>worldnews</td>\n",
       "      <td>t5_2qh13</td>\n",
       "      <td>1335</td>\n",
       "      <td>1589</td>\n",
       "      <td>False</td>\n",
       "      <td>7m6m4</td>\n",
       "      <td>904</td>\n",
       "    </tr>\n",
       "    <tr>\n",
       "      <th>200875</th>\n",
       "      <td>6tvaz</td>\n",
       "      <td>https://www.reddit.com/r/politics/comments/6tv...</td>\n",
       "      <td>/r/politics/comments/6tvaz/im_a_bleedingheart_...</td>\n",
       "      <td>TheRealStick</td>\n",
       "      <td>1217288193</td>\n",
       "      <td>politics</td>\n",
       "      <td>t5_2cneq</td>\n",
       "      <td>1425</td>\n",
       "      <td>788</td>\n",
       "      <td>False</td>\n",
       "      <td>6tvaz</td>\n",
       "      <td>840</td>\n",
       "    </tr>\n",
       "    <tr>\n",
       "      <th>162829</th>\n",
       "      <td>6p30u</td>\n",
       "      <td>http://www.nytimes.com/aponline/business/AP-Sc...</td>\n",
       "      <td>/r/reddit.com/comments/6p30u/supreme_court_rul...</td>\n",
       "      <td>jtmarlin</td>\n",
       "      <td>1214490200</td>\n",
       "      <td>reddit.com</td>\n",
       "      <td>t5_6</td>\n",
       "      <td>1053</td>\n",
       "      <td>1071</td>\n",
       "      <td>False</td>\n",
       "      <td>6p30u</td>\n",
       "      <td>787</td>\n",
       "    </tr>\n",
       "    <tr>\n",
       "      <th>285037</th>\n",
       "      <td>7488a</td>\n",
       "      <td>http://www.msnbc.msn.com/id/26884523/?</td>\n",
       "      <td>/r/politics/comments/7488a/bailout_does_not_pa...</td>\n",
       "      <td>IM_A_REPTILIAN</td>\n",
       "      <td>1222711101</td>\n",
       "      <td>politics</td>\n",
       "      <td>t5_2cneq</td>\n",
       "      <td>1346</td>\n",
       "      <td>3361</td>\n",
       "      <td>False</td>\n",
       "      <td>7488a</td>\n",
       "      <td>765</td>\n",
       "    </tr>\n",
       "    <tr>\n",
       "      <th>133321</th>\n",
       "      <td>6lbr7</td>\n",
       "      <td>http://www.txstudy.org/please.html</td>\n",
       "      <td>/r/reddit.com/comments/6lbr7/is_reddit_really_...</td>\n",
       "      <td>valeriepieris</td>\n",
       "      <td>1212105723</td>\n",
       "      <td>reddit.com</td>\n",
       "      <td>t5_6</td>\n",
       "      <td>1287</td>\n",
       "      <td>492</td>\n",
       "      <td>False</td>\n",
       "      <td>6lbr7</td>\n",
       "      <td>762</td>\n",
       "    </tr>\n",
       "  </tbody>\n",
       "</table>\n",
       "</div>"
      ],
      "text/plain": [
       "       submissions_id                                                url  \\\n",
       "154071          6nz1k                          http://hundredpushups.com   \n",
       "27108           675oj  https://www.reddit.com/r/reddit.com/comments/6...   \n",
       "347032          7beo2  https://www.reddit.com/r/politics/comments/7be...   \n",
       "27334           676ja  http://www.washingtonpost.com/wp-dyn/content/c...   \n",
       "244944          6z9op                       http://www.google.com/chrome   \n",
       "428848          7m6m4  http://www.dailykos.com/story/2008/12/28/11443...   \n",
       "200875          6tvaz  https://www.reddit.com/r/politics/comments/6tv...   \n",
       "162829          6p30u  http://www.nytimes.com/aponline/business/AP-Sc...   \n",
       "285037          7488a             http://www.msnbc.msn.com/id/26884523/?   \n",
       "133321          6lbr7                 http://www.txstudy.org/please.html   \n",
       "\n",
       "                                                permalink          author  \\\n",
       "154071  /r/science/comments/6nz1k/got_six_weeks_try_th...           zekel   \n",
       "27108   /r/reddit.com/comments/675oj/post_the_funniest...     matiasklein   \n",
       "347032  /r/politics/comments/7beo2/obama_wins_the_pres...    willjohnston   \n",
       "27334   /r/reddit.com/comments/676ja/new_study_confirm...           rpi22   \n",
       "244944      /r/programming/comments/6z9op/chrome_is_here/         georgeb   \n",
       "428848  /r/worldnews/comments/7m6m4/today_i_end_my_sup...      Schlichten   \n",
       "200875  /r/politics/comments/6tvaz/im_a_bleedingheart_...    TheRealStick   \n",
       "162829  /r/reddit.com/comments/6p30u/supreme_court_rul...        jtmarlin   \n",
       "285037  /r/politics/comments/7488a/bailout_does_not_pa...  IM_A_REPTILIAN   \n",
       "133321  /r/reddit.com/comments/6lbr7/is_reddit_really_...   valeriepieris   \n",
       "\n",
       "        created_utc    subreddit subreddit_id  num_comments  score  over_18  \\\n",
       "154071   1213826517      science      t5_mouw         33329   1621    False   \n",
       "27108    1201730171   reddit.com         t5_6          2039   1098    False   \n",
       "347032   1225857637     politics     t5_2cneq          1934   8538    False   \n",
       "27334    1201748070   reddit.com         t5_6          1377    669    False   \n",
       "244944   1220381356  programming      t5_2fwo          1269   1904    False   \n",
       "428848   1230542729    worldnews     t5_2qh13          1335   1589    False   \n",
       "200875   1217288193     politics     t5_2cneq          1425    788    False   \n",
       "162829   1214490200   reddit.com         t5_6          1053   1071    False   \n",
       "285037   1222711101     politics     t5_2cneq          1346   3361    False   \n",
       "133321   1212105723   reddit.com         t5_6          1287    492    False   \n",
       "\n",
       "       link_id  counts  \n",
       "154071   6nz1k    1313  \n",
       "27108    675oj    1225  \n",
       "347032   7beo2    1074  \n",
       "27334    676ja     961  \n",
       "244944   6z9op     913  \n",
       "428848   7m6m4     904  \n",
       "200875   6tvaz     840  \n",
       "162829   6p30u     787  \n",
       "285037   7488a     765  \n",
       "133321   6lbr7     762  "
      ]
     },
     "execution_count": 74,
     "metadata": {},
     "output_type": "execute_result"
    }
   ],
   "source": [
    "sfw_comments = pd.merge(submissions[submissions[\"over_18\"] == False], comments_submissions, how=\"inner\", left_on=\"submissions_id\", right_on=\"link_id\")\n",
    "sfw_comments = sfw_comments.sort_values(by=\"counts\", ascending=False)\n",
    "sfw_comments.iloc[:10]"
   ]
  },
  {
   "cell_type": "code",
   "execution_count": 75,
   "metadata": {},
   "outputs": [
    {
     "name": "stdout",
     "output_type": "stream",
     "text": [
      "Filtered out: 6568 comments from nsfw submissions\n",
      "Check if any nsfw are left:  0\n"
     ]
    }
   ],
   "source": [
    "print(f\"Filtered out: {comments_submissions.shape[0] - sfw_comments.shape[0]} comments from nsfw submissions\")\n",
    "print(\"Check if any nsfw are left: \", sfw_comments[sfw_comments[\"over_18\"]==True].shape[0])"
   ]
  },
  {
   "cell_type": "code",
   "execution_count": null,
   "metadata": {},
   "outputs": [],
   "source": []
  }
 ],
 "metadata": {
  "kernelspec": {
   "display_name": "Python 3",
   "language": "python",
   "name": "python3"
  },
  "language_info": {
   "codemirror_mode": {
    "name": "ipython",
    "version": 3
   },
   "file_extension": ".py",
   "mimetype": "text/x-python",
   "name": "python",
   "nbconvert_exporter": "python",
   "pygments_lexer": "ipython3",
   "version": "3.8.5"
  },
  "vscode": {
   "interpreter": {
    "hash": "ad2bdc8ecc057115af97d19610ffacc2b4e99fae6737bb82f5d7fb13d2f2c186"
   }
  }
 },
 "nbformat": 4,
 "nbformat_minor": 4
}
