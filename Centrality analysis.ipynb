{
 "cells": [
  {
   "cell_type": "markdown",
   "metadata": {},
   "source": [
    "# Import GMLs\n"
   ]
  },
  {
   "cell_type": "code",
   "execution_count": 1,
   "metadata": {},
   "outputs": [],
   "source": [
    "import networkx as nx\n",
    "SNet = nx.read_gml(\"data/graphs/snet.gml\")\n",
    "SNetF = nx.read_gml(\"data/graphs/snetf.gml\")\n",
    "SNetT = nx.read_gml(\"data/graphs/snett.gml\")\n",
    "UserNet = nx.read_gml(\"data/graphs/usernet.gml\")"
   ]
  },
  {
   "cell_type": "code",
   "execution_count": 2,
   "metadata": {},
   "outputs": [
    {
     "name": "stdout",
     "output_type": "stream",
     "text": [
      "Name: \n",
      "Type: Graph\n",
      "Number of nodes: 4191\n",
      "Number of edges: 135974\n",
      "Average degree:  64.8886\n",
      "Name: \n",
      "Type: Graph\n",
      "Number of nodes: 4191\n",
      "Number of edges: 6113\n",
      "Average degree:   2.9172\n",
      "Name: \n",
      "Type: Graph\n",
      "Number of nodes: 39\n",
      "Number of edges: 741\n",
      "Average degree:  38.0000\n",
      "Name: \n",
      "Type: DiGraph\n",
      "Number of nodes: 18975\n",
      "Number of edges: 102043\n",
      "Average in degree:   5.3778\n",
      "Average out degree:   5.3778\n"
     ]
    }
   ],
   "source": [
    "print(nx.info(SNet))\n",
    "print(nx.info(SNetF))\n",
    "print(nx.info(SNetT))\n",
    "print(nx.info(UserNet))"
   ]
  },
  {
   "cell_type": "markdown",
   "metadata": {},
   "source": [
    "# Centrality analysis\n",
    "\n",
    "## 16 Degree, closeness and betweenness centralities. Summary of most notable elements "
   ]
  },
  {
   "cell_type": "code",
   "execution_count": 139,
   "metadata": {},
   "outputs": [],
   "source": [
    "import pandas as pd\n",
    "\n",
    "def degree_centrality(graph):\n",
    "    dict_dc = nx.degree_centrality(graph)\n",
    "    dc = pd.DataFrame.from_dict(dict_dc, orient=\"index\", columns=[\"degree_centrality\"])\n",
    "    dc.index.name = \"subreddit\"\n",
    "    dc.sort_values(by=\"degree_centrality\", ascending=False, inplace=True)\n",
    "    return dc\n",
    "\n",
    "def directed_degree_centrality(graph):\n",
    "    dict_dc_in = nx.in_degree_centrality(graph)\n",
    "    in_dc = pd.DataFrame.from_dict(dict_dc_in, orient=\"index\", columns=[\"in_degree_centrality\"])\n",
    "    in_dc.index.name = \"subreddit\"\n",
    "    in_dc.sort_values(by=\"in_degree_centrality\", ascending=False, inplace=True)\n",
    "    \n",
    "    dict_dc_out = nx.out_degree_centrality(graph)\n",
    "    out_dc = pd.DataFrame.from_dict(dict_dc_out, orient=\"index\", columns=[\"out_degree_centrality\"])\n",
    "    out_dc.index.name = \"subreddit\"\n",
    "    out_dc.sort_values(by=\"out_degree_centrality\", ascending=False, inplace=True)\n",
    "    \n",
    "    return in_dc, out_dc\n",
    "\n",
    "def closeness_centrality(graph):\n",
    "    dict_cc = nx.closeness_centrality(graph)\n",
    "    cc = pd.DataFrame.from_dict(dict_cc, orient=\"index\", columns=[\"closeness_centrality\"])\n",
    "    cc.index.name = \"subreddit\"\n",
    "    cc.sort_values(by=\"closeness_centrality\", ascending=False, inplace=True)\n",
    "    return cc\n",
    "\n",
    "def betweenness_centrality(graph):\n",
    "    dict_bc = nx.betweenness_centrality(graph)\n",
    "    bc = pd.DataFrame.from_dict(dict_bc, orient=\"index\", columns=[\"betweenness_centrality\"])\n",
    "    bc.index.name = \"subreddit\"\n",
    "    bc.sort_values(by=\"betweenness_centrality\", ascending=False, inplace=True)\n",
    "    return bc\n",
    "\n",
    "def centralities(graph):\n",
    "    centralities = ()\n",
    "    if nx.is_directed(graph):\n",
    "        centralities = directed_degree_centrality(graph)\n",
    "        \n",
    "    centralities = centralities + (degree_centrality(graph),)\n",
    "    centralities = centralities + (closeness_centrality(graph),)\n",
    "    centralities = centralities + (betweenness_centrality(graph),)\n",
    "    return centralities\n",
    "\n",
    "def print_top_ten_centralities(graph_name, g_dfs):\n",
    "    print(f\"Top ten {graph_name}'s elements by centrality\")\n",
    "    for i in range(len(g_dfs)):\n",
    "        print(g_dfs[i].iloc[:10])\n",
    "        \n",
    "def print_top_ten_specific_centrality(graph_name, g_dfs, centrality_name, index):\n",
    "    print(f\"Top ten {graph_name}'s elements by {centrality_name} centrality\")\n",
    "    print(g_dfs[index].iloc[:10])"
   ]
  },
  {
   "cell_type": "code",
   "execution_count": 192,
   "metadata": {},
   "outputs": [],
   "source": [
    "import pickle\n",
    "\n",
    "def write(centrality_name, centrality):\n",
    "    pickle.dump(centrality, open(f\"data/centralities/{centrality_name}\", \"wb\"))\n",
    "    \n",
    "def get_centrality(centrality_name, graph, overwrite_centrality=False):\n",
    "    def create_and_write(centrality_name, graph):\n",
    "            centrality = centralities(graph)\n",
    "            write(centrality_name, centrality)\n",
    "            return centrality\n",
    "        \n",
    "    try:\n",
    "        if overwrite_centrality:\n",
    "            return create_and_write(centrality_name, graph)\n",
    "        else:\n",
    "            return pickle.load(open(f\"data/centralities/{centrality_name}\", \"rb\"))\n",
    "    except (OSError, IOError) as e:\n",
    "        return create_and_write(centrality_name, graph)"
   ]
  },
  {
   "cell_type": "code",
   "execution_count": 188,
   "metadata": {},
   "outputs": [],
   "source": [
    "snet_centralities = get_centrality(\"snet_centralities\", SNet) #, overwrite_centrality=True)"
   ]
  },
  {
   "cell_type": "code",
   "execution_count": 191,
   "metadata": {},
   "outputs": [
    {
     "name": "stdout",
     "output_type": "stream",
     "text": [
      "Top ten SNet's elements by centrality\n",
      "               degree_centrality\n",
      "subreddit                       \n",
      "reddit.com              0.714320\n",
      "politics                0.489976\n",
      "technology              0.489499\n",
      "pics                    0.480907\n",
      "funny                   0.468496\n",
      "science                 0.464678\n",
      "entertainment           0.456325\n",
      "worldnews               0.454654\n",
      "programming             0.450119\n",
      "WTF                     0.449403\n",
      "               closeness_centrality\n",
      "subreddit                          \n",
      "reddit.com                 0.722837\n",
      "technology                 0.576672\n",
      "politics                   0.576304\n",
      "pics                       0.571567\n",
      "funny                      0.565136\n",
      "science                    0.563258\n",
      "entertainment              0.559424\n",
      "worldnews                  0.558732\n",
      "programming                0.555755\n",
      "WTF                        0.555755\n",
      "               betweenness_centrality\n",
      "subreddit                            \n",
      "reddit.com                   0.248260\n",
      "technology                   0.031858\n",
      "programming                  0.029536\n",
      "politics                     0.028278\n",
      "business                     0.026771\n",
      "pics                         0.025234\n",
      "entertainment                0.024741\n",
      "worldnews                    0.021677\n",
      "funny                        0.021132\n",
      "science                      0.020552\n"
     ]
    }
   ],
   "source": [
    "print_top_ten_centralities(\"SNet\", snet_centralities)"
   ]
  },
  {
   "cell_type": "code",
   "execution_count": 196,
   "metadata": {},
   "outputs": [],
   "source": [
    "snetf_centralities = get_centrality(\"snetf_centralities\", SNetF) #, overwrite_centrality=True)"
   ]
  },
  {
   "cell_type": "code",
   "execution_count": 123,
   "metadata": {},
   "outputs": [
    {
     "name": "stdout",
     "output_type": "stream",
     "text": [
      "Top ten SNetF's elements by centrality\n",
      "               degree_centrality\n",
      "subreddit                       \n",
      "reddit.com              0.057041\n",
      "pics                    0.050597\n",
      "politics                0.050119\n",
      "science                 0.049403\n",
      "technology              0.049403\n",
      "funny                   0.048687\n",
      "worldnews               0.047971\n",
      "WTF                     0.046539\n",
      "entertainment           0.046062\n",
      "programming             0.044391\n",
      "               closeness_centrality\n",
      "subreddit                          \n",
      "reddit.com                 0.057056\n",
      "pics                       0.051061\n",
      "politics                   0.050694\n",
      "science                    0.050152\n",
      "technology                 0.050152\n",
      "funny                      0.049623\n",
      "worldnews                  0.049104\n",
      "WTF                        0.048098\n",
      "entertainment              0.047772\n",
      "programming                0.046665\n",
      "               betweenness_centrality\n",
      "subreddit                            \n",
      "reddit.com                   0.000857\n",
      "politics                     0.000180\n",
      "pics                         0.000178\n",
      "technology                   0.000150\n",
      "science                      0.000148\n",
      "programming                  0.000140\n",
      "funny                        0.000138\n",
      "worldnews                    0.000134\n",
      "WTF                          0.000107\n",
      "entertainment                0.000103\n"
     ]
    }
   ],
   "source": [
    "print_top_ten_centralities(\"SNetF\", snetf_centralities)"
   ]
  },
  {
   "cell_type": "code",
   "execution_count": 177,
   "metadata": {},
   "outputs": [],
   "source": [
    "snett_centralities = get_centrality(\"snett_centrality\", SNetT)"
   ]
  },
  {
   "cell_type": "code",
   "execution_count": 178,
   "metadata": {},
   "outputs": [
    {
     "name": "stdout",
     "output_type": "stream",
     "text": [
      "Top ten SNetT's elements by centrality\n",
      "             degree_centrality\n",
      "subreddit                     \n",
      "reddit.com                 1.0\n",
      "funny                      1.0\n",
      "atheism                    1.0\n",
      "bestof                     1.0\n",
      "technology                 1.0\n",
      "WTF                        1.0\n",
      "canada                     1.0\n",
      "geek                       1.0\n",
      "photography                1.0\n",
      "history                    1.0\n",
      "             closeness_centrality\n",
      "subreddit                        \n",
      "reddit.com                    1.0\n",
      "funny                         1.0\n",
      "atheism                       1.0\n",
      "bestof                        1.0\n",
      "technology                    1.0\n",
      "WTF                           1.0\n",
      "canada                        1.0\n",
      "geek                          1.0\n",
      "photography                   1.0\n",
      "history                       1.0\n",
      "             betweenness_centrality\n",
      "subreddit                          \n",
      "reddit.com                      0.0\n",
      "funny                           0.0\n",
      "atheism                         0.0\n",
      "bestof                          0.0\n",
      "technology                      0.0\n",
      "WTF                             0.0\n",
      "canada                          0.0\n",
      "geek                            0.0\n",
      "photography                     0.0\n",
      "history                         0.0\n"
     ]
    }
   ],
   "source": [
    "print_top_ten_centralities(\"SNetT\", snett_centralities)"
   ]
  },
  {
   "cell_type": "code",
   "execution_count": 194,
   "metadata": {},
   "outputs": [],
   "source": [
    "usernet_centralities = get_centrality(\"usernet_centralities\", UserNet) #, overwrite_centrality=True) "
   ]
  },
  {
   "cell_type": "code",
   "execution_count": 195,
   "metadata": {},
   "outputs": [
    {
     "name": "stdout",
     "output_type": "stream",
     "text": [
      "Top ten UserNet's elements by centrality\n",
      "                 in_degree_centrality\n",
      "subreddit                            \n",
      "NoMoreNicksLeft              0.024507\n",
      "7oby                         0.022873\n",
      "mutatron                     0.021292\n",
      "Poromenos                    0.017392\n",
      "fingers                      0.016338\n",
      "matts2                       0.015969\n",
      "amstrdamordeath              0.015811\n",
      "MrKlaatu                     0.015811\n",
      "nixonrichard                 0.015495\n",
      "malcontent                   0.015284\n",
      "                out_degree_centrality\n",
      "subreddit                            \n",
      "alllie                       0.055866\n",
      "7oby                         0.049120\n",
      "rmuser                       0.045272\n",
      "qgyh2                        0.039791\n",
      "deuteros                     0.029092\n",
      "tsteele93                    0.027511\n",
      "bobcat                       0.023032\n",
      "grauenwolf                   0.017919\n",
      "Aerik                        0.017340\n",
      "AMerrickanGirl               0.017129\n",
      "                 degree_centrality\n",
      "subreddit                         \n",
      "7oby                      0.071993\n",
      "alllie                    0.066249\n",
      "rmuser                    0.050701\n",
      "qgyh2                     0.047855\n",
      "deuteros                  0.038421\n",
      "tsteele93                 0.035997\n",
      "NoMoreNicksLeft           0.034784\n",
      "bobcat                    0.031042\n",
      "mutatron                  0.028249\n",
      "jordanlund                0.025772\n",
      "                 closeness_centrality\n",
      "subreddit                            \n",
      "7oby                         0.191426\n",
      "NoMoreNicksLeft              0.189188\n",
      "mutatron                     0.183276\n",
      "fingers                      0.182613\n",
      "Poromenos                    0.182364\n",
      "amstrdamordeath              0.181606\n",
      "MrKlaatu                     0.181215\n",
      "sakebomb69                   0.180446\n",
      "uteunawaytay                 0.178815\n",
      "nixonrichard                 0.177569\n",
      "                 betweenness_centrality\n",
      "subreddit                              \n",
      "7oby                           0.038758\n",
      "alllie                         0.021461\n",
      "qgyh2                          0.015406\n",
      "rmuser                         0.014558\n",
      "NoMoreNicksLeft                0.012480\n",
      "mutatron                       0.010970\n",
      "tsteele93                      0.010731\n",
      "deuteros                       0.009837\n",
      "bobcat                         0.008828\n",
      "glengyron                      0.008512\n"
     ]
    }
   ],
   "source": [
    "print_top_ten_centralities(\"UserNet\", usernet_centralities)"
   ]
  },
  {
   "cell_type": "markdown",
   "metadata": {},
   "source": [
    "## 17 Most important actors by *Eigenvector* centrality? What can we deduce? \n",
    "\n",
    "Variant of the degree centrality which takes into consideration the node's neighborhood. We can learn about it's power and influence.\n",
    "* A more powerful node is that node which stands out as the one with the most edges, controling the troughput\n",
    "* A more influencing node is that node which blends into a well connected neighborhood, having many edges as well"
   ]
  },
  {
   "cell_type": "code",
   "execution_count": 27,
   "metadata": {},
   "outputs": [],
   "source": [
    "def eigenvector_centrality(graph):\n",
    "    dict_ec = nx.eigenvector_centrality(graph, weight=\"weight\")\n",
    "    ec = pd.DataFrame.from_dict(dict_ec, orient=\"index\", columns=[\"eigenvector_centrality\"])\n",
    "    ec.index.name = \"subreddit\"\n",
    "    ec.sort_values(by=\"eigenvector_centrality\", ascending=False, inplace=True)\n",
    "    return ec"
   ]
  },
  {
   "cell_type": "code",
   "execution_count": 149,
   "metadata": {},
   "outputs": [],
   "source": [
    "snet_centralities = snet_centralities + (eigenvector_centrality(SNet),)"
   ]
  },
  {
   "cell_type": "code",
   "execution_count": 150,
   "metadata": {},
   "outputs": [
    {
     "name": "stdout",
     "output_type": "stream",
     "text": [
      "Top ten SNet's elements by Eigenvector centrality\n",
      "               eigenvector_centrality\n",
      "subreddit                            \n",
      "reddit.com                   0.384282\n",
      "politics                     0.315704\n",
      "pics                         0.292063\n",
      "funny                        0.280539\n",
      "science                      0.273836\n",
      "technology                   0.265365\n",
      "worldnews                    0.258570\n",
      "WTF                          0.253545\n",
      "entertainment                0.253039\n",
      "programming                  0.220225\n"
     ]
    }
   ],
   "source": [
    "print_top_ten_specific_centrality(\"SNet\", snet_centralities, \"Eigenvector\", -1)"
   ]
  },
  {
   "cell_type": "code",
   "execution_count": 151,
   "metadata": {},
   "outputs": [],
   "source": [
    "snetf_centralities = snetf_centralities + (eigenvector_centrality(SNetF),)"
   ]
  },
  {
   "cell_type": "code",
   "execution_count": 153,
   "metadata": {},
   "outputs": [
    {
     "name": "stdout",
     "output_type": "stream",
     "text": [
      "Top ten SNetF's elements by Eigenvector centrality\n",
      "               eigenvector_centrality\n",
      "subreddit                            \n",
      "reddit.com                   0.384340\n",
      "politics                     0.315757\n",
      "pics                         0.292108\n",
      "funny                        0.280581\n",
      "science                      0.273877\n",
      "technology                   0.265404\n",
      "worldnews                    0.258607\n",
      "WTF                          0.253581\n",
      "entertainment                0.253076\n",
      "programming                  0.220253\n"
     ]
    }
   ],
   "source": [
    "print_top_ten_specific_centrality(\"SNetF\", snetf_centralities, \"Eigenvector\", -1)"
   ]
  },
  {
   "cell_type": "code",
   "execution_count": 142,
   "metadata": {},
   "outputs": [],
   "source": [
    "snett_centralities = snett_centralities + (eigenvector_centrality(SNetT),)"
   ]
  },
  {
   "cell_type": "code",
   "execution_count": 155,
   "metadata": {
    "scrolled": true
   },
   "outputs": [
    {
     "name": "stdout",
     "output_type": "stream",
     "text": [
      "Top ten SNetT's elements by Eigenvector centrality\n",
      "               eigenvector_centrality\n",
      "subreddit                            \n",
      "reddit.com                   0.388978\n",
      "politics                     0.319382\n",
      "pics                         0.295185\n",
      "funny                        0.283491\n",
      "science                      0.276774\n",
      "technology                   0.268279\n",
      "worldnews                    0.261412\n",
      "WTF                          0.256010\n",
      "entertainment                0.255542\n",
      "programming                  0.222823\n"
     ]
    }
   ],
   "source": [
    "print_top_ten_specific_centrality(\"SNetT\", snett_centralities, \"Eigenvector\", -1)"
   ]
  },
  {
   "cell_type": "code",
   "execution_count": 171,
   "metadata": {},
   "outputs": [],
   "source": [
    "user_net_centralities = usernet_centralities + (eigenvector_centrality(UserNet),)"
   ]
  },
  {
   "cell_type": "code",
   "execution_count": 157,
   "metadata": {},
   "outputs": [
    {
     "name": "stdout",
     "output_type": "stream",
     "text": [
      "Top ten UserNet's elements by Eigenvector centrality\n",
      "                 betweenness_centrality\n",
      "subreddit                              \n",
      "7oby                           0.038758\n",
      "alllie                         0.021461\n",
      "qgyh2                          0.015406\n",
      "rmuser                         0.014558\n",
      "NoMoreNicksLeft                0.012480\n",
      "mutatron                       0.010970\n",
      "tsteele93                      0.010731\n",
      "deuteros                       0.009837\n",
      "bobcat                         0.008828\n",
      "glengyron                      0.008512\n"
     ]
    }
   ],
   "source": [
    "print_top_ten_specific_centrality(\"UserNet\", usernet_centralities, \"Eigenvector\", -1)"
   ]
  },
  {
   "cell_type": "markdown",
   "metadata": {},
   "source": [
    "## 18 Rank nodes using the *Katz* centrality with parameter variation. Play with the beta parameter for the subreddit \"reddit.com\". Show most important actors, with and without specific betas\n",
    "\n",
    "* Katz centrality computes the centrality for a node based on the centrality of its neighbors. It is a generalization of the eigenvector centrality.\n",
    "* The parameter  controls the initial centrality \n",
    "\n",
    " \n",
    "* Katz centrality computes the relative influence of a node within a network by measuring the number of the immediate neighbors (first degree nodes) and also all other nodes in the network that connect to the node under consideration through these immediate neighbors.\n",
    "\n",
    "* This algorithm it uses the power method to find the eigenvector corresponding to the largest eigenvalue of the adjacency matrix of G. The parameter alpha should be strictly less than the inverse of largest eigenvalue of the adjacency matrix for the algorithm to converge. You can use max(nx.adjacency_spectrum(G)) to get  the largest eigenvalue of the adjacency matrix. The iteration will stop after max_iter iterations or an error tolerance of number_of_nodes(G) * tol has been reached.\n",
    "\n",
    "* When $$ \\alpha=\\frac{1}{\\lambda} $$ and $$\\beta=0$$ , Katz centrality is the same as eigenvector centrality."
   ]
  },
  {
   "cell_type": "code",
   "execution_count": 8,
   "metadata": {},
   "outputs": [],
   "source": [
    "def get_alpha(graph):\n",
    "    lambda_max = max(nx.adjacency_spectrum(graph))\n",
    "    print(lambda_max)\n",
    "    print(f\"alpha need to be < {1.0/lambda_max}\")"
   ]
  },
  {
   "cell_type": "code",
   "execution_count": 9,
   "metadata": {},
   "outputs": [
    {
     "name": "stdout",
     "output_type": "stream",
     "text": [
      "(158672.32654746872+0j)\n",
      "alpha need to be < (6.30229619593331e-06+0j)\n",
      "(158645.5693695278+0j)\n",
      "alpha need to be < (6.30335914185371e-06+0j)\n",
      "(155722.39506192337+0j)\n",
      "alpha need to be < (6.421683917732884e-06+0j)\n"
     ]
    },
    {
     "data": {
      "text/plain": [
       "(None, None, None)"
      ]
     },
     "execution_count": 9,
     "metadata": {},
     "output_type": "execute_result"
    }
   ],
   "source": [
    "get_alpha(SNet), get_alpha(SNetF), get_alpha(SNetT)"
   ]
  },
  {
   "cell_type": "markdown",
   "metadata": {},
   "source": [
    "Since there is no need to run UserNet against a subreddit, I will skip Katz' centrality for it.\n",
    "\n",
    "Also, alpha need to be smaller than all three values, so I will take 6.0e-06 as a smaller value"
   ]
  },
  {
   "cell_type": "code",
   "execution_count": 18,
   "metadata": {},
   "outputs": [],
   "source": [
    "alpha = 6.0e-05\n",
    "special_node = \"reddit.com\"\n",
    "\n",
    "def katz_centrality(graph, beta=1.0):\n",
    "    dict_kc = nx.katz_centrality(graph, alpha=alpha, beta=beta, weight=\"weight\")\n",
    "    kc = pd.DataFrame.from_dict(dict_kc, orient=\"index\", columns=[\"katz_centrality\"])\n",
    "    kc.index.name = \"subreddit\"\n",
    "    kc.sort_values(by=\"katz_centrality\", ascending=False, inplace=True)\n",
    "    return kc\n",
    "\n",
    "def special_katz_centrality(graph, special_beta):\n",
    "    betas = [(node, special_beta if node == special_node else 1.0) for node in graph]\n",
    "    return katz_centrality(graph, betas)"
   ]
  },
  {
   "cell_type": "code",
   "execution_count": 20,
   "metadata": {},
   "outputs": [
    {
     "ename": "PowerIterationFailedConvergence",
     "evalue": "(PowerIterationFailedConvergence(...), 'power iteration failed to converge within 1000 iterations')",
     "output_type": "error",
     "traceback": [
      "\u001b[1;31m---------------------------------------------------------------------------\u001b[0m",
      "\u001b[1;31mPowerIterationFailedConvergence\u001b[0m           Traceback (most recent call last)",
      "\u001b[1;32m<ipython-input-20-79cc08bc2609>\u001b[0m in \u001b[0;36m<module>\u001b[1;34m\u001b[0m\n\u001b[1;32m----> 1\u001b[1;33m \u001b[0mkatz_centrality\u001b[0m\u001b[1;33m(\u001b[0m\u001b[0mSNetF\u001b[0m\u001b[1;33m)\u001b[0m\u001b[1;33m\u001b[0m\u001b[1;33m\u001b[0m\u001b[0m\n\u001b[0m",
      "\u001b[1;32m<ipython-input-18-668378b5ed60>\u001b[0m in \u001b[0;36mkatz_centrality\u001b[1;34m(graph, beta)\u001b[0m\n\u001b[0;32m      3\u001b[0m \u001b[1;33m\u001b[0m\u001b[0m\n\u001b[0;32m      4\u001b[0m \u001b[1;32mdef\u001b[0m \u001b[0mkatz_centrality\u001b[0m\u001b[1;33m(\u001b[0m\u001b[0mgraph\u001b[0m\u001b[1;33m,\u001b[0m \u001b[0mbeta\u001b[0m\u001b[1;33m=\u001b[0m\u001b[1;36m1.0\u001b[0m\u001b[1;33m)\u001b[0m\u001b[1;33m:\u001b[0m\u001b[1;33m\u001b[0m\u001b[1;33m\u001b[0m\u001b[0m\n\u001b[1;32m----> 5\u001b[1;33m     \u001b[0mdict_kc\u001b[0m \u001b[1;33m=\u001b[0m \u001b[0mnx\u001b[0m\u001b[1;33m.\u001b[0m\u001b[0mkatz_centrality\u001b[0m\u001b[1;33m(\u001b[0m\u001b[0mgraph\u001b[0m\u001b[1;33m,\u001b[0m \u001b[0malpha\u001b[0m\u001b[1;33m=\u001b[0m\u001b[0malpha\u001b[0m\u001b[1;33m,\u001b[0m \u001b[0mbeta\u001b[0m\u001b[1;33m=\u001b[0m\u001b[0mbeta\u001b[0m\u001b[1;33m,\u001b[0m \u001b[0mweight\u001b[0m\u001b[1;33m=\u001b[0m\u001b[1;34m\"weight\"\u001b[0m\u001b[1;33m)\u001b[0m\u001b[1;33m\u001b[0m\u001b[1;33m\u001b[0m\u001b[0m\n\u001b[0m\u001b[0;32m      6\u001b[0m     \u001b[0mkc\u001b[0m \u001b[1;33m=\u001b[0m \u001b[0mpd\u001b[0m\u001b[1;33m.\u001b[0m\u001b[0mDataFrame\u001b[0m\u001b[1;33m.\u001b[0m\u001b[0mfrom_dict\u001b[0m\u001b[1;33m(\u001b[0m\u001b[0mdict_kc\u001b[0m\u001b[1;33m,\u001b[0m \u001b[0morient\u001b[0m\u001b[1;33m=\u001b[0m\u001b[1;34m\"index\"\u001b[0m\u001b[1;33m,\u001b[0m \u001b[0mcolumns\u001b[0m\u001b[1;33m=\u001b[0m\u001b[1;33m[\u001b[0m\u001b[1;34m\"katz_centrality\"\u001b[0m\u001b[1;33m]\u001b[0m\u001b[1;33m)\u001b[0m\u001b[1;33m\u001b[0m\u001b[1;33m\u001b[0m\u001b[0m\n\u001b[0;32m      7\u001b[0m     \u001b[0mkc\u001b[0m\u001b[1;33m.\u001b[0m\u001b[0mindex\u001b[0m\u001b[1;33m.\u001b[0m\u001b[0mname\u001b[0m \u001b[1;33m=\u001b[0m \u001b[1;34m\"subreddit\"\u001b[0m\u001b[1;33m\u001b[0m\u001b[1;33m\u001b[0m\u001b[0m\n",
      "\u001b[1;32m<decorator-gen-283>\u001b[0m in \u001b[0;36mkatz_centrality\u001b[1;34m(G, alpha, beta, max_iter, tol, nstart, normalized, weight)\u001b[0m\n",
      "\u001b[1;32mC:\\ProgramData\\Anaconda3\\lib\\site-packages\\networkx\\utils\\decorators.py\u001b[0m in \u001b[0;36m_not_implemented_for\u001b[1;34m(not_implement_for_func, *args, **kwargs)\u001b[0m\n\u001b[0;32m     76\u001b[0m             \u001b[1;32mraise\u001b[0m \u001b[0mnx\u001b[0m\u001b[1;33m.\u001b[0m\u001b[0mNetworkXNotImplemented\u001b[0m\u001b[1;33m(\u001b[0m\u001b[0mmsg\u001b[0m\u001b[1;33m)\u001b[0m\u001b[1;33m\u001b[0m\u001b[1;33m\u001b[0m\u001b[0m\n\u001b[0;32m     77\u001b[0m         \u001b[1;32melse\u001b[0m\u001b[1;33m:\u001b[0m\u001b[1;33m\u001b[0m\u001b[1;33m\u001b[0m\u001b[0m\n\u001b[1;32m---> 78\u001b[1;33m             \u001b[1;32mreturn\u001b[0m \u001b[0mnot_implement_for_func\u001b[0m\u001b[1;33m(\u001b[0m\u001b[1;33m*\u001b[0m\u001b[0margs\u001b[0m\u001b[1;33m,\u001b[0m \u001b[1;33m**\u001b[0m\u001b[0mkwargs\u001b[0m\u001b[1;33m)\u001b[0m\u001b[1;33m\u001b[0m\u001b[1;33m\u001b[0m\u001b[0m\n\u001b[0m\u001b[0;32m     79\u001b[0m \u001b[1;33m\u001b[0m\u001b[0m\n\u001b[0;32m     80\u001b[0m     \u001b[1;32mreturn\u001b[0m \u001b[0m_not_implemented_for\u001b[0m\u001b[1;33m\u001b[0m\u001b[1;33m\u001b[0m\u001b[0m\n",
      "\u001b[1;32mC:\\ProgramData\\Anaconda3\\lib\\site-packages\\networkx\\algorithms\\centrality\\katz.py\u001b[0m in \u001b[0;36mkatz_centrality\u001b[1;34m(G, alpha, beta, max_iter, tol, nstart, normalized, weight)\u001b[0m\n\u001b[0;32m    190\u001b[0m                 \u001b[0mx\u001b[0m\u001b[1;33m[\u001b[0m\u001b[0mn\u001b[0m\u001b[1;33m]\u001b[0m \u001b[1;33m*=\u001b[0m \u001b[0ms\u001b[0m\u001b[1;33m\u001b[0m\u001b[1;33m\u001b[0m\u001b[0m\n\u001b[0;32m    191\u001b[0m             \u001b[1;32mreturn\u001b[0m \u001b[0mx\u001b[0m\u001b[1;33m\u001b[0m\u001b[1;33m\u001b[0m\u001b[0m\n\u001b[1;32m--> 192\u001b[1;33m     \u001b[1;32mraise\u001b[0m \u001b[0mnx\u001b[0m\u001b[1;33m.\u001b[0m\u001b[0mPowerIterationFailedConvergence\u001b[0m\u001b[1;33m(\u001b[0m\u001b[0mmax_iter\u001b[0m\u001b[1;33m)\u001b[0m\u001b[1;33m\u001b[0m\u001b[1;33m\u001b[0m\u001b[0m\n\u001b[0m\u001b[0;32m    193\u001b[0m \u001b[1;33m\u001b[0m\u001b[0m\n\u001b[0;32m    194\u001b[0m \u001b[1;33m\u001b[0m\u001b[0m\n",
      "\u001b[1;31mPowerIterationFailedConvergence\u001b[0m: (PowerIterationFailedConvergence(...), 'power iteration failed to converge within 1000 iterations')"
     ]
    }
   ],
   "source": [
    "katz_centrality(SNetF)"
   ]
  },
  {
   "cell_type": "code",
   "execution_count": null,
   "metadata": {},
   "outputs": [],
   "source": [
    "special_bets = [2.0, 4.0, 16.0, 256.0] # experiment"
   ]
  },
  {
   "cell_type": "markdown",
   "metadata": {},
   "source": [
    "# *TODO* Since katz isn't working for me, I don't know how to test. I will get back to it "
   ]
  },
  {
   "cell_type": "markdown",
   "metadata": {},
   "source": [
    "##  19 Taking into account the previous results, create a composite centrality (heuristic) used for finding the most influencial actors. Take into consideration the direction of network's edges. \n",
    "\n",
    "As we saw that DC, CC, BC and EC were positivly coupled, we can merely get the product of the four.\n",
    "\n",
    "**Composite Centrality = DC x CC x BC x EC**"
   ]
  },
  {
   "cell_type": "code",
   "execution_count": 137,
   "metadata": {},
   "outputs": [],
   "source": [
    "# reset snett\n",
    "snett_centralities = centralities(SNetT)\n",
    "snett_centralities = snett_centralities + (eigenvector_centrality(SNetT),)"
   ]
  },
  {
   "cell_type": "code",
   "execution_count": 166,
   "metadata": {
    "scrolled": false
   },
   "outputs": [],
   "source": [
    "from numpy import ones\n",
    "\n",
    "def add_composite_centrality_df(centralities):\n",
    "    df = pd.DataFrame(ones(centralities[0].shape[0]), columns=['Rank'])\n",
    "    df.index = centralities[0].index\n",
    "    return centralities + (df,)\n",
    "\n",
    "def add_rank_column(centrality, columns):\n",
    "    centrality[columns[1]] = centrality[columns[0]].rank(ascending=False)\n",
    "\n",
    "def create_composite_centralities(centralities, offset=0):\n",
    "    centralities = add_composite_centrality_df(centralities)\n",
    "    composite = -1\n",
    "    map_centrality_columns = {0: [\"degree_centrality\", \"Rank_DC\"], 1: [\"closeness_centrality\", \"Rank_DC\"],\n",
    "                        2: [\"betweenness_centrality\", \"Rank_BC\"], 3: [\"eigenvector_centrality\", \"Rank_EC\"]}\n",
    "    for i in range(len(centralities) - 1):\n",
    "        add_rank_column(centralities[i+offset], map_centrality_columns[i])\n",
    "        centralities[composite]['Rank'] *=  centralities[i+offset][map_centrality_columns[i][1]]\n",
    "\n",
    "    centralities[composite].sort_values(by=\"Rank\", ascending=True, inplace=True)\n",
    "    return centralities"
   ]
  },
  {
   "cell_type": "code",
   "execution_count": 151,
   "metadata": {},
   "outputs": [],
   "source": [
    "snet_centralities = create_composite_centralities(snet_centralities)"
   ]
  },
  {
   "cell_type": "code",
   "execution_count": 157,
   "metadata": {},
   "outputs": [
    {
     "name": "stdout",
     "output_type": "stream",
     "text": [
      "Top ten SNet's elements by centrality\n",
      "               degree_centrality  Rank_DC\n",
      "subreddit                                \n",
      "reddit.com              0.714320      1.0\n",
      "politics                0.489976      2.0\n",
      "technology              0.489499      3.0\n",
      "pics                    0.480907      4.0\n",
      "funny                   0.468496      5.0\n",
      "science                 0.464678      6.0\n",
      "entertainment           0.456325      7.0\n",
      "worldnews               0.454654      8.0\n",
      "programming             0.450119      9.0\n",
      "WTF                     0.449403     10.0\n",
      "               closeness_centrality  Rank_DC\n",
      "subreddit                                   \n",
      "reddit.com                 0.722837      1.0\n",
      "technology                 0.576672      2.0\n",
      "politics                   0.576304      3.0\n",
      "pics                       0.571567      4.0\n",
      "funny                      0.565136      5.0\n",
      "science                    0.563258      6.0\n",
      "entertainment              0.559424      7.0\n",
      "worldnews                  0.558732      8.0\n",
      "programming                0.555755      9.5\n",
      "WTF                        0.555755      9.5\n",
      "               betweenness_centrality  Rank_BC\n",
      "subreddit                                     \n",
      "reddit.com                   0.248260      1.0\n",
      "technology                   0.031858      2.0\n",
      "programming                  0.029536      3.0\n",
      "politics                     0.028278      4.0\n",
      "business                     0.026771      5.0\n",
      "pics                         0.025234      6.0\n",
      "entertainment                0.024741      7.0\n",
      "worldnews                    0.021677      8.0\n",
      "funny                        0.021132      9.0\n",
      "science                      0.020552     10.0\n",
      "                Rank\n",
      "subreddit           \n",
      "reddit.com       1.0\n",
      "technology      12.0\n",
      "politics        24.0\n",
      "pics            96.0\n",
      "funny          225.0\n",
      "programming    256.5\n",
      "entertainment  343.0\n",
      "science        360.0\n",
      "worldnews      512.0\n",
      "business       605.0\n"
     ]
    }
   ],
   "source": [
    "print_top_ten_centralities(\"SNet\",snet_centralities)"
   ]
  },
  {
   "cell_type": "code",
   "execution_count": 152,
   "metadata": {},
   "outputs": [],
   "source": [
    "snetf_centralities = create_composite_centralities(snetf_centralities)"
   ]
  },
  {
   "cell_type": "code",
   "execution_count": 158,
   "metadata": {},
   "outputs": [
    {
     "name": "stdout",
     "output_type": "stream",
     "text": [
      "Top ten SNetF's elements by centrality\n",
      "               degree_centrality  Rank_DC\n",
      "subreddit                                \n",
      "reddit.com              0.057041      1.0\n",
      "pics                    0.050597      2.0\n",
      "politics                0.050119      3.0\n",
      "science                 0.049403      4.5\n",
      "technology              0.049403      4.5\n",
      "funny                   0.048687      6.0\n",
      "worldnews               0.047971      7.0\n",
      "WTF                     0.046539      8.0\n",
      "entertainment           0.046062      9.0\n",
      "programming             0.044391     10.0\n",
      "               closeness_centrality  Rank_DC\n",
      "subreddit                                   \n",
      "reddit.com                 0.057056      1.0\n",
      "pics                       0.051061      2.0\n",
      "politics                   0.050694      3.0\n",
      "science                    0.050152      4.5\n",
      "technology                 0.050152      4.5\n",
      "funny                      0.049623      6.0\n",
      "worldnews                  0.049104      7.0\n",
      "WTF                        0.048098      8.0\n",
      "entertainment              0.047772      9.0\n",
      "programming                0.046665     10.0\n",
      "               betweenness_centrality  Rank_BC\n",
      "subreddit                                     \n",
      "reddit.com                   0.000857      1.0\n",
      "politics                     0.000180      2.0\n",
      "pics                         0.000178      3.0\n",
      "technology                   0.000150      4.0\n",
      "science                      0.000148      5.0\n",
      "programming                  0.000140      6.0\n",
      "funny                        0.000138      7.0\n",
      "worldnews                    0.000134      8.0\n",
      "WTF                          0.000107      9.0\n",
      "entertainment                0.000103     10.0\n",
      "                 Rank\n",
      "subreddit            \n",
      "reddit.com       1.00\n",
      "pics            12.00\n",
      "politics        18.00\n",
      "technology      81.00\n",
      "science        101.25\n",
      "funny          252.00\n",
      "worldnews      392.00\n",
      "WTF            576.00\n",
      "programming    600.00\n",
      "entertainment  810.00\n"
     ]
    }
   ],
   "source": [
    "print_top_ten_centralities(\"SNetF\",snetf_centralities)"
   ]
  },
  {
   "cell_type": "code",
   "execution_count": 143,
   "metadata": {},
   "outputs": [],
   "source": [
    "snett_centralities = create_composite_centralities(snett_centralities)"
   ]
  },
  {
   "cell_type": "code",
   "execution_count": 145,
   "metadata": {},
   "outputs": [
    {
     "name": "stdout",
     "output_type": "stream",
     "text": [
      "Top ten SNetT's elements by centrality\n",
      "             degree_centrality  Rank_DC\n",
      "subreddit                              \n",
      "reddit.com                 1.0     20.0\n",
      "funny                      1.0     20.0\n",
      "atheism                    1.0     20.0\n",
      "bestof                     1.0     20.0\n",
      "technology                 1.0     20.0\n",
      "WTF                        1.0     20.0\n",
      "canada                     1.0     20.0\n",
      "geek                       1.0     20.0\n",
      "photography                1.0     20.0\n",
      "history                    1.0     20.0\n",
      "             closeness_centrality  Rank_DC\n",
      "subreddit                                 \n",
      "reddit.com                    1.0     20.0\n",
      "funny                         1.0     20.0\n",
      "atheism                       1.0     20.0\n",
      "bestof                        1.0     20.0\n",
      "technology                    1.0     20.0\n",
      "WTF                           1.0     20.0\n",
      "canada                        1.0     20.0\n",
      "geek                          1.0     20.0\n",
      "photography                   1.0     20.0\n",
      "history                       1.0     20.0\n",
      "             betweenness_centrality  Rank_BC\n",
      "subreddit                                   \n",
      "reddit.com                      0.0     20.0\n",
      "funny                           0.0     20.0\n",
      "atheism                         0.0     20.0\n",
      "bestof                          0.0     20.0\n",
      "technology                      0.0     20.0\n",
      "WTF                             0.0     20.0\n",
      "canada                          0.0     20.0\n",
      "geek                            0.0     20.0\n",
      "photography                     0.0     20.0\n",
      "history                         0.0     20.0\n",
      "               eigenvector_centrality  Rank_EC\n",
      "subreddit                                     \n",
      "reddit.com                   0.388978      1.0\n",
      "politics                     0.319382      2.0\n",
      "pics                         0.295185      3.0\n",
      "funny                        0.283491      4.0\n",
      "science                      0.276774      5.0\n",
      "technology                   0.268279      6.0\n",
      "worldnews                    0.261412      7.0\n",
      "WTF                          0.256010      8.0\n",
      "entertainment                0.255542      9.0\n",
      "programming                  0.222823     10.0\n",
      "                  Rank\n",
      "subreddit             \n",
      "reddit.com      8000.0\n",
      "politics       16000.0\n",
      "pics           24000.0\n",
      "funny          32000.0\n",
      "science        40000.0\n",
      "technology     48000.0\n",
      "worldnews      56000.0\n",
      "WTF            64000.0\n",
      "entertainment  72000.0\n",
      "programming    80000.0\n"
     ]
    }
   ],
   "source": [
    "print_top_ten_centralities(\"SNetT\",snett_centralities)"
   ]
  },
  {
   "cell_type": "code",
   "execution_count": 167,
   "metadata": {},
   "outputs": [
    {
     "ename": "KeyError",
     "evalue": "'eigenvector_centrality'",
     "output_type": "error",
     "traceback": [
      "\u001b[1;31m---------------------------------------------------------------------------\u001b[0m",
      "\u001b[1;31mKeyError\u001b[0m                                  Traceback (most recent call last)",
      "\u001b[1;32mC:\\ProgramData\\Anaconda3\\lib\\site-packages\\pandas\\core\\indexes\\base.py\u001b[0m in \u001b[0;36mget_loc\u001b[1;34m(self, key, method, tolerance)\u001b[0m\n\u001b[0;32m   2894\u001b[0m             \u001b[1;32mtry\u001b[0m\u001b[1;33m:\u001b[0m\u001b[1;33m\u001b[0m\u001b[1;33m\u001b[0m\u001b[0m\n\u001b[1;32m-> 2895\u001b[1;33m                 \u001b[1;32mreturn\u001b[0m \u001b[0mself\u001b[0m\u001b[1;33m.\u001b[0m\u001b[0m_engine\u001b[0m\u001b[1;33m.\u001b[0m\u001b[0mget_loc\u001b[0m\u001b[1;33m(\u001b[0m\u001b[0mcasted_key\u001b[0m\u001b[1;33m)\u001b[0m\u001b[1;33m\u001b[0m\u001b[1;33m\u001b[0m\u001b[0m\n\u001b[0m\u001b[0;32m   2896\u001b[0m             \u001b[1;32mexcept\u001b[0m \u001b[0mKeyError\u001b[0m \u001b[1;32mas\u001b[0m \u001b[0merr\u001b[0m\u001b[1;33m:\u001b[0m\u001b[1;33m\u001b[0m\u001b[1;33m\u001b[0m\u001b[0m\n",
      "\u001b[1;32mpandas\\_libs\\index.pyx\u001b[0m in \u001b[0;36mpandas._libs.index.IndexEngine.get_loc\u001b[1;34m()\u001b[0m\n",
      "\u001b[1;32mpandas\\_libs\\index.pyx\u001b[0m in \u001b[0;36mpandas._libs.index.IndexEngine.get_loc\u001b[1;34m()\u001b[0m\n",
      "\u001b[1;32mpandas\\_libs\\hashtable_class_helper.pxi\u001b[0m in \u001b[0;36mpandas._libs.hashtable.PyObjectHashTable.get_item\u001b[1;34m()\u001b[0m\n",
      "\u001b[1;32mpandas\\_libs\\hashtable_class_helper.pxi\u001b[0m in \u001b[0;36mpandas._libs.hashtable.PyObjectHashTable.get_item\u001b[1;34m()\u001b[0m\n",
      "\u001b[1;31mKeyError\u001b[0m: 'eigenvector_centrality'",
      "\nThe above exception was the direct cause of the following exception:\n",
      "\u001b[1;31mKeyError\u001b[0m                                  Traceback (most recent call last)",
      "\u001b[1;32m<ipython-input-167-47161993bc36>\u001b[0m in \u001b[0;36m<module>\u001b[1;34m\u001b[0m\n\u001b[1;32m----> 1\u001b[1;33m \u001b[0musernet_centralities\u001b[0m \u001b[1;33m=\u001b[0m \u001b[0mcreate_composite_centralities\u001b[0m\u001b[1;33m(\u001b[0m\u001b[0musernet_centralities\u001b[0m\u001b[1;33m,\u001b[0m \u001b[1;36m2\u001b[0m\u001b[1;33m)\u001b[0m\u001b[1;33m\u001b[0m\u001b[1;33m\u001b[0m\u001b[0m\n\u001b[0m",
      "\u001b[1;32m<ipython-input-166-a94a7606e201>\u001b[0m in \u001b[0;36mcreate_composite_centralities\u001b[1;34m(centralities, offset)\u001b[0m\n\u001b[0;32m     15\u001b[0m                         2: [\"betweenness_centrality\", \"Rank_BC\"], 3: [\"eigenvector_centrality\", \"Rank_EC\"]}\n\u001b[0;32m     16\u001b[0m     \u001b[1;32mfor\u001b[0m \u001b[0mi\u001b[0m \u001b[1;32min\u001b[0m \u001b[0mrange\u001b[0m\u001b[1;33m(\u001b[0m\u001b[0mlen\u001b[0m\u001b[1;33m(\u001b[0m\u001b[0mcentralities\u001b[0m\u001b[1;33m)\u001b[0m \u001b[1;33m-\u001b[0m \u001b[1;36m1\u001b[0m\u001b[1;33m)\u001b[0m\u001b[1;33m:\u001b[0m\u001b[1;33m\u001b[0m\u001b[1;33m\u001b[0m\u001b[0m\n\u001b[1;32m---> 17\u001b[1;33m         \u001b[0madd_rank_column\u001b[0m\u001b[1;33m(\u001b[0m\u001b[0mcentralities\u001b[0m\u001b[1;33m[\u001b[0m\u001b[0mi\u001b[0m\u001b[1;33m+\u001b[0m\u001b[0moffset\u001b[0m\u001b[1;33m]\u001b[0m\u001b[1;33m,\u001b[0m \u001b[0mmap_centrality_columns\u001b[0m\u001b[1;33m[\u001b[0m\u001b[0mi\u001b[0m\u001b[1;33m]\u001b[0m\u001b[1;33m)\u001b[0m\u001b[1;33m\u001b[0m\u001b[1;33m\u001b[0m\u001b[0m\n\u001b[0m\u001b[0;32m     18\u001b[0m         \u001b[0mcentralities\u001b[0m\u001b[1;33m[\u001b[0m\u001b[0mcomposite\u001b[0m\u001b[1;33m]\u001b[0m\u001b[1;33m[\u001b[0m\u001b[1;34m'Rank'\u001b[0m\u001b[1;33m]\u001b[0m \u001b[1;33m*=\u001b[0m  \u001b[0mcentralities\u001b[0m\u001b[1;33m[\u001b[0m\u001b[0mi\u001b[0m\u001b[1;33m+\u001b[0m\u001b[0moffset\u001b[0m\u001b[1;33m]\u001b[0m\u001b[1;33m[\u001b[0m\u001b[0mmap_centrality_columns\u001b[0m\u001b[1;33m[\u001b[0m\u001b[0mi\u001b[0m\u001b[1;33m]\u001b[0m\u001b[1;33m[\u001b[0m\u001b[1;36m1\u001b[0m\u001b[1;33m]\u001b[0m\u001b[1;33m]\u001b[0m\u001b[1;33m\u001b[0m\u001b[1;33m\u001b[0m\u001b[0m\n\u001b[0;32m     19\u001b[0m \u001b[1;33m\u001b[0m\u001b[0m\n",
      "\u001b[1;32m<ipython-input-166-a94a7606e201>\u001b[0m in \u001b[0;36madd_rank_column\u001b[1;34m(centrality, columns)\u001b[0m\n\u001b[0;32m      7\u001b[0m \u001b[1;33m\u001b[0m\u001b[0m\n\u001b[0;32m      8\u001b[0m \u001b[1;32mdef\u001b[0m \u001b[0madd_rank_column\u001b[0m\u001b[1;33m(\u001b[0m\u001b[0mcentrality\u001b[0m\u001b[1;33m,\u001b[0m \u001b[0mcolumns\u001b[0m\u001b[1;33m)\u001b[0m\u001b[1;33m:\u001b[0m\u001b[1;33m\u001b[0m\u001b[1;33m\u001b[0m\u001b[0m\n\u001b[1;32m----> 9\u001b[1;33m     \u001b[0mcentrality\u001b[0m\u001b[1;33m[\u001b[0m\u001b[0mcolumns\u001b[0m\u001b[1;33m[\u001b[0m\u001b[1;36m1\u001b[0m\u001b[1;33m]\u001b[0m\u001b[1;33m]\u001b[0m \u001b[1;33m=\u001b[0m \u001b[0mcentrality\u001b[0m\u001b[1;33m[\u001b[0m\u001b[0mcolumns\u001b[0m\u001b[1;33m[\u001b[0m\u001b[1;36m0\u001b[0m\u001b[1;33m]\u001b[0m\u001b[1;33m]\u001b[0m\u001b[1;33m.\u001b[0m\u001b[0mrank\u001b[0m\u001b[1;33m(\u001b[0m\u001b[0mascending\u001b[0m\u001b[1;33m=\u001b[0m\u001b[1;32mFalse\u001b[0m\u001b[1;33m)\u001b[0m\u001b[1;33m\u001b[0m\u001b[1;33m\u001b[0m\u001b[0m\n\u001b[0m\u001b[0;32m     10\u001b[0m \u001b[1;33m\u001b[0m\u001b[0m\n\u001b[0;32m     11\u001b[0m \u001b[1;32mdef\u001b[0m \u001b[0mcreate_composite_centralities\u001b[0m\u001b[1;33m(\u001b[0m\u001b[0mcentralities\u001b[0m\u001b[1;33m,\u001b[0m \u001b[0moffset\u001b[0m\u001b[1;33m=\u001b[0m\u001b[1;36m0\u001b[0m\u001b[1;33m)\u001b[0m\u001b[1;33m:\u001b[0m\u001b[1;33m\u001b[0m\u001b[1;33m\u001b[0m\u001b[0m\n",
      "\u001b[1;32mC:\\ProgramData\\Anaconda3\\lib\\site-packages\\pandas\\core\\frame.py\u001b[0m in \u001b[0;36m__getitem__\u001b[1;34m(self, key)\u001b[0m\n\u001b[0;32m   2900\u001b[0m             \u001b[1;32mif\u001b[0m \u001b[0mself\u001b[0m\u001b[1;33m.\u001b[0m\u001b[0mcolumns\u001b[0m\u001b[1;33m.\u001b[0m\u001b[0mnlevels\u001b[0m \u001b[1;33m>\u001b[0m \u001b[1;36m1\u001b[0m\u001b[1;33m:\u001b[0m\u001b[1;33m\u001b[0m\u001b[1;33m\u001b[0m\u001b[0m\n\u001b[0;32m   2901\u001b[0m                 \u001b[1;32mreturn\u001b[0m \u001b[0mself\u001b[0m\u001b[1;33m.\u001b[0m\u001b[0m_getitem_multilevel\u001b[0m\u001b[1;33m(\u001b[0m\u001b[0mkey\u001b[0m\u001b[1;33m)\u001b[0m\u001b[1;33m\u001b[0m\u001b[1;33m\u001b[0m\u001b[0m\n\u001b[1;32m-> 2902\u001b[1;33m             \u001b[0mindexer\u001b[0m \u001b[1;33m=\u001b[0m \u001b[0mself\u001b[0m\u001b[1;33m.\u001b[0m\u001b[0mcolumns\u001b[0m\u001b[1;33m.\u001b[0m\u001b[0mget_loc\u001b[0m\u001b[1;33m(\u001b[0m\u001b[0mkey\u001b[0m\u001b[1;33m)\u001b[0m\u001b[1;33m\u001b[0m\u001b[1;33m\u001b[0m\u001b[0m\n\u001b[0m\u001b[0;32m   2903\u001b[0m             \u001b[1;32mif\u001b[0m \u001b[0mis_integer\u001b[0m\u001b[1;33m(\u001b[0m\u001b[0mindexer\u001b[0m\u001b[1;33m)\u001b[0m\u001b[1;33m:\u001b[0m\u001b[1;33m\u001b[0m\u001b[1;33m\u001b[0m\u001b[0m\n\u001b[0;32m   2904\u001b[0m                 \u001b[0mindexer\u001b[0m \u001b[1;33m=\u001b[0m \u001b[1;33m[\u001b[0m\u001b[0mindexer\u001b[0m\u001b[1;33m]\u001b[0m\u001b[1;33m\u001b[0m\u001b[1;33m\u001b[0m\u001b[0m\n",
      "\u001b[1;32mC:\\ProgramData\\Anaconda3\\lib\\site-packages\\pandas\\core\\indexes\\base.py\u001b[0m in \u001b[0;36mget_loc\u001b[1;34m(self, key, method, tolerance)\u001b[0m\n\u001b[0;32m   2895\u001b[0m                 \u001b[1;32mreturn\u001b[0m \u001b[0mself\u001b[0m\u001b[1;33m.\u001b[0m\u001b[0m_engine\u001b[0m\u001b[1;33m.\u001b[0m\u001b[0mget_loc\u001b[0m\u001b[1;33m(\u001b[0m\u001b[0mcasted_key\u001b[0m\u001b[1;33m)\u001b[0m\u001b[1;33m\u001b[0m\u001b[1;33m\u001b[0m\u001b[0m\n\u001b[0;32m   2896\u001b[0m             \u001b[1;32mexcept\u001b[0m \u001b[0mKeyError\u001b[0m \u001b[1;32mas\u001b[0m \u001b[0merr\u001b[0m\u001b[1;33m:\u001b[0m\u001b[1;33m\u001b[0m\u001b[1;33m\u001b[0m\u001b[0m\n\u001b[1;32m-> 2897\u001b[1;33m                 \u001b[1;32mraise\u001b[0m \u001b[0mKeyError\u001b[0m\u001b[1;33m(\u001b[0m\u001b[0mkey\u001b[0m\u001b[1;33m)\u001b[0m \u001b[1;32mfrom\u001b[0m \u001b[0merr\u001b[0m\u001b[1;33m\u001b[0m\u001b[1;33m\u001b[0m\u001b[0m\n\u001b[0m\u001b[0;32m   2898\u001b[0m \u001b[1;33m\u001b[0m\u001b[0m\n\u001b[0;32m   2899\u001b[0m         \u001b[1;32mif\u001b[0m \u001b[0mtolerance\u001b[0m \u001b[1;32mis\u001b[0m \u001b[1;32mnot\u001b[0m \u001b[1;32mNone\u001b[0m\u001b[1;33m:\u001b[0m\u001b[1;33m\u001b[0m\u001b[1;33m\u001b[0m\u001b[0m\n",
      "\u001b[1;31mKeyError\u001b[0m: 'eigenvector_centrality'"
     ]
    }
   ],
   "source": [
    "usernet_centralities = create_composite_centralities(usernet_centralities, 2)"
   ]
  },
  {
   "cell_type": "code",
   "execution_count": 172,
   "metadata": {},
   "outputs": [
    {
     "ename": "IndexError",
     "evalue": "tuple index out of range",
     "output_type": "error",
     "traceback": [
      "\u001b[1;31m---------------------------------------------------------------------------\u001b[0m",
      "\u001b[1;31mIndexError\u001b[0m                                Traceback (most recent call last)",
      "\u001b[1;32m<ipython-input-172-cf89a172566e>\u001b[0m in \u001b[0;36m<module>\u001b[1;34m\u001b[0m\n\u001b[1;32m----> 1\u001b[1;33m \u001b[0musernet_centralities\u001b[0m\u001b[1;33m[\u001b[0m\u001b[1;36m5\u001b[0m\u001b[1;33m]\u001b[0m\u001b[1;33m\u001b[0m\u001b[1;33m\u001b[0m\u001b[0m\n\u001b[0m",
      "\u001b[1;31mIndexError\u001b[0m: tuple index out of range"
     ]
    }
   ],
   "source": [
    "usernet_centralities[5]"
   ]
  },
  {
   "cell_type": "code",
   "execution_count": 161,
   "metadata": {},
   "outputs": [
    {
     "name": "stdout",
     "output_type": "stream",
     "text": [
      "Top ten UserNet's elements by centrality\n",
      "                 in_degree_centrality\n",
      "subreddit                            \n",
      "NoMoreNicksLeft              0.024507\n",
      "7oby                         0.022873\n",
      "mutatron                     0.021292\n",
      "Poromenos                    0.017392\n",
      "fingers                      0.016338\n",
      "matts2                       0.015969\n",
      "amstrdamordeath              0.015811\n",
      "MrKlaatu                     0.015811\n",
      "nixonrichard                 0.015495\n",
      "malcontent                   0.015284\n",
      "                out_degree_centrality\n",
      "subreddit                            \n",
      "alllie                       0.055866\n",
      "7oby                         0.049120\n",
      "rmuser                       0.045272\n",
      "qgyh2                        0.039791\n",
      "deuteros                     0.029092\n",
      "tsteele93                    0.027511\n",
      "bobcat                       0.023032\n",
      "grauenwolf                   0.017919\n",
      "Aerik                        0.017340\n",
      "AMerrickanGirl               0.017129\n",
      "                 degree_centrality\n",
      "subreddit                         \n",
      "7oby                      0.071993\n",
      "alllie                    0.066249\n",
      "rmuser                    0.050701\n",
      "qgyh2                     0.047855\n",
      "deuteros                  0.038421\n",
      "tsteele93                 0.035997\n",
      "NoMoreNicksLeft           0.034784\n",
      "bobcat                    0.031042\n",
      "mutatron                  0.028249\n",
      "jordanlund                0.025772\n",
      "                 closeness_centrality\n",
      "subreddit                            \n",
      "7oby                         0.191426\n",
      "NoMoreNicksLeft              0.189188\n",
      "mutatron                     0.183276\n",
      "fingers                      0.182613\n",
      "Poromenos                    0.182364\n",
      "amstrdamordeath              0.181606\n",
      "MrKlaatu                     0.181215\n",
      "sakebomb69                   0.180446\n",
      "uteunawaytay                 0.178815\n",
      "nixonrichard                 0.177569\n",
      "                 betweenness_centrality\n",
      "subreddit                              \n",
      "7oby                           0.038758\n",
      "alllie                         0.021461\n",
      "qgyh2                          0.015406\n",
      "rmuser                         0.014558\n",
      "NoMoreNicksLeft                0.012480\n",
      "mutatron                       0.010970\n",
      "tsteele93                      0.010731\n",
      "deuteros                       0.009837\n",
      "bobcat                         0.008828\n",
      "glengyron                      0.008512\n"
     ]
    }
   ],
   "source": [
    "print_top_ten_centralities(\"UserNet\",usernet_centralities)"
   ]
  }
 ],
 "metadata": {
  "kernelspec": {
   "display_name": "Python 3",
   "language": "python",
   "name": "python3"
  },
  "language_info": {
   "codemirror_mode": {
    "name": "ipython",
    "version": 3
   },
   "file_extension": ".py",
   "mimetype": "text/x-python",
   "name": "python",
   "nbconvert_exporter": "python",
   "pygments_lexer": "ipython3",
   "version": "3.8.5"
  }
 },
 "nbformat": 4,
 "nbformat_minor": 4
}
